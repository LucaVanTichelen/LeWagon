{
 "cells": [
  {
   "cell_type": "markdown",
   "metadata": {},
   "source": [
    "# Custom Transformer"
   ]
  },
  {
   "cell_type": "code",
   "execution_count": 21,
   "metadata": {},
   "outputs": [],
   "source": [
    "import seaborn as sns\n",
    "import pandas as pd\n",
    "import numpy as np\n",
    "from sklearn import set_config; set_config(display='diagram')"
   ]
  },
  {
   "cell_type": "markdown",
   "metadata": {},
   "source": [
    "👇 Consider the following dataset"
   ]
  },
  {
   "cell_type": "code",
   "execution_count": 22,
   "metadata": {},
   "outputs": [
    {
     "data": {
      "text/html": [
       "<div>\n",
       "<style scoped>\n",
       "    .dataframe tbody tr th:only-of-type {\n",
       "        vertical-align: middle;\n",
       "    }\n",
       "\n",
       "    .dataframe tbody tr th {\n",
       "        vertical-align: top;\n",
       "    }\n",
       "\n",
       "    .dataframe thead th {\n",
       "        text-align: right;\n",
       "    }\n",
       "</style>\n",
       "<table border=\"1\" class=\"dataframe\">\n",
       "  <thead>\n",
       "    <tr style=\"text-align: right;\">\n",
       "      <th></th>\n",
       "      <th>customer_state</th>\n",
       "      <th>seller_state</th>\n",
       "      <th>product_weight_g</th>\n",
       "      <th>product_length_cm</th>\n",
       "      <th>product_height_cm</th>\n",
       "      <th>product_width_cm</th>\n",
       "      <th>days_until_delivery</th>\n",
       "    </tr>\n",
       "  </thead>\n",
       "  <tbody>\n",
       "    <tr>\n",
       "      <th>0</th>\n",
       "      <td>RJ</td>\n",
       "      <td>SP</td>\n",
       "      <td>1825</td>\n",
       "      <td>53</td>\n",
       "      <td>10</td>\n",
       "      <td>40</td>\n",
       "      <td>9</td>\n",
       "    </tr>\n",
       "    <tr>\n",
       "      <th>1</th>\n",
       "      <td>RJ</td>\n",
       "      <td>SP</td>\n",
       "      <td>700</td>\n",
       "      <td>65</td>\n",
       "      <td>18</td>\n",
       "      <td>28</td>\n",
       "      <td>9</td>\n",
       "    </tr>\n",
       "    <tr>\n",
       "      <th>2</th>\n",
       "      <td>RJ</td>\n",
       "      <td>SP</td>\n",
       "      <td>1825</td>\n",
       "      <td>53</td>\n",
       "      <td>10</td>\n",
       "      <td>40</td>\n",
       "      <td>11</td>\n",
       "    </tr>\n",
       "    <tr>\n",
       "      <th>3</th>\n",
       "      <td>RJ</td>\n",
       "      <td>SP</td>\n",
       "      <td>1825</td>\n",
       "      <td>53</td>\n",
       "      <td>10</td>\n",
       "      <td>40</td>\n",
       "      <td>12</td>\n",
       "    </tr>\n",
       "    <tr>\n",
       "      <th>4</th>\n",
       "      <td>RJ</td>\n",
       "      <td>SP</td>\n",
       "      <td>1825</td>\n",
       "      <td>53</td>\n",
       "      <td>10</td>\n",
       "      <td>40</td>\n",
       "      <td>14</td>\n",
       "    </tr>\n",
       "  </tbody>\n",
       "</table>\n",
       "</div>"
      ],
      "text/plain": [
       "  customer_state seller_state  product_weight_g  product_length_cm  \\\n",
       "0             RJ           SP              1825                 53   \n",
       "1             RJ           SP               700                 65   \n",
       "2             RJ           SP              1825                 53   \n",
       "3             RJ           SP              1825                 53   \n",
       "4             RJ           SP              1825                 53   \n",
       "\n",
       "   product_height_cm  product_width_cm  days_until_delivery  \n",
       "0                 10                40                    9  \n",
       "1                 18                28                    9  \n",
       "2                 10                40                   11  \n",
       "3                 10                40                   12  \n",
       "4                 10                40                   14  "
      ]
     },
     "execution_count": 22,
     "metadata": {},
     "output_type": "execute_result"
    }
   ],
   "source": [
    "import pandas as pd\n",
    "\n",
    "data = pd.read_csv(\"data.csv\")\n",
    "data.head()"
   ]
  },
  {
   "cell_type": "markdown",
   "metadata": {},
   "source": [
    "- Each observation of the dataset represents an item being delivered from a  `seller_state` to a `customer_state`. \n",
    "- Other columns describe the packaging properties of each item.\n",
    "\n",
    "🎯 The target is the number of days between the order and the delivery."
   ]
  },
  {
   "cell_type": "code",
   "execution_count": 0,
   "metadata": {},
   "outputs": [],
   "source": [
    "# Check target\n",
    "sns.histplot(data.days_until_delivery)"
   ]
  },
  {
   "cell_type": "markdown",
   "metadata": {},
   "source": [
    "## 1. Pipeline"
   ]
  },
  {
   "cell_type": "markdown",
   "metadata": {},
   "source": [
    "👇 Create a scikit-learn pipeline named `pipe`:\n",
    "\n",
    "- Engineer a `volume` feature from the dimensions features\n",
    "- Preserve the original product dimensions features for training\n",
    "- Scale all numerical features\n",
    "- Encode the categorical features\n",
    "- Add a default `Ridge` regression estimator"
   ]
  },
  {
   "cell_type": "markdown",
   "metadata": {},
   "source": [
    "<details><summary>Hints</summary>\n",
    "\n",
    "- There are many ways to create your preprocessed matrix (using `ColumnTransformer` and/or `FeatureUnion`). \n",
    "    \n",
    "- If your transformed feature matrix look wierd, it may be stored as \"sparse\" by the default behavior of `OneHotEncoder(sparse=True)`. Use `.todense()` to turn it back to a dense matrix\n",
    "\n",
    "</details>"
   ]
  },
  {
   "cell_type": "code",
   "execution_count": 23,
   "metadata": {
    "scrolled": true
   },
   "outputs": [
    {
     "data": {
      "text/html": [
       "<div>\n",
       "<style scoped>\n",
       "    .dataframe tbody tr th:only-of-type {\n",
       "        vertical-align: middle;\n",
       "    }\n",
       "\n",
       "    .dataframe tbody tr th {\n",
       "        vertical-align: top;\n",
       "    }\n",
       "\n",
       "    .dataframe thead th {\n",
       "        text-align: right;\n",
       "    }\n",
       "</style>\n",
       "<table border=\"1\" class=\"dataframe\">\n",
       "  <thead>\n",
       "    <tr style=\"text-align: right;\">\n",
       "      <th></th>\n",
       "      <th>customer_state</th>\n",
       "      <th>seller_state</th>\n",
       "      <th>product_weight_g</th>\n",
       "      <th>product_length_cm</th>\n",
       "      <th>product_height_cm</th>\n",
       "      <th>product_width_cm</th>\n",
       "    </tr>\n",
       "  </thead>\n",
       "  <tbody>\n",
       "    <tr>\n",
       "      <th>0</th>\n",
       "      <td>RJ</td>\n",
       "      <td>SP</td>\n",
       "      <td>1825</td>\n",
       "      <td>53</td>\n",
       "      <td>10</td>\n",
       "      <td>40</td>\n",
       "    </tr>\n",
       "  </tbody>\n",
       "</table>\n",
       "</div>"
      ],
      "text/plain": [
       "  customer_state seller_state  product_weight_g  product_length_cm  \\\n",
       "0             RJ           SP              1825                 53   \n",
       "\n",
       "   product_height_cm  product_width_cm  \n",
       "0                 10                40  "
      ]
     },
     "execution_count": 23,
     "metadata": {},
     "output_type": "execute_result"
    }
   ],
   "source": [
    "# YOUR CODE HERE"
   ]
  },
  {
   "cell_type": "markdown",
   "metadata": {},
   "source": [
    "#### 🧪 Test your pipe"
   ]
  },
  {
   "cell_type": "code",
   "execution_count": 0,
   "metadata": {},
   "outputs": [],
   "source": [
    "from nbresult import ChallengeResult\n",
    "\n",
    "pipe_test = pipe\n",
    "\n",
    "# Check that it doesn't crash\n",
    "assert pipe_test.fit(X,y)\n",
    "\n",
    "result = ChallengeResult('pipe', \n",
    "                         shape = pipe_test[:-1].fit_transform(X).shape\n",
    ")\n",
    "result.write()\n",
    "print(result.check())"
   ]
  },
  {
   "cell_type": "markdown",
   "metadata": {},
   "source": [
    "## 2. Train and Predict"
   ]
  },
  {
   "cell_type": "markdown",
   "metadata": {},
   "source": [
    "👇 Let's imagine `data` is your entire training set.\n",
    "\n",
    "- `cross_validate` your pipeline on this dataset (❗️low r2 score are expected)\n",
    "- Now, imagine you just received an new order `new_data`: predict it's duration of delivery in a variable `prediction`"
   ]
  },
  {
   "cell_type": "code",
   "execution_count": 0,
   "metadata": {},
   "outputs": [],
   "source": [
    "new_data = pd.read_csv(\"data_new.csv\")\n",
    "new_data"
   ]
  },
  {
   "cell_type": "code",
   "execution_count": 34,
   "metadata": {},
   "outputs": [
    {
     "data": {
      "text/html": [
       "<style>#sk-d2ec5205-6313-4f08-b0fe-4c6b62a341dd {color: black;background-color: white;}#sk-d2ec5205-6313-4f08-b0fe-4c6b62a341dd pre{padding: 0;}#sk-d2ec5205-6313-4f08-b0fe-4c6b62a341dd div.sk-toggleable {background-color: white;}#sk-d2ec5205-6313-4f08-b0fe-4c6b62a341dd label.sk-toggleable__label {cursor: pointer;display: block;width: 100%;margin-bottom: 0;padding: 0.3em;box-sizing: border-box;text-align: center;}#sk-d2ec5205-6313-4f08-b0fe-4c6b62a341dd div.sk-toggleable__content {max-height: 0;max-width: 0;overflow: hidden;text-align: left;background-color: #f0f8ff;}#sk-d2ec5205-6313-4f08-b0fe-4c6b62a341dd div.sk-toggleable__content pre {margin: 0.2em;color: black;border-radius: 0.25em;background-color: #f0f8ff;}#sk-d2ec5205-6313-4f08-b0fe-4c6b62a341dd input.sk-toggleable__control:checked~div.sk-toggleable__content {max-height: 200px;max-width: 100%;overflow: auto;}#sk-d2ec5205-6313-4f08-b0fe-4c6b62a341dd div.sk-estimator input.sk-toggleable__control:checked~label.sk-toggleable__label {background-color: #d4ebff;}#sk-d2ec5205-6313-4f08-b0fe-4c6b62a341dd div.sk-label input.sk-toggleable__control:checked~label.sk-toggleable__label {background-color: #d4ebff;}#sk-d2ec5205-6313-4f08-b0fe-4c6b62a341dd input.sk-hidden--visually {border: 0;clip: rect(1px 1px 1px 1px);clip: rect(1px, 1px, 1px, 1px);height: 1px;margin: -1px;overflow: hidden;padding: 0;position: absolute;width: 1px;}#sk-d2ec5205-6313-4f08-b0fe-4c6b62a341dd div.sk-estimator {font-family: monospace;background-color: #f0f8ff;border: 1px dotted black;border-radius: 0.25em;box-sizing: border-box;margin-bottom: 0.5em;}#sk-d2ec5205-6313-4f08-b0fe-4c6b62a341dd div.sk-estimator:hover {background-color: #d4ebff;}#sk-d2ec5205-6313-4f08-b0fe-4c6b62a341dd div.sk-parallel-item::after {content: \"\";width: 100%;border-bottom: 1px solid gray;flex-grow: 1;}#sk-d2ec5205-6313-4f08-b0fe-4c6b62a341dd div.sk-label:hover label.sk-toggleable__label {background-color: #d4ebff;}#sk-d2ec5205-6313-4f08-b0fe-4c6b62a341dd div.sk-serial::before {content: \"\";position: absolute;border-left: 1px solid gray;box-sizing: border-box;top: 2em;bottom: 0;left: 50%;}#sk-d2ec5205-6313-4f08-b0fe-4c6b62a341dd div.sk-serial {display: flex;flex-direction: column;align-items: center;background-color: white;padding-right: 0.2em;padding-left: 0.2em;}#sk-d2ec5205-6313-4f08-b0fe-4c6b62a341dd div.sk-item {z-index: 1;}#sk-d2ec5205-6313-4f08-b0fe-4c6b62a341dd div.sk-parallel {display: flex;align-items: stretch;justify-content: center;background-color: white;}#sk-d2ec5205-6313-4f08-b0fe-4c6b62a341dd div.sk-parallel::before {content: \"\";position: absolute;border-left: 1px solid gray;box-sizing: border-box;top: 2em;bottom: 0;left: 50%;}#sk-d2ec5205-6313-4f08-b0fe-4c6b62a341dd div.sk-parallel-item {display: flex;flex-direction: column;position: relative;background-color: white;}#sk-d2ec5205-6313-4f08-b0fe-4c6b62a341dd div.sk-parallel-item:first-child::after {align-self: flex-end;width: 50%;}#sk-d2ec5205-6313-4f08-b0fe-4c6b62a341dd div.sk-parallel-item:last-child::after {align-self: flex-start;width: 50%;}#sk-d2ec5205-6313-4f08-b0fe-4c6b62a341dd div.sk-parallel-item:only-child::after {width: 0;}#sk-d2ec5205-6313-4f08-b0fe-4c6b62a341dd div.sk-dashed-wrapped {border: 1px dashed gray;margin: 0 0.4em 0.5em 0.4em;box-sizing: border-box;padding-bottom: 0.4em;background-color: white;position: relative;}#sk-d2ec5205-6313-4f08-b0fe-4c6b62a341dd div.sk-label label {font-family: monospace;font-weight: bold;background-color: white;display: inline-block;line-height: 1.2em;}#sk-d2ec5205-6313-4f08-b0fe-4c6b62a341dd div.sk-label-container {position: relative;z-index: 2;text-align: center;}#sk-d2ec5205-6313-4f08-b0fe-4c6b62a341dd div.sk-container {display: inline-block;position: relative;}</style><div id=\"sk-d2ec5205-6313-4f08-b0fe-4c6b62a341dd\" class\"sk-top-container\"><div class=\"sk-container\"><div class=\"sk-item sk-dashed-wrapped\"><div class=\"sk-label-container\"><div class=\"sk-label sk-toggleable\"><input class=\"sk-toggleable__control sk-hidden--visually\" id=\"26b8c55c-bfc7-4e79-a426-d9f680c57611\" type=\"checkbox\" ><label class=\"sk-toggleable__label\" for=\"26b8c55c-bfc7-4e79-a426-d9f680c57611\">Pipeline</label><div class=\"sk-toggleable__content\"><pre>Pipeline(steps=[('union',\n",
       "                 FeatureUnion(transformer_list=[('preprocessing',\n",
       "                                                 ColumnTransformer(remainder='passthrough',\n",
       "                                                                   transformers=[('num_transformer',\n",
       "                                                                                  Pipeline(steps=[('scaler',\n",
       "                                                                                                   MinMaxScaler())]),\n",
       "                                                                                  <sklearn.compose._column_transformer.make_column_selector object at 0x7facc82b8610>),\n",
       "                                                                                 ('cat_transformer',\n",
       "                                                                                  Pipeline(steps=[('OneHotEncoder',\n",
       "                                                                                                   OneHotEncoder(handle_unknown='ignore'))]),\n",
       "                                                                                  <sklearn.compose._column_transformer.make_column_selector object at 0x7facc82b8100>)])),\n",
       "                                                ('volume',\n",
       "                                                 FunctionTransformer(func=<function <lambda> at 0x7facc81bc310>))])),\n",
       "                ('linear_regression', Ridge())])</pre></div></div></div><div class=\"sk-serial\"><div class=\"sk-item sk-dashed-wrapped\"><div class=\"sk-label-container\"><div class=\"sk-label sk-toggleable\"><input class=\"sk-toggleable__control sk-hidden--visually\" id=\"582dea77-9f9c-4d04-94f4-fa47877067da\" type=\"checkbox\" ><label class=\"sk-toggleable__label\" for=\"582dea77-9f9c-4d04-94f4-fa47877067da\">union: FeatureUnion</label><div class=\"sk-toggleable__content\"><pre>FeatureUnion(transformer_list=[('preprocessing',\n",
       "                                ColumnTransformer(remainder='passthrough',\n",
       "                                                  transformers=[('num_transformer',\n",
       "                                                                 Pipeline(steps=[('scaler',\n",
       "                                                                                  MinMaxScaler())]),\n",
       "                                                                 <sklearn.compose._column_transformer.make_column_selector object at 0x7facc82b8610>),\n",
       "                                                                ('cat_transformer',\n",
       "                                                                 Pipeline(steps=[('OneHotEncoder',\n",
       "                                                                                  OneHotEncoder(handle_unknown='ignore'))]),\n",
       "                                                                 <sklearn.compose._column_transformer.make_column_selector object at 0x7facc82b8100>)])),\n",
       "                               ('volume',\n",
       "                                FunctionTransformer(func=<function <lambda> at 0x7facc81bc310>))])</pre></div></div></div><div class=\"sk-parallel\"><div class=\"sk-parallel-item\"><div class=\"sk-item\"><div class=\"sk-label-container\"><div class=\"sk-label sk-toggleable\"><label>preprocessing</label></div></div><div class=\"sk-serial\"><div class=\"sk-item sk-dashed-wrapped\"><div class=\"sk-parallel\"><div class=\"sk-parallel-item\"><div class=\"sk-item\"><div class=\"sk-label-container\"><div class=\"sk-label sk-toggleable\"><input class=\"sk-toggleable__control sk-hidden--visually\" id=\"3a3f5d09-a6c9-4637-9650-8902838830eb\" type=\"checkbox\" ><label class=\"sk-toggleable__label\" for=\"3a3f5d09-a6c9-4637-9650-8902838830eb\">num_transformer</label><div class=\"sk-toggleable__content\"><pre><sklearn.compose._column_transformer.make_column_selector object at 0x7facc82b8610></pre></div></div></div><div class=\"sk-serial\"><div class=\"sk-item\"><div class=\"sk-serial\"><div class=\"sk-item\"><div class=\"sk-estimator sk-toggleable\"><input class=\"sk-toggleable__control sk-hidden--visually\" id=\"86b52bcf-7658-4998-b66f-3d0fb76afed6\" type=\"checkbox\" ><label class=\"sk-toggleable__label\" for=\"86b52bcf-7658-4998-b66f-3d0fb76afed6\">MinMaxScaler</label><div class=\"sk-toggleable__content\"><pre>MinMaxScaler()</pre></div></div></div></div></div></div></div></div><div class=\"sk-parallel-item\"><div class=\"sk-item\"><div class=\"sk-label-container\"><div class=\"sk-label sk-toggleable\"><input class=\"sk-toggleable__control sk-hidden--visually\" id=\"a58abff8-a387-48ab-b696-d1ae86bf8b4a\" type=\"checkbox\" ><label class=\"sk-toggleable__label\" for=\"a58abff8-a387-48ab-b696-d1ae86bf8b4a\">cat_transformer</label><div class=\"sk-toggleable__content\"><pre><sklearn.compose._column_transformer.make_column_selector object at 0x7facc82b8100></pre></div></div></div><div class=\"sk-serial\"><div class=\"sk-item\"><div class=\"sk-serial\"><div class=\"sk-item\"><div class=\"sk-estimator sk-toggleable\"><input class=\"sk-toggleable__control sk-hidden--visually\" id=\"222f1c8a-16d7-4b9a-9412-612264df14bb\" type=\"checkbox\" ><label class=\"sk-toggleable__label\" for=\"222f1c8a-16d7-4b9a-9412-612264df14bb\">OneHotEncoder</label><div class=\"sk-toggleable__content\"><pre>OneHotEncoder(handle_unknown='ignore')</pre></div></div></div></div></div></div></div></div><div class=\"sk-parallel-item\"><div class=\"sk-item\"><div class=\"sk-label-container\"><div class=\"sk-label sk-toggleable\"><input class=\"sk-toggleable__control sk-hidden--visually\" id=\"8b7ebe8f-67f6-4ecd-90e0-eac00637d656\" type=\"checkbox\" ><label class=\"sk-toggleable__label\" for=\"8b7ebe8f-67f6-4ecd-90e0-eac00637d656\">remainder</label><div class=\"sk-toggleable__content\"><pre>[]</pre></div></div></div><div class=\"sk-serial\"><div class=\"sk-item\"><div class=\"sk-estimator sk-toggleable\"><input class=\"sk-toggleable__control sk-hidden--visually\" id=\"299b6e14-754b-4a5f-b09a-c965014ae4c3\" type=\"checkbox\" ><label class=\"sk-toggleable__label\" for=\"299b6e14-754b-4a5f-b09a-c965014ae4c3\">passthrough</label><div class=\"sk-toggleable__content\"><pre>passthrough</pre></div></div></div></div></div></div></div></div></div></div></div><div class=\"sk-parallel-item\"><div class=\"sk-item\"><div class=\"sk-label-container\"><div class=\"sk-label sk-toggleable\"><label>volume</label></div></div><div class=\"sk-serial\"><div class=\"sk-item\"><div class=\"sk-estimator sk-toggleable\"><input class=\"sk-toggleable__control sk-hidden--visually\" id=\"e55975a5-951f-4b36-a340-8c585cac0317\" type=\"checkbox\" ><label class=\"sk-toggleable__label\" for=\"e55975a5-951f-4b36-a340-8c585cac0317\">FunctionTransformer</label><div class=\"sk-toggleable__content\"><pre>FunctionTransformer(func=<function <lambda> at 0x7facc81bc310>)</pre></div></div></div></div></div></div></div></div><div class=\"sk-item\"><div class=\"sk-estimator sk-toggleable\"><input class=\"sk-toggleable__control sk-hidden--visually\" id=\"4e94bf3b-d190-49b3-a92f-3b50c6269b82\" type=\"checkbox\" ><label class=\"sk-toggleable__label\" for=\"4e94bf3b-d190-49b3-a92f-3b50c6269b82\">Ridge</label><div class=\"sk-toggleable__content\"><pre>Ridge()</pre></div></div></div></div></div></div></div>"
      ],
      "text/plain": [
       "Pipeline(steps=[('union',\n",
       "                 FeatureUnion(transformer_list=[('preprocessing',\n",
       "                                                 ColumnTransformer(remainder='passthrough',\n",
       "                                                                   transformers=[('num_transformer',\n",
       "                                                                                  Pipeline(steps=[('scaler',\n",
       "                                                                                                   MinMaxScaler())]),\n",
       "                                                                                  <sklearn.compose._column_transformer.make_column_selector object at 0x7facc82b8610>),\n",
       "                                                                                 ('cat_transformer',\n",
       "                                                                                  Pipeline(steps=[('OneHotEncoder',\n",
       "                                                                                                   OneHotEncoder(handle_unknown='ignore'))]),\n",
       "                                                                                  <sklearn.compose._column_transformer.make_column_selector object at 0x7facc82b8100>)])),\n",
       "                                                ('volume',\n",
       "                                                 FunctionTransformer(func=<function <lambda> at 0x7facc81bc310>))])),\n",
       "                ('linear_regression', Ridge())])"
      ]
     },
     "execution_count": 34,
     "metadata": {},
     "output_type": "execute_result"
    }
   ],
   "source": [
    "from sklearn.pipeline import Pipeline\n",
    "from sklearn.preprocessing import MinMaxScaler\n",
    "from sklearn.preprocessing import OneHotEncoder\n",
    "from sklearn.compose import ColumnTransformer\n",
    "from sklearn.compose import make_column_selector\n",
    "from sklearn.linear_model import Ridge\n",
    "from sklearn.pipeline import FeatureUnion\n",
    "from sklearn.preprocessing import FunctionTransformer\n",
    "from sklearn.model_selection import cross_val_score\n",
    "\n",
    "X = data.drop(columns='days_until_delivery')\n",
    "y = data['days_until_delivery']\n",
    "\n",
    "num_transformer = Pipeline([\n",
    "    ('scaler', MinMaxScaler())\n",
    "])\n",
    "\n",
    "cat_transformer = Pipeline([\n",
    "    ('OneHotEncoder', OneHotEncoder(handle_unknown='ignore'))\n",
    "])\n",
    "\n",
    "preprocessor = ColumnTransformer([\n",
    "    ('num_transformer', num_transformer, make_column_selector(dtype_include=['int64'])),\n",
    "    ('cat_transformer', cat_transformer, make_column_selector(dtype_include=['object']))],\n",
    "    remainder='passthrough')\n",
    "\n",
    "volume = FunctionTransformer(lambda data: pd.DataFrame(data['product_height_cm'] * data['product_length_cm'] * data['product_width_cm']))\n",
    "\n",
    "union = FeatureUnion([\n",
    "    ('preprocessing', preprocessor),\n",
    "    ('volume', volume)\n",
    "])\n",
    "\n",
    "final_pipe = Pipeline([\n",
    "    ('union', union),\n",
    "    ('linear_regression', Ridge())])\n",
    "\n",
    "final_pipe.fit(X, y)"
   ]
  },
  {
   "cell_type": "code",
   "execution_count": 37,
   "metadata": {},
   "outputs": [
    {
     "data": {
      "text/plain": [
       "0.018560887253848402"
      ]
     },
     "execution_count": 37,
     "metadata": {},
     "output_type": "execute_result"
    }
   ],
   "source": [
    "cv = cross_val_score(final_pipe, X, y, cv = 10)\n",
    "score =cv.mean()\n",
    "score"
   ]
  },
  {
   "cell_type": "code",
   "execution_count": 38,
   "metadata": {},
   "outputs": [
    {
     "data": {
      "text/plain": [
       "array([16.83841458])"
      ]
     },
     "execution_count": 38,
     "metadata": {},
     "output_type": "execute_result"
    }
   ],
   "source": [
    "final_pipe.predict(new_data)"
   ]
  }
 ],
 "metadata": {
  "kernelspec": {
   "display_name": "Python 3 (ipykernel)",
   "language": "python",
   "name": "python3"
  },
  "language_info": {
   "codemirror_mode": {
    "name": "ipython",
    "version": 3
   },
   "file_extension": ".py",
   "mimetype": "text/x-python",
   "name": "python",
   "nbconvert_exporter": "python",
   "pygments_lexer": "ipython3",
   "version": "3.8.12"
  },
  "toc": {
   "base_numbering": 1,
   "nav_menu": {},
   "number_sections": false,
   "sideBar": true,
   "skip_h1_title": false,
   "title_cell": "Table of Contents",
   "title_sidebar": "Contents",
   "toc_cell": false,
   "toc_position": {},
   "toc_section_display": true,
   "toc_window_display": false
  },
  "varInspector": {
   "cols": {
    "lenName": 16,
    "lenType": 16,
    "lenVar": 40
   },
   "kernels_config": {
    "python": {
     "delete_cmd_postfix": "",
     "delete_cmd_prefix": "del ",
     "library": "var_list.py",
     "varRefreshCmd": "print(var_dic_list())"
    },
    "r": {
     "delete_cmd_postfix": ") ",
     "delete_cmd_prefix": "rm(",
     "library": "var_list.r",
     "varRefreshCmd": "cat(var_dic_list()) "
    }
   },
   "types_to_exclude": [
    "module",
    "function",
    "builtin_function_or_method",
    "instance",
    "_Feature"
   ],
   "window_display": false
  }
 },
 "nbformat": 4,
 "nbformat_minor": 4
}