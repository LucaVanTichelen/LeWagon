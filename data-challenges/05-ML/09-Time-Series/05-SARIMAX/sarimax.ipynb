{
 "cells": [
  {
   "cell_type": "markdown",
   "metadata": {},
   "source": [
    "# SARIMAX on electricity carbon intensity"
   ]
  },
  {
   "cell_type": "markdown",
   "metadata": {},
   "source": [
    "The website [**electricitymap.org**](https://electricitymap.org) provides real-time data-viz about the origin of electricity consumed around the world. In particular, it provides (sub) hourly view of the CO2-intensity of electricity in grams of CO2-equivalent per kWh electricity consumed (gCO2e/kWh)."
   ]
  },
  {
   "cell_type": "markdown",
   "metadata": {},
   "source": [
    "<img src='electricitymap.jpg' width = 500>"
   ]
  },
  {
   "cell_type": "markdown",
   "metadata": {},
   "source": [
    "\n",
    "Carbon intensity flucutates a lot depending on seasons, weather conditions, imports from neighbors countries, etc...\n",
    "\n",
    "Your goal is to **forecast the hourly carbon intensity of electricity in France up to 48 hours ahead** so as to inform when is best to consumer electricity (e.g. charge electric car)"
   ]
  },
  {
   "cell_type": "markdown",
   "metadata": {},
   "source": [
    "## Challenge"
   ]
  },
  {
   "cell_type": "code",
   "execution_count": 0,
   "metadata": {},
   "outputs": [],
   "source": [
    "import pandas as pd\n",
    "import numpy as np\n",
    "import matplotlib.pyplot as plt"
   ]
  },
  {
   "cell_type": "code",
   "execution_count": 0,
   "metadata": {},
   "outputs": [],
   "source": [
    "# Load the 50Mo CSV!\n",
    "df = pd.read_csv('https://wagon-public-datasets.s3.amazonaws.com/electricity_map_france.csv', parse_dates=['datetime'], index_col=['datetime'])\n",
    "df = df['2016':]"
   ]
  },
  {
   "cell_type": "code",
   "execution_count": 0,
   "metadata": {},
   "outputs": [
    {
     "name": "stdout",
     "output_type": "stream",
     "text": [
      "<class 'pandas.core.frame.DataFrame'>\n",
      "DatetimeIndex: 58948 entries, 2013-01-01 23:00:00+00:00 to 2019-09-26 08:00:00+00:00\n",
      "Data columns (total 72 columns):\n",
      " #   Column                                        Non-Null Count  Dtype  \n",
      "---  ------                                        --------------  -----  \n",
      " 0   timestamp                                     58948 non-null  int64  \n",
      " 1   zone_name                                     58948 non-null  object \n",
      " 2   carbon_intensity_avg                          58870 non-null  float64\n",
      " 3   carbon_intensity_production_avg               58870 non-null  float64\n",
      " 4   carbon_intensity_discharge_avg                36841 non-null  float64\n",
      " 5   carbon_intensity_import_avg                   28591 non-null  float64\n",
      " 6   carbon_rate_avg                               42118 non-null  float64\n",
      " 7   total_production_avg                          58870 non-null  float64\n",
      " 8   total_storage_avg                             58870 non-null  float64\n",
      " 9   total_discharge_avg                           58870 non-null  float64\n",
      " 10  total_import_avg                              42196 non-null  float64\n",
      " 11  total_export_avg                              42196 non-null  float64\n",
      " 12  total_consumption_avg                         42118 non-null  float64\n",
      " 13  production_sources                            58804 non-null  object \n",
      " 14  power_origin_percent_fossil_avg               58870 non-null  float64\n",
      " 15  power_origin_percent_renewable_avg            58870 non-null  float64\n",
      " 16  power_production_biomass_avg                  58870 non-null  float64\n",
      " 17  power_production_coal_avg                     54459 non-null  float64\n",
      " 18  power_production_gas_avg                      58870 non-null  float64\n",
      " 19  power_production_hydro_avg                    58870 non-null  float64\n",
      " 20  power_production_nuclear_avg                  58870 non-null  float64\n",
      " 21  power_production_oil_avg                      58870 non-null  float64\n",
      " 22  power_production_solar_avg                    44486 non-null  float64\n",
      " 23  power_production_wind_avg                     58870 non-null  float64\n",
      " 24  power_production_geothermal_avg               0 non-null      float64\n",
      " 25  power_production_unknown_avg                  0 non-null      float64\n",
      " 26  power_consumption_biomass_avg                 58870 non-null  float64\n",
      " 27  power_consumption_coal_avg                    58870 non-null  float64\n",
      " 28  power_consumption_gas_avg                     58870 non-null  float64\n",
      " 29  power_consumption_hydro_avg                   58870 non-null  float64\n",
      " 30  power_consumption_nuclear_avg                 58870 non-null  float64\n",
      " 31  power_consumption_oil_avg                     58870 non-null  float64\n",
      " 32  power_consumption_solar_avg                   58870 non-null  float64\n",
      " 33  power_consumption_wind_avg                    58870 non-null  float64\n",
      " 34  power_consumption_geothermal_avg              58870 non-null  float64\n",
      " 35  power_consumption_unknown_avg                 58870 non-null  float64\n",
      " 36  power_consumption_hydro_discharge_avg         58870 non-null  float64\n",
      " 37  carbon_origin_percent_biomass_avg             58870 non-null  float64\n",
      " 38  carbon_origin_percent_coal_avg                58870 non-null  float64\n",
      " 39  carbon_origin_percent_gas_avg                 58870 non-null  float64\n",
      " 40  carbon_origin_percent_hydro_avg               58870 non-null  float64\n",
      " 41  carbon_origin_percent_nuclear_avg             58870 non-null  float64\n",
      " 42  carbon_origin_percent_oil_avg                 58870 non-null  float64\n",
      " 43  carbon_origin_percent_solar_avg               58870 non-null  float64\n",
      " 44  carbon_origin_percent_wind_avg                58870 non-null  float64\n",
      " 45  carbon_origin_percent_geothermal_avg          58870 non-null  float64\n",
      " 46  carbon_origin_percent_unknown_avg             58870 non-null  float64\n",
      " 47  carbon_origin_percent_hydro_discharge_avg     58870 non-null  float64\n",
      " 48  power_net_discharge_hydro_avg                 58870 non-null  float64\n",
      " 49  power_net_import_BE_avg                       42194 non-null  float64\n",
      " 50  power_net_import_CH_avg                       41850 non-null  float64\n",
      " 51  power_net_import_DE_avg                       41848 non-null  float64\n",
      " 52  power_net_import_ES_avg                       41924 non-null  float64\n",
      " 53  power_net_import_GB_avg                       41718 non-null  float64\n",
      " 54  power_net_import_IT-NO_avg                    33538 non-null  float64\n",
      " 55  latest_forecasted_dewpoint_avg                25235 non-null  float64\n",
      " 56  latest_forecasted_precipitation_avg           24901 non-null  float64\n",
      " 57  latest_forecasted_solar_avg                   29566 non-null  float64\n",
      " 58  latest_forecasted_temperature_avg             25174 non-null  float64\n",
      " 59  latest_forecasted_wind_x_avg                  29579 non-null  float64\n",
      " 60  latest_forecasted_wind_y_avg                  29579 non-null  float64\n",
      " 61  latest_forecasted_price_avg                   40915 non-null  float64\n",
      " 62  latest_forecasted_production_avg              41757 non-null  float64\n",
      " 63  latest_forecasted_consumption_avg             41805 non-null  float64\n",
      " 64  latest_forecasted_power_net_import_BE_avg     41853 non-null  float64\n",
      " 65  latest_forecasted_power_net_import_CH_avg     41853 non-null  float64\n",
      " 66  latest_forecasted_power_net_import_DE_avg     40269 non-null  float64\n",
      " 67  latest_forecasted_power_net_import_ES_avg     41949 non-null  float64\n",
      " 68  latest_forecasted_power_net_import_GB_avg     41853 non-null  float64\n",
      " 69  latest_forecasted_power_net_import_IT-NO_avg  41397 non-null  float64\n",
      " 70  latest_forecasted_production_solar_avg        41190 non-null  float64\n",
      " 71  latest_forecasted_production_wind_avg         41190 non-null  float64\n",
      "dtypes: float64(69), int64(1), object(2)\n",
      "memory usage: 35.3+ MB\n"
     ]
    }
   ],
   "source": [
    "df.info()"
   ]
  },
  {
   "cell_type": "markdown",
   "metadata": {},
   "source": [
    "### Your challenge\n",
    "- Your goal is to predict `carbon_intensity_avg` up to 48h ahead.\n",
    "- We have 6 years of data at hourly granularity! Enough to make proper `cross_validated` score of `rmpe` over the whole dataset!\n",
    "- You have access to exogeneous forecast prefixed by `latest_forecasted_` \n",
    "    - e.g. you can use `latest_forecasted_price_avg(t+i)` when trying to predict `carbon_intensity_avg(t+i)`\n",
    "    - for i in [1..48]"
   ]
  },
  {
   "cell_type": "markdown",
   "metadata": {},
   "source": [
    "### Hints"
   ]
  },
  {
   "cell_type": "markdown",
   "metadata": {},
   "source": [
    "- You can build a `SARMIAX` model with `exog` features\n",
    "- Or, you can build your own \"traditional\" ML-based model, optimizing for the 48h ahead time horizon"
   ]
  },
  {
   "cell_type": "markdown",
   "metadata": {},
   "source": [
    "## Your turn"
   ]
  },
  {
   "cell_type": "code",
   "execution_count": 0,
   "metadata": {},
   "outputs": [],
   "source": [
    "y = df['carbon_intensity_avg']"
   ]
  },
  {
   "cell_type": "code",
   "execution_count": 0,
   "metadata": {},
   "outputs": [
    {
     "data": {
      "application/vnd.jupyter.widget-view+json": {
       "model_id": "4cdc907a343a4d2c8a56d202346544a5",
       "version_major": 2,
       "version_minor": 0
      },
      "text/plain": [
       "Canvas(toolbar=Toolbar(toolitems=[('Home', 'Reset original view', 'home', 'home'), ('Back', 'Back to previous …"
      ]
     },
     "metadata": {},
     "output_type": "display_data"
    },
    {
     "data": {
      "text/plain": [
       "<matplotlib.axes._subplots.AxesSubplot at 0x11f0ab550>"
      ]
     },
     "execution_count": 0,
     "metadata": {},
     "output_type": "execute_result"
    }
   ],
   "source": [
    "%matplotlib widget\n",
    "y.plot()\n",
    "df.latest_forecasted_price_avg.plot()"
   ]
  },
  {
   "cell_type": "code",
   "execution_count": 0,
   "metadata": {},
   "outputs": [],
   "source": []
  }
 ],
 "metadata": {
  "kernelspec": {
   "display_name": "Python 3",
   "language": "python",
   "name": "python3"
  }
 },
 "nbformat": 4,
 "nbformat_minor": 4
}