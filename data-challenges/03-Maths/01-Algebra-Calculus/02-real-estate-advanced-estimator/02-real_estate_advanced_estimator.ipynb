{
 "cells": [
  {
   "cell_type": "markdown",
   "metadata": {},
   "source": [
    "# Real Estate - advanced estimator\n",
    "\n",
    "In the previous challenge we saw that if we have more flats than features in our dataset then we can't \"solve\" the equation $X\\theta = Y$ to find a deterministic formula for $\\theta$ and thus predict flat price this way.\n",
    "\n",
    "In this exercise we now have access to a bigger dataset consisting of 1000 flats and we want to refine our prediction for the same new flat as before:\n",
    "\n",
    "- `Surface`: 3000 $ft^2$\n",
    "- `Bedrooms`: 5 \n",
    "- `Floors`: 1\n",
    "\n",
    "Instead of solving $X\\theta = Y$ with a matrix $X$ of shape (1000,4) non-inversible, we will find the $\\hat{\\theta}$ that minimizes the error $e = X\\hat{\\theta} - Y $: this approach is called a **linear regression model**. We will measure this error $e$ using the euclidian distance $\\left\\|e\\right\\|$ and the Mean Square Error.\n",
    "\n",
    "Let's compute $\\hat{\\theta}$ to find an approximate estimation of the new flat's price.\n"
   ]
  },
  {
   "cell_type": "code",
   "execution_count": 2,
   "metadata": {
    "ExecuteTime": {
     "end_time": "2021-05-11T15:06:55.568943Z",
     "start_time": "2021-05-11T15:06:54.909529Z"
    }
   },
   "outputs": [],
   "source": [
    "# import default libraries\n",
    "# You can now use pandas again to manipulate the dataframe easily\n",
    "import numpy as np\n",
    "import pandas as pd\n",
    "import matplotlib.pyplot as plt\n",
    "import seaborn as sns"
   ]
  },
  {
   "cell_type": "markdown",
   "metadata": {},
   "source": [
    "## 1. Data Exploration"
   ]
  },
  {
   "cell_type": "markdown",
   "metadata": {},
   "source": [
    "Load the dataset `flats.csv` located in the notebook's folder, into a pandas DataFrame named \"flats\""
   ]
  },
  {
   "cell_type": "code",
   "execution_count": 4,
   "metadata": {
    "tags": [
     "challengify"
    ]
   },
   "outputs": [
    {
     "data": {
      "text/html": [
       "<div>\n",
       "<style scoped>\n",
       "    .dataframe tbody tr th:only-of-type {\n",
       "        vertical-align: middle;\n",
       "    }\n",
       "\n",
       "    .dataframe tbody tr th {\n",
       "        vertical-align: top;\n",
       "    }\n",
       "\n",
       "    .dataframe thead th {\n",
       "        text-align: right;\n",
       "    }\n",
       "</style>\n",
       "<table border=\"1\" class=\"dataframe\">\n",
       "  <thead>\n",
       "    <tr style=\"text-align: right;\">\n",
       "      <th></th>\n",
       "      <th>price</th>\n",
       "      <th>bedrooms</th>\n",
       "      <th>surface</th>\n",
       "      <th>floors</th>\n",
       "    </tr>\n",
       "  </thead>\n",
       "  <tbody>\n",
       "    <tr>\n",
       "      <th>0</th>\n",
       "      <td>274.0</td>\n",
       "      <td>3</td>\n",
       "      <td>1830</td>\n",
       "      <td>2.0</td>\n",
       "    </tr>\n",
       "    <tr>\n",
       "      <th>1</th>\n",
       "      <td>500.0</td>\n",
       "      <td>4</td>\n",
       "      <td>2120</td>\n",
       "      <td>1.0</td>\n",
       "    </tr>\n",
       "    <tr>\n",
       "      <th>2</th>\n",
       "      <td>320.0</td>\n",
       "      <td>3</td>\n",
       "      <td>1260</td>\n",
       "      <td>1.0</td>\n",
       "    </tr>\n",
       "    <tr>\n",
       "      <th>3</th>\n",
       "      <td>445.5</td>\n",
       "      <td>3</td>\n",
       "      <td>1880</td>\n",
       "      <td>1.0</td>\n",
       "    </tr>\n",
       "    <tr>\n",
       "      <th>4</th>\n",
       "      <td>637.5</td>\n",
       "      <td>3</td>\n",
       "      <td>1680</td>\n",
       "      <td>1.0</td>\n",
       "    </tr>\n",
       "    <tr>\n",
       "      <th>...</th>\n",
       "      <td>...</td>\n",
       "      <td>...</td>\n",
       "      <td>...</td>\n",
       "      <td>...</td>\n",
       "    </tr>\n",
       "    <tr>\n",
       "      <th>995</th>\n",
       "      <td>700.0</td>\n",
       "      <td>9</td>\n",
       "      <td>3680</td>\n",
       "      <td>2.0</td>\n",
       "    </tr>\n",
       "    <tr>\n",
       "      <th>996</th>\n",
       "      <td>272.0</td>\n",
       "      <td>3</td>\n",
       "      <td>1528</td>\n",
       "      <td>2.0</td>\n",
       "    </tr>\n",
       "    <tr>\n",
       "      <th>997</th>\n",
       "      <td>350.0</td>\n",
       "      <td>3</td>\n",
       "      <td>1050</td>\n",
       "      <td>1.0</td>\n",
       "    </tr>\n",
       "    <tr>\n",
       "      <th>998</th>\n",
       "      <td>649.0</td>\n",
       "      <td>4</td>\n",
       "      <td>2980</td>\n",
       "      <td>2.0</td>\n",
       "    </tr>\n",
       "    <tr>\n",
       "      <th>999</th>\n",
       "      <td>135.0</td>\n",
       "      <td>2</td>\n",
       "      <td>830</td>\n",
       "      <td>1.0</td>\n",
       "    </tr>\n",
       "  </tbody>\n",
       "</table>\n",
       "<p>1000 rows × 4 columns</p>\n",
       "</div>"
      ],
      "text/plain": [
       "     price  bedrooms  surface  floors\n",
       "0    274.0         3     1830     2.0\n",
       "1    500.0         4     2120     1.0\n",
       "2    320.0         3     1260     1.0\n",
       "3    445.5         3     1880     1.0\n",
       "4    637.5         3     1680     1.0\n",
       "..     ...       ...      ...     ...\n",
       "995  700.0         9     3680     2.0\n",
       "996  272.0         3     1528     2.0\n",
       "997  350.0         3     1050     1.0\n",
       "998  649.0         4     2980     2.0\n",
       "999  135.0         2      830     1.0\n",
       "\n",
       "[1000 rows x 4 columns]"
      ]
     },
     "execution_count": 4,
     "metadata": {},
     "output_type": "execute_result"
    }
   ],
   "source": [
    "# YOUR CODE HERE\n",
    "flats = pd.read_csv(\"flats.csv\")\n",
    "flats"
   ]
  },
  {
   "cell_type": "markdown",
   "metadata": {},
   "source": [
    "Use scatterplots to visually figure out which feature gives the most information about prices:"
   ]
  },
  {
   "cell_type": "code",
   "execution_count": 14,
   "metadata": {
    "tags": [
     "challengify"
    ]
   },
   "outputs": [
    {
     "data": {
      "image/png": "[encoded data removed]",
      "text/plain": [
       "<Figure size 432x288 with 1 Axes>"
      ]
     },
     "metadata": {
      "needs_background": "light"
     },
     "output_type": "display_data"
    }
   ],
   "source": [
    "# YOUR CODE HERE\n",
    "flats.plot.scatter('surface', 'price');"
   ]
  },
  {
   "cell_type": "markdown",
   "metadata": {},
   "source": [
    "It seems that `surface` is a stronger indicator of price than the number of bedrooms or floors. In statistics, we say that `prices` are more **correlated** with `surface` than with other features. \n",
    "\n",
    "Let's double check this by running [`pandas.DataFrame.corr`](https://pandas.pydata.org/pandas-docs/stable/reference/api/pandas.DataFrame.corr.html) below, which computes correlation coefficients between each pair of columns of a DataFrame. 1 means perfectly correlated, while 0 means not correlated at all."
   ]
  },
  {
   "cell_type": "code",
   "execution_count": 18,
   "metadata": {
    "tags": [
     "challengify"
    ]
   },
   "outputs": [
    {
     "data": {
      "text/html": [
       "<div>\n",
       "<style scoped>\n",
       "    .dataframe tbody tr th:only-of-type {\n",
       "        vertical-align: middle;\n",
       "    }\n",
       "\n",
       "    .dataframe tbody tr th {\n",
       "        vertical-align: top;\n",
       "    }\n",
       "\n",
       "    .dataframe thead th {\n",
       "        text-align: right;\n",
       "    }\n",
       "</style>\n",
       "<table border=\"1\" class=\"dataframe\">\n",
       "  <thead>\n",
       "    <tr style=\"text-align: right;\">\n",
       "      <th></th>\n",
       "      <th>price</th>\n",
       "      <th>bedrooms</th>\n",
       "      <th>surface</th>\n",
       "      <th>floors</th>\n",
       "    </tr>\n",
       "  </thead>\n",
       "  <tbody>\n",
       "    <tr>\n",
       "      <th>price</th>\n",
       "      <td>1.000000</td>\n",
       "      <td>0.239623</td>\n",
       "      <td>0.732790</td>\n",
       "      <td>0.258263</td>\n",
       "    </tr>\n",
       "    <tr>\n",
       "      <th>bedrooms</th>\n",
       "      <td>0.239623</td>\n",
       "      <td>1.000000</td>\n",
       "      <td>0.417170</td>\n",
       "      <td>0.131993</td>\n",
       "    </tr>\n",
       "    <tr>\n",
       "      <th>surface</th>\n",
       "      <td>0.732790</td>\n",
       "      <td>0.417170</td>\n",
       "      <td>1.000000</td>\n",
       "      <td>0.357512</td>\n",
       "    </tr>\n",
       "    <tr>\n",
       "      <th>floors</th>\n",
       "      <td>0.258263</td>\n",
       "      <td>0.131993</td>\n",
       "      <td>0.357512</td>\n",
       "      <td>1.000000</td>\n",
       "    </tr>\n",
       "  </tbody>\n",
       "</table>\n",
       "</div>"
      ],
      "text/plain": [
       "             price  bedrooms   surface    floors\n",
       "price     1.000000  0.239623  0.732790  0.258263\n",
       "bedrooms  0.239623  1.000000  0.417170  0.131993\n",
       "surface   0.732790  0.417170  1.000000  0.357512\n",
       "floors    0.258263  0.131993  0.357512  1.000000"
      ]
     },
     "execution_count": 18,
     "metadata": {},
     "output_type": "execute_result"
    }
   ],
   "source": [
    "# YOUR CODE HERE\n",
    "pd.DataFrame.corr(flats)"
   ]
  },
  {
   "cell_type": "markdown",
   "metadata": {},
   "source": [
    "### Test your code!"
   ]
  },
  {
   "cell_type": "code",
   "execution_count": 19,
   "metadata": {
    "ExecuteTime": {
     "end_time": "2021-05-11T15:06:56.552343Z",
     "start_time": "2021-05-11T15:06:55.921431Z"
    }
   },
   "outputs": [
    {
     "name": "stdout",
     "output_type": "stream",
     "text": [
      "\u001b[1m============================= test session starts ==============================\u001b[0m\n",
      "platform linux -- Python 3.8.12, pytest-6.2.5, py-1.10.0, pluggy-1.0.0 -- /home/useradd/.pyenv/versions/lewagon/bin/python3\n",
      "cachedir: .pytest_cache\n",
      "rootdir: /home/useradd/code/LucaVanTichelen/data-challenges/03-Maths/01-Algebra-Calculus/02-real-estate-advanced-estimator\n",
      "plugins: dash-2.0.0, anyio-3.3.2\n",
      "\u001b[1mcollecting ... \u001b[0mcollected 2 items\n",
      "\n",
      "tests/test_flats.py::TestFlats::test_columns \u001b[32mPASSED\u001b[0m\u001b[32m                      [ 50%]\u001b[0m\n",
      "tests/test_flats.py::TestFlats::test_shape \u001b[32mPASSED\u001b[0m\u001b[32m                        [100%]\u001b[0m\n",
      "\n",
      "\u001b[32m============================== \u001b[32m\u001b[1m2 passed\u001b[0m\u001b[32m in 0.29s\u001b[0m\u001b[32m ===============================\u001b[0m\n",
      "\n",
      "\n",
      "💯 You can commit your code:\n",
      "\n",
      "\u001b[1;32mgit\u001b[39m add tests/flats.pickle\n",
      "\n",
      "\u001b[32mgit\u001b[39m commit -m \u001b[33m'Completed flats step'\u001b[39m\n",
      "\n",
      "\u001b[32mgit\u001b[39m push origin master\n"
     ]
    }
   ],
   "source": [
    "from nbresult import ChallengeResult\n",
    "\n",
    "result = ChallengeResult('flats',\n",
    "    shape=flats.shape,\n",
    "    columns=flats.columns\n",
    ")\n",
    "result.write()\n",
    "print(result.check())"
   ]
  },
  {
   "cell_type": "markdown",
   "metadata": {},
   "source": [
    "## 2. Estimator with 1 feature"
   ]
  },
  {
   "cell_type": "markdown",
   "metadata": {},
   "source": [
    "Let's try to build a statistical estimator of `price` only as a function of `surface`.\n",
    "\n",
    "Let's try to fit a **linear regression** between the two variables. Practically speaking, we want to choose the best parameters $\\hat{\\theta}$ = (`slope`, `intercept`) such that the `slope * surface + intercept` is as close as possible to the `price` in terms of Mean Square Error.\n",
    "\n",
    "👉During the next weeks we will learn different models (Linear Regression, KNN, Logistic Regression, Neural Networks, etc.). An important part of your job is choosing the right model and optimizing the parameters to make the best predictions."
   ]
  },
  {
   "cell_type": "markdown",
   "metadata": {},
   "source": [
    "### 2.1 Visual approach"
   ]
  },
  {
   "attachments": {
    "image.png": {
     "image/png": "[encoded data removed]"
    }
   },
   "cell_type": "markdown",
   "metadata": {},
   "source": [
    "Implement the function `plot_line(slope, intercept, ax)` that plots a line with the slope and intercept arguments on the ax figure. We added the argument ax, so you can plot the line(s) on your scatterplot.\n",
    "When you are done, play with different values for slope and intercept in order to get a “good linear approximation” of the data. Can you find the best fit?\n",
    "\n",
    "![image.png](attachment:image.png)\n",
    "\n",
    "Not so easy (and not very “scientific”), right?"
   ]
  },
  {
   "cell_type": "code",
   "execution_count": 83,
   "metadata": {
    "ExecuteTime": {
     "end_time": "2021-05-11T15:06:56.557577Z",
     "start_time": "2021-05-11T15:06:56.554420Z"
    }
   },
   "outputs": [],
   "source": [
    "def plot_line(a, b, ax):\n",
    "    \"\"\"Plot a line from slope and intercept on the ax\"\"\"\n",
    "    x1, x2 = ax.get_xlim()\n",
    "    y1, y2 = a * x1 + b, a * x2 + b\n",
    "    return plt.plot([x1,x2], [y1,y2])"
   ]
  },
  {
   "cell_type": "code",
   "execution_count": 88,
   "metadata": {
    "ExecuteTime": {
     "end_time": "2021-05-11T15:06:56.687661Z",
     "start_time": "2021-05-11T15:06:56.560344Z"
    }
   },
   "outputs": [
    {
     "data": {
      "image/png": "[encoded data removed]",
      "text/plain": [
       "<Figure size 432x288 with 1 Axes>"
      ]
     },
     "metadata": {
      "needs_background": "light"
     },
     "output_type": "display_data"
    }
   ],
   "source": [
    "# TO DO: play with slopes and intercepts to get the best fit\n",
    "ax = flats.plot.scatter('surface', 'price');\n",
    "plot_line(0.7, 0, ax);\n",
    "plot_line(0.05, 0, ax);"
   ]
  },
  {
   "cell_type": "markdown",
   "metadata": {},
   "source": [
    "### 2.2 Computational approach"
   ]
  },
  {
   "cell_type": "markdown",
   "metadata": {},
   "source": [
    "To be sure that our estimator line is the best possible one, we need to compute  the **Mean Squared Error** between `price` and `predicted_price (slope * surface + intercept)`. Remember those are vectors of shape (1000,1).\n",
    "\n",
    "**Step1:** for each row (ie. flat), we should evaluate the squared_error (predicted_price - price)**2"
   ]
  },
  {
   "cell_type": "code",
   "execution_count": 234,
   "metadata": {
    "ExecuteTime": {
     "end_time": "2021-05-11T15:06:56.692794Z",
     "start_time": "2021-05-11T15:06:56.690212Z"
    }
   },
   "outputs": [],
   "source": [
    "def squared_errors(slope, intercept, surfaces, prices):\n",
    "    \"\"\"TO DO: return an array containing the squared errors between \n",
    "    all predicted_prices and the actual prices (from the dataset)\n",
    "    \"\"\"\n",
    "    predicted_price = slope * surfaces + intercept\n",
    "    return (predicted_price - prices)**2"
   ]
  },
  {
   "cell_type": "markdown",
   "metadata": {},
   "source": [
    "**Step2:** return the mean of the array returned from the `squared_errors` function"
   ]
  },
  {
   "cell_type": "code",
   "execution_count": 235,
   "metadata": {
    "ExecuteTime": {
     "end_time": "2021-05-11T15:06:56.698305Z",
     "start_time": "2021-05-11T15:06:56.695624Z"
    }
   },
   "outputs": [],
   "source": [
    "def mse(slope, intercept, surfaces, prices):\n",
    "    '''TO DO: Return the mean of the array contained in squared_errors as a float.'''\n",
    "    return np.mean(squared_errors(slope, intercept, surfaces, prices))"
   ]
  },
  {
   "cell_type": "markdown",
   "metadata": {},
   "source": [
    "Try to compute the MSE of one estimator of your choice"
   ]
  },
  {
   "cell_type": "code",
   "execution_count": 236,
   "metadata": {
    "tags": [
     "challengify"
    ]
   },
   "outputs": [
    {
     "data": {
      "text/plain": [
       "3016076.431314907"
      ]
     },
     "execution_count": 236,
     "metadata": {},
     "output_type": "execute_result"
    }
   ],
   "source": [
    "# YOUR CODE HERE\n",
    "mse(1, 1, flats['surface'], flats['price'])"
   ]
  },
  {
   "cell_type": "markdown",
   "metadata": {},
   "source": [
    "### 2.3 Finding the best parameters"
   ]
  },
  {
   "cell_type": "markdown",
   "metadata": {},
   "source": [
    "Play with different values for `slope` and `intercept` and try to get the best fit by hand!  \n",
    "Notice how hard it is to optimize both parameters at the same time.\n",
    "Follow the step below to get an idea of one potential approach:"
   ]
  },
  {
   "cell_type": "markdown",
   "metadata": {},
   "source": [
    "#### Step ①: Start by fixing an  `initial_intercept` with your best estimate, then find an approximated min slope for `mse=f(slope)`"
   ]
  },
  {
   "cell_type": "code",
   "execution_count": 261,
   "metadata": {
    "ExecuteTime": {
     "end_time": "2021-05-11T15:06:56.759000Z",
     "start_time": "2021-05-11T15:06:56.705328Z"
    }
   },
   "outputs": [],
   "source": [
    "# Define an initial_intercept, for instance, we may suppose there is always a small transaction fee even for very small flats?\n",
    "initial_intercept = 100\n",
    "mse(0, initial_intercept, flats['surface'], flats['price'])\n",
    "\n",
    "# Create a range of 100 slopes which contains what you believe is the optimal slope (hint: np.linspace())\n",
    "slopes = np.linspace(0, 0.5, 100)\n",
    "\n",
    "# Create the list of MSEs for each slope value\n",
    "mses = [mse(slope, initial_intercept, flats['surface'], flats['price']) for slope in slopes]"
   ]
  },
  {
   "cell_type": "markdown",
   "metadata": {},
   "source": [
    "Plot MSEs against slopes. Do you see a minimum? If not, try another range of slopes!"
   ]
  },
  {
   "cell_type": "code",
   "execution_count": 262,
   "metadata": {
    "tags": [
     "challengify"
    ]
   },
   "outputs": [
    {
     "data": {
      "image/png": "[encoded data removed]",
      "text/plain": [
       "<Figure size 432x288 with 1 Axes>"
      ]
     },
     "metadata": {
      "needs_background": "light"
     },
     "output_type": "display_data"
    }
   ],
   "source": [
    "plt.plot(slopes, mses);"
   ]
  },
  {
   "cell_type": "markdown",
   "metadata": {},
   "source": [
    "Compute the min value of MSEs for your `initial_intercept`, and the corresponding `slope_best` value\n",
    "\n",
    "<br>\n",
    "<details>\n",
    "    <summary>Hint 💡</summary>\n",
    "        here you can use python's built-in `min()` function, as well as `List.index()` method\n",
    "</details>"
   ]
  },
  {
   "cell_type": "code",
   "execution_count": 266,
   "metadata": {
    "tags": [
     "challengify"
    ]
   },
   "outputs": [
    {
     "data": {
      "text/plain": [
       "0.22222222222222224"
      ]
     },
     "execution_count": 266,
     "metadata": {},
     "output_type": "execute_result"
    }
   ],
   "source": [
    "best_slope = slopes[mses.index(min(mses))]\n",
    "best_slope"
   ]
  },
  {
   "cell_type": "markdown",
   "metadata": {},
   "source": [
    "#### Step ②: Let's now fix the slope to that `slope_best` value, then re-use the previous approach to find `a` and a new `intercept_best` approximation"
   ]
  },
  {
   "cell_type": "code",
   "execution_count": 267,
   "metadata": {
    "ExecuteTime": {
     "end_time": "2021-05-11T15:06:57.056013Z",
     "start_time": "2021-05-11T15:06:56.886806Z"
    }
   },
   "outputs": [
    {
     "data": {
      "image/png": "[encoded data removed]",
      "text/plain": [
       "<Figure size 432x288 with 1 Axes>"
      ]
     },
     "metadata": {
      "needs_background": "light"
     },
     "output_type": "display_data"
    }
   ],
   "source": [
    "# Create a range of 100 intercepts which contains what you believe is the optimal intercept\n",
    "intercepts = np.linspace(0, 100, 100)\n",
    "\n",
    "# Create the list of MSEs for each intercept value\n",
    "news = [mse(best_slope, intercept, flats['surface'], flats['price']) for intercept in intercepts]\n",
    "\n",
    "# Plot MSEs against slopes. Do you see a minimum? If not, try another range of slopes!\n",
    "plt.plot(intercepts, news);"
   ]
  },
  {
   "cell_type": "markdown",
   "metadata": {},
   "source": [
    "Compute the min value of MSEs for `slope = slope_best` and store the corresponding best intercept as `intercept_best`\n"
   ]
  },
  {
   "cell_type": "code",
   "execution_count": 268,
   "metadata": {
    "tags": [
     "challengify"
    ]
   },
   "outputs": [
    {
     "data": {
      "text/plain": [
       "75.75757575757576"
      ]
     },
     "execution_count": 268,
     "metadata": {},
     "output_type": "execute_result"
    }
   ],
   "source": [
    "intercept_best = intercepts[news.index(min(news))]\n",
    "intercept_best"
   ]
  },
  {
   "cell_type": "markdown",
   "metadata": {},
   "source": [
    "**Great job**! By adding a non-zero intercept parameter, we have been able to reduce the MSE even more (Feel free to plot the regression line in your scatter plot to \"visually\" confirm the approximate fit).\n",
    "\n",
    "❓ However, what guarantees that these (`intercept_best`, `slope_best`) parameters are really the best ones? "
   ]
  },
  {
   "cell_type": "markdown",
   "metadata": {},
   "source": [
    "<details>\n",
    "    <summary>🔥 Explanations </summary>\n",
    "    \n",
    "We could maybe find an even better slope value by repeating step ①, this time fixing intercept at `intercept_best`! And then repeat step ② with the new slope to adjust the intercept again...\n",
    "    \n",
    "In order to find the global minimum of a 2-parameter function RMSE = f(slope, intercept), we may have to repeat step ① and ② indefinitely until values converge towards absolute minimums - and with no guarantee of success.\n",
    "    \n",
    "<img src='https://raw.githubusercontent.com/lewagon/data-images/master/decision-science/real-estate-minimizer.png'>\n",
    "    \n",
    "💪 You just discovered one of the fundamental aspects of machine learning: **iterative process for finding mimina**.  \n",
    "\n",
    "👉 As you can guess, in the Data Scientist world, algorithms have been developed to automate and optimize such processes. In the next few weeks, you will discover the power of other algorithms such as **Gradient Descent**, and Python libaries such as `Stastmodels` that perform this iterative process for you. \n",
    "\n",
    "</details>\n",
    "\n"
   ]
  },
  {
   "cell_type": "markdown",
   "metadata": {},
   "source": [
    "❓Run the cells below if you are curious and want to find the absolute best slope and intercept for this dataset, computed using gradient descent."
   ]
  },
  {
   "cell_type": "code",
   "execution_count": 186,
   "metadata": {
    "ExecuteTime": {
     "end_time": "2021-05-11T15:06:57.284231Z",
     "start_time": "2021-05-11T15:06:57.064462Z"
    }
   },
   "outputs": [
    {
     "data": {
      "text/plain": [
       "<AxesSubplot:xlabel='surface', ylabel='price'>"
      ]
     },
     "execution_count": 186,
     "metadata": {},
     "output_type": "execute_result"
    },
    {
     "data": {
      "image/png": "[encoded data removed]",
      "text/plain": [
       "<Figure size 432x288 with 1 Axes>"
      ]
     },
     "metadata": {
      "needs_background": "light"
     },
     "output_type": "display_data"
    }
   ],
   "source": [
    "# Try this out (seaborn visual solution)\n",
    "sns.regplot(data=flats, x='surface', y='price')"
   ]
  },
  {
   "cell_type": "code",
   "execution_count": 269,
   "metadata": {
    "ExecuteTime": {
     "end_time": "2021-05-11T15:06:57.442139Z",
     "start_time": "2021-05-11T15:06:57.286334Z"
    }
   },
   "outputs": [
    {
     "data": {
      "text/plain": [
       "Intercept   -33.308336\n",
       "surface       0.273690\n",
       "dtype: float64"
      ]
     },
     "execution_count": 269,
     "metadata": {},
     "output_type": "execute_result"
    }
   ],
   "source": [
    "# Try this out (statsmodels, exact solution)!\n",
    "import statsmodels.formula.api as smf\n",
    "regression = smf.ols(formula= 'price ~ surface', data=flats).fit()\n",
    "regression.params"
   ]
  },
  {
   "cell_type": "markdown",
   "metadata": {},
   "source": [
    "Let's get back to our initial question: What is your new prediction for the 5th flat below? How does it compare with your initial prediction based only on 4 flats? \n",
    "\n",
    "- `surface`: 3000 $ft^2$\n",
    "- `bedrooms`: 5 \n",
    "- `floors`: 1"
   ]
  },
  {
   "cell_type": "code",
   "execution_count": 188,
   "metadata": {
    "ExecuteTime": {
     "end_time": "2021-05-11T15:06:57.447692Z",
     "start_time": "2021-05-11T15:06:57.443988Z"
    }
   },
   "outputs": [
    {
     "name": "stdout",
     "output_type": "stream",
     "text": [
      "predicted price:  787.7629605753169\n"
     ]
    }
   ],
   "source": [
    "# compute predicted price (Remember that the real price is 750,000$)\n",
    "print('predicted price: ', regression.params['surface']*3000 + regression.params['Intercept'])"
   ]
  },
  {
   "cell_type": "markdown",
   "metadata": {},
   "source": [
    "It's better than our initial deterministic estimator based on only 4 flats, but obviously we miss the information provided by the number of bedrooms and floors in this prediction."
   ]
  },
  {
   "cell_type": "markdown",
   "metadata": {},
   "source": [
    "### Check your code"
   ]
  },
  {
   "cell_type": "code",
   "execution_count": 270,
   "metadata": {
    "ExecuteTime": {
     "end_time": "2021-05-11T15:06:57.974696Z",
     "start_time": "2021-05-11T15:06:57.449778Z"
    }
   },
   "outputs": [
    {
     "name": "stdout",
     "output_type": "stream",
     "text": [
      "\u001b[1m============================= test session starts ==============================\u001b[0m\n",
      "platform linux -- Python 3.8.12, pytest-6.2.5, py-1.10.0, pluggy-1.0.0 -- /home/useradd/.pyenv/versions/lewagon/bin/python3\n",
      "cachedir: .pytest_cache\n",
      "rootdir: /home/useradd/code/LucaVanTichelen/data-challenges/03-Maths/01-Algebra-Calculus/02-real-estate-advanced-estimator\n",
      "plugins: dash-2.0.0, anyio-3.3.2\n",
      "\u001b[1mcollecting ... \u001b[0mcollected 4 items\n",
      "\n",
      "tests/test_univariate.py::TestUnivariate::test_best_intercept \u001b[32mPASSED\u001b[0m\u001b[32m     [ 25%]\u001b[0m\n",
      "tests/test_univariate.py::TestUnivariate::test_best_slope \u001b[32mPASSED\u001b[0m\u001b[32m         [ 50%]\u001b[0m\n",
      "tests/test_univariate.py::TestUnivariate::test_mse \u001b[32mPASSED\u001b[0m\u001b[32m                [ 75%]\u001b[0m\n",
      "tests/test_univariate.py::TestUnivariate::test_squared_errors \u001b[32mPASSED\u001b[0m\u001b[32m     [100%]\u001b[0m\n",
      "\n",
      "\u001b[32m============================== \u001b[32m\u001b[1m4 passed\u001b[0m\u001b[32m in 0.14s\u001b[0m\u001b[32m ===============================\u001b[0m\n",
      "\n",
      "\n",
      "💯 You can commit your code:\n",
      "\n",
      "\u001b[1;32mgit\u001b[39m add tests/univariate.pickle\n",
      "\n",
      "\u001b[32mgit\u001b[39m commit -m \u001b[33m'Completed univariate step'\u001b[39m\n",
      "\n",
      "\u001b[32mgit\u001b[39m push origin master\n"
     ]
    }
   ],
   "source": [
    "from nbresult import ChallengeResult\n",
    "\n",
    "result = ChallengeResult('univariate',\n",
    "    squared_errors=squared_errors(10, 0, np.array([40, 20]), np.array([400, 200])),\n",
    "    mse=mse(10, 0, np.array([40, 20]), np.array([400, 200])),\n",
    "    theta1=slope_best,\n",
    "    theta0=intercept_best\n",
    ")\n",
    "result.write()\n",
    "print(result.check())"
   ]
  },
  {
   "cell_type": "markdown",
   "metadata": {},
   "source": [
    "## 3 Estimator with all features (surface, bedrooms, floors)?"
   ]
  },
  {
   "cell_type": "markdown",
   "metadata": {},
   "source": [
    "Linear regression with three features works the same way as with one feature, but instead of determining only the  parameters to minimize RMSE (`intercept` and `slope`), we'll need to find 4 parameters: $\\hat{\\theta}$ = (`intercept`, `slope_surface`, `slope_bedrooms`, `slope_floors`). "
   ]
  },
  {
   "cell_type": "markdown",
   "metadata": {},
   "source": [
    "The same gradient iterative method is applicable, and you will code it yourself by hand during the next few weeks.\n",
    "Meanwhile, feel free to run the cell below to see the final result of this multivariate regression:"
   ]
  },
  {
   "cell_type": "code",
   "execution_count": 271,
   "metadata": {
    "ExecuteTime": {
     "end_time": "2021-05-11T15:06:57.990823Z",
     "start_time": "2021-05-11T15:06:57.978093Z"
    }
   },
   "outputs": [
    {
     "data": {
      "text/plain": [
       "Intercept    18.154854\n",
       "surface       0.286953\n",
       "bedrooms    -21.623564\n",
       "floors       -3.811868\n",
       "dtype: float64"
      ]
     },
     "execution_count": 271,
     "metadata": {},
     "output_type": "execute_result"
    }
   ],
   "source": [
    "# Find the four regression coefficients by running this cell\n",
    "import statsmodels.formula.api as smf\n",
    "regression = smf.ols(formula= 'price ~ surface + bedrooms + floors', data=flats).fit()\n",
    "regression.params"
   ]
  },
  {
   "cell_type": "code",
   "execution_count": 272,
   "metadata": {
    "ExecuteTime": {
     "end_time": "2021-05-11T15:07:18.485921Z",
     "start_time": "2021-05-11T15:07:18.480321Z"
    },
    "scrolled": true
   },
   "outputs": [
    {
     "data": {
      "text/plain": [
       "767.0851073102862"
      ]
     },
     "execution_count": 272,
     "metadata": {},
     "output_type": "execute_result"
    }
   ],
   "source": [
    "# Compute the newly predicted price for the 5th flat? Is this prediction better?\n",
    "regression.params['Intercept'] +\\\n",
    "regression.params['surface']*3000 +\\\n",
    "regression.params['bedrooms']*5 +\\\n",
    "regression.params['floors']*1"
   ]
  },
  {
   "cell_type": "markdown",
   "metadata": {},
   "source": [
    "<details>\n",
    "    <summary><bold>🔎 Concluding remarks (linear algebra)</bold> </summary>\n",
    "\n",
    "\n",
    "This optimisation problem can be summarized as follows: we need to find a vector of parameters $\\hat{\\theta}$ (slope + intercept) that minimizes an error $e = \\left\\|X\\hat{\\theta} - Y \\right\\|^2$, for a given matrix of features $X$ (surfaces, floors, bedrooms) and a vector of observations $Y$ (prices)\n",
    "\n",
    "Such minimum $\\hat{\\theta}$ is reached when the \"derivatives\" of $e$, that is $2 X^T(X\\hat{\\theta}−Y)$ equals zero (proof next week). In other words, we need to solve the linear system $(X^TX)\\hat{\\theta}=X^TY$. It has has a unique solution provided that no column of X can be expressed as a linear combination of the others: in that case $(X^TX)^{-1}$ is invertible and the minimum is reached when $\\hat{\\theta} = (X^TX)^{-1} X^T Y$. Notice how X does not need to be squared anymore compared to the first challenge.\n",
    "\n",
    "Keep in mind, however, that inverting matrices is **computationally complex**. That is why other methods have been developed to find the minimum, such as **gradient descent**. Read more on [stack overflow](https://stats.stackexchange.com/a/278779) if you are interested!\n",
    "</details>\n"
   ]
  },
  {
   "cell_type": "markdown",
   "metadata": {},
   "source": [
    "🏁 Congratulations! Don't forget to commit and push your notebook!"
   ]
  }
 ],
 "metadata": {
  "kernelspec": {
   "display_name": "Python 3 (ipykernel)",
   "language": "python",
   "name": "python3"
  },
  "language_info": {
   "codemirror_mode": {
    "name": "ipython",
    "version": 3
   },
   "file_extension": ".py",
   "mimetype": "text/x-python",
   "name": "python",
   "nbconvert_exporter": "python",
   "pygments_lexer": "ipython3",
   "version": "3.8.12"
  },
  "toc": {
   "base_numbering": 1,
   "nav_menu": {},
   "number_sections": false,
   "sideBar": true,
   "skip_h1_title": false,
   "title_cell": "Table of Contents",
   "title_sidebar": "Contents",
   "toc_cell": false,
   "toc_position": {
    "height": "calc(100% - 180px)",
    "left": "10px",
    "top": "150px",
    "width": "373.391px"
   },
   "toc_section_display": true,
   "toc_window_display": false
  },
  "varInspector": {
   "cols": {
    "lenName": 16,
    "lenType": 16,
    "lenVar": 40
   },
   "kernels_config": {
    "python": {
     "delete_cmd_postfix": "",
     "delete_cmd_prefix": "del ",
     "library": "var_list.py",
     "varRefreshCmd": "print(var_dic_list())"
    },
    "r": {
     "delete_cmd_postfix": ") ",
     "delete_cmd_prefix": "rm(",
     "library": "var_list.r",
     "varRefreshCmd": "cat(var_dic_list()) "
    }
   },
   "types_to_exclude": [
    "module",
    "function",
    "builtin_function_or_method",
    "instance",
    "_Feature"
   ],
   "window_display": false
  }
 },
 "nbformat": 4,
 "nbformat_minor": 4
}