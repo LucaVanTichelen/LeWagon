{
 "cells": [
  {
   "cell_type": "markdown",
   "metadata": {},
   "source": [
    "# Real Estate estimator\n",
    "\n",
    "In the following challenge, we will try to figure out if a linear relationship exists between the **price** of a flat and a few usual factors like surface area, bedrooms, etc."
   ]
  },
  {
   "cell_type": "markdown",
   "metadata": {},
   "source": [
    "⚠️ Pandas is forbidden in this challenge: Welcome to the [NumPy documentation](https://docs.scipy.org/doc/numpy/reference/) which will be your friend throughout this exercise. You can also find help on this [NumPy cheatsheet](https://s3.amazonaws.com/assets.datacamp.com/blog_assets/Numpy_Python_Cheat_Sheet.pdf)"
   ]
  },
  {
   "cell_type": "code",
   "execution_count": 118,
   "metadata": {},
   "outputs": [],
   "source": [
    "import numpy as np"
   ]
  },
  {
   "cell_type": "markdown",
   "metadata": {},
   "source": [
    "We have been able to collect data for 4 flats below: Their `surface` (square feet), `bedrooms` and `floors` numbers are the 3 **features** of our problem, and the `price` (in thousands of $) is our **target**:\n",
    "\n",
    "|flats |surface|bedrooms|floors|price|\n",
    "|------|-------------|--------|------|------------|\n",
    "|flat1 |620|1|1|244|\n",
    "|flat2 |3280|4|2|671|\n",
    "|flat3 |1900|2|2|504|\n",
    "|flat4 |1320|3|3|510|\n",
    "\n",
    "A first approach is to try to find a **linear** relationship between the `price` and the 3 features, by solving this system of equations. Here we use the Greek letter Theta, $\\theta$, to represent the coefficients of our **features**:\n",
    "\n",
    "$$\\begin{cases}\n",
    "    244 = \\theta_0 + 620\\theta_1 + 1\\theta_2 + 1\\theta_3 \\\\\n",
    "    671 = \\theta_0 + 3280\\theta_1 + 4\\theta_2 + 2\\theta_3 \\\\\n",
    "    504 = \\theta_0 + 1900\\theta_1 + 2\\theta_2 + 2\\theta_3 \\\\\n",
    "    510 = \\theta_0 + 1320\\theta_1 + 3\\theta_2 + 3\\theta_3\n",
    "\\end{cases}$$\n",
    "\n",
    "Which can be translated into a matricial equation:\n",
    "\n",
    "$$Y = X\\theta$$\n",
    "\n",
    "$$\\begin{bmatrix}\n",
    "    244 \\\\\n",
    "    671 \\\\\n",
    "    504 \\\\\n",
    "    510\n",
    "\\end{bmatrix} = \\begin{bmatrix}\n",
    "    1 & 620 & 1 & 1 \\\\\n",
    "    1 & 3280 & 4 & 2 \\\\\n",
    "    1 & 1900 & 2 & 2 \\\\\n",
    "    1 & 1320 & 3 & 3\n",
    "\\end{bmatrix} \\begin{bmatrix}\n",
    "    \\theta_0 \\\\\n",
    "    \\theta_1 \\\\\n",
    "    \\theta_2 \\\\\n",
    "    \\theta_3\n",
    "\\end{bmatrix}$$\n",
    "\n",
    "where $Y$ is the vector of `Price`, $X$ is the matrix of features and $\\theta$ (theta) is the vector of coefficients to be found.\n",
    "\n",
    "If $\\theta$ is found, the price of any new flat could be estimated using $$Y_{flat5} = X_{flat5}\\theta$$"
   ]
  },
  {
   "cell_type": "markdown",
   "metadata": {},
   "source": [
    "## 1. Define the matrix `X` of features:"
   ]
  },
  {
   "cell_type": "markdown",
   "metadata": {},
   "source": [
    "❓ Create a (4,3) `numpy.ndarray`_ storing the values of the 3 features (surface, bedrooms, floors) for the 4 observations. Double check it's `shape`, `size` and `dim`"
   ]
  },
  {
   "cell_type": "code",
   "execution_count": 119,
   "metadata": {},
   "outputs": [
    {
     "data": {
      "text/plain": [
       "array([[ 620,    1,    1],\n",
       "       [3280,    4,    2],\n",
       "       [1900,    2,    2],\n",
       "       [1320,    3,    3]])"
      ]
     },
     "execution_count": 119,
     "metadata": {},
     "output_type": "execute_result"
    }
   ],
   "source": [
    "features = np.array([[620, 1, 1],\n",
    "                      [3280, 4, 2],\n",
    "                      [1900, 2, 2],\n",
    "                      [1320, 3, 3]])\n",
    "features"
   ]
  },
  {
   "cell_type": "code",
   "execution_count": 84,
   "metadata": {},
   "outputs": [
    {
     "data": {
      "text/plain": [
       "(4, 3)"
      ]
     },
     "execution_count": 84,
     "metadata": {},
     "output_type": "execute_result"
    }
   ],
   "source": [
    "features.shape"
   ]
  },
  {
   "cell_type": "code",
   "execution_count": 85,
   "metadata": {},
   "outputs": [
    {
     "data": {
      "text/plain": [
       "12"
      ]
     },
     "execution_count": 85,
     "metadata": {},
     "output_type": "execute_result"
    }
   ],
   "source": [
    "features.size"
   ]
  },
  {
   "cell_type": "code",
   "execution_count": 86,
   "metadata": {},
   "outputs": [
    {
     "data": {
      "text/plain": [
       "2"
      ]
     },
     "execution_count": 86,
     "metadata": {},
     "output_type": "execute_result"
    }
   ],
   "source": [
    "features.ndim"
   ]
  },
  {
   "cell_type": "markdown",
   "metadata": {},
   "source": [
    "❓Add a \"constant\" vector of 1's to create the (4,4) matrix `X` representing the linear system of equations\n",
    "\n",
    "🤔 As you probably noticed, the linear system of equations includes a $\\theta_0$ coefficient which appears in the 4 equations. We need an additional feature to represent the y-intercept of the linear regression line (we talk about an [affine relation](https://math.stackexchange.com/questions/275310/what-is-the-difference-between-linear-and-affine-function) rather than a strict linear relation between the `price` and the features - more on that next week)."
   ]
  },
  {
   "cell_type": "code",
   "execution_count": 120,
   "metadata": {},
   "outputs": [
    {
     "data": {
      "text/plain": [
       "array([[1],\n",
       "       [1],\n",
       "       [1],\n",
       "       [1]])"
      ]
     },
     "execution_count": 120,
     "metadata": {},
     "output_type": "execute_result"
    }
   ],
   "source": [
    "# Define x0 as a (4,1) vector filled with 1 with the fastest NumPy method\n",
    "x0 = np.ones((4, 1), dtype=int)\n",
    "x0"
   ]
  },
  {
   "cell_type": "code",
   "execution_count": 155,
   "metadata": {
    "scrolled": true
   },
   "outputs": [
    {
     "data": {
      "text/plain": [
       "array([[   1,  620,    1,    1],\n",
       "       [   1, 3280,    4,    2],\n",
       "       [   1, 1900,    2,    2],\n",
       "       [   1, 1320,    3,    3]])"
      ]
     },
     "execution_count": 155,
     "metadata": {},
     "output_type": "execute_result"
    }
   ],
   "source": [
    "# Use `numpy.hstack` to create the (4,4) matrix X by concatenating x0 to your previous (4,3) matrix\n",
    "X = np.hstack((x0, features))\n",
    "X"
   ]
  },
  {
   "cell_type": "markdown",
   "metadata": {},
   "source": [
    "### Check your code!"
   ]
  },
  {
   "cell_type": "code",
   "execution_count": 122,
   "metadata": {},
   "outputs": [
    {
     "name": "stdout",
     "output_type": "stream",
     "text": [
      "\u001b[1m============================= test session starts ==============================\u001b[0m\n",
      "platform linux -- Python 3.8.12, pytest-6.2.5, py-1.10.0, pluggy-1.0.0 -- /home/useradd/.pyenv/versions/lewagon/bin/python3\n",
      "cachedir: .pytest_cache\n",
      "rootdir: /home/useradd/code/LucaVanTichelen/data-challenges/03-Maths/01-Algebra-Calculus/01-real-estate-estimator\n",
      "plugins: dash-2.0.0, anyio-3.3.2\n",
      "\u001b[1mcollecting ... \u001b[0mcollected 3 items\n",
      "\n",
      "tests/test_features.py::TestFeatures::test_X_shape \u001b[32mPASSED\u001b[0m\u001b[32m                [ 33%]\u001b[0m\n",
      "tests/test_features.py::TestFeatures::test_features_order \u001b[32mPASSED\u001b[0m\u001b[32m         [ 66%]\u001b[0m\n",
      "tests/test_features.py::TestFeatures::test_x0_is_ones \u001b[32mPASSED\u001b[0m\u001b[32m             [100%]\u001b[0m\n",
      "\n",
      "\u001b[32m============================== \u001b[32m\u001b[1m3 passed\u001b[0m\u001b[32m in 0.15s\u001b[0m\u001b[32m ===============================\u001b[0m\n",
      "\n",
      "\n",
      "💯 You can commit your code:\n",
      "\n",
      "\u001b[1;32mgit\u001b[39m add tests/features.pickle\n",
      "\n",
      "\u001b[32mgit\u001b[39m commit -m \u001b[33m'Completed features step'\u001b[39m\n",
      "\n",
      "\u001b[32mgit\u001b[39m push origin master\n"
     ]
    }
   ],
   "source": [
    "from nbresult import ChallengeResult\n",
    "\n",
    "result = ChallengeResult('features',\n",
    "    features=X\n",
    ")\n",
    "result.write()\n",
    "print(result.check())"
   ]
  },
  {
   "cell_type": "markdown",
   "metadata": {},
   "source": [
    "## 2. Define the vector `Y` of `Prices`"
   ]
  },
  {
   "cell_type": "markdown",
   "metadata": {},
   "source": [
    "$Y = \\begin{bmatrix}\n",
    "    244 \\\\\n",
    "    671 \\\\\n",
    "    504 \\\\\n",
    "    510\n",
    "\\end{bmatrix}$\n",
    "\n",
    "In order to match our matricial representation $Y = X\\theta$, what should the shape of $Y$ be? Define $Y$ below\n",
    "\n",
    "<details>\n",
    "    <summary>Hint</summary>\n",
    "\n",
    "Y should be a (4,1) array, equivalent to a flat \"vector\", represented vertically\n",
    "</details>"
   ]
  },
  {
   "cell_type": "code",
   "execution_count": 153,
   "metadata": {},
   "outputs": [
    {
     "data": {
      "text/plain": [
       "(4, 1)"
      ]
     },
     "execution_count": 153,
     "metadata": {},
     "output_type": "execute_result"
    }
   ],
   "source": [
    "# Define Y here\n",
    "Y = np.array([[244],\n",
    "             [671],\n",
    "             [504],\n",
    "             [510]])\n",
    "Y.shape"
   ]
  },
  {
   "cell_type": "markdown",
   "metadata": {},
   "source": [
    "### Check your code!"
   ]
  },
  {
   "cell_type": "code",
   "execution_count": 124,
   "metadata": {},
   "outputs": [
    {
     "name": "stdout",
     "output_type": "stream",
     "text": [
      "\u001b[1m============================= test session starts ==============================\u001b[0m\n",
      "platform linux -- Python 3.8.12, pytest-6.2.5, py-1.10.0, pluggy-1.0.0 -- /home/useradd/.pyenv/versions/lewagon/bin/python3\n",
      "cachedir: .pytest_cache\n",
      "rootdir: /home/useradd/code/LucaVanTichelen/data-challenges/03-Maths/01-Algebra-Calculus/01-real-estate-estimator\n",
      "plugins: dash-2.0.0, anyio-3.3.2\n",
      "\u001b[1mcollecting ... \u001b[0mcollected 1 item\n",
      "\n",
      "tests/test_target.py::TestTarget::test_shape \u001b[32mPASSED\u001b[0m\u001b[32m                      [100%]\u001b[0m\n",
      "\n",
      "\u001b[32m============================== \u001b[32m\u001b[1m1 passed\u001b[0m\u001b[32m in 0.16s\u001b[0m\u001b[32m ===============================\u001b[0m\n",
      "\n",
      "\n",
      "💯 You can commit your code:\n",
      "\n",
      "\u001b[1;32mgit\u001b[39m add tests/target.pickle\n",
      "\n",
      "\u001b[32mgit\u001b[39m commit -m \u001b[33m'Completed target step'\u001b[39m\n",
      "\n",
      "\u001b[32mgit\u001b[39m push origin master\n"
     ]
    }
   ],
   "source": [
    "from nbresult import ChallengeResult\n",
    "\n",
    "result = ChallengeResult('target',\n",
    "    target=Y\n",
    ")\n",
    "result.write()\n",
    "print(result.check())"
   ]
  },
  {
   "cell_type": "markdown",
   "metadata": {},
   "source": [
    "## 3 Find the solution of the system\n",
    "\n",
    "Now is the time to find the vector of coefficients $\\theta$ !\n",
    "\n",
    "The solution of the equation is:\n",
    " \n",
    "$$ X\\theta = Y \\\\\n",
    "\\Leftrightarrow X^{-1}X\\theta = X^{-1}Y \\\\\n",
    "\\Leftrightarrow \\theta = X^{-1}Y$$\n",
    "\n",
    "where $X^{-1}$ is the inverse of $X$."
   ]
  },
  {
   "cell_type": "code",
   "execution_count": 125,
   "metadata": {},
   "outputs": [
    {
     "name": "stdout",
     "output_type": "stream",
     "text": [
      "[[   1  620    1    1]\n",
      " [   1 3280    4    2]\n",
      " [   1 1900    2    2]\n",
      " [   1 1320    3    3]]\n"
     ]
    },
    {
     "data": {
      "text/plain": [
       "array([[ 1.64516129e+00,  4.42419702e-17, -2.90322581e-01,\n",
       "        -3.54838710e-01],\n",
       "       [-5.37634409e-04, -2.50426246e-19,  1.07526882e-03,\n",
       "        -5.37634409e-04],\n",
       "       [ 3.70967742e-01,  5.00000000e-01, -1.24193548e+00,\n",
       "         3.70967742e-01],\n",
       "       [-6.82795699e-01, -5.00000000e-01,  8.65591398e-01,\n",
       "         3.17204301e-01]])"
      ]
     },
     "execution_count": 125,
     "metadata": {},
     "output_type": "execute_result"
    }
   ],
   "source": [
    "# Compute the inverse of the matrix X with the right NumPy method\n",
    "inv = np.linalg.inv(X)\n",
    "print(X)\n",
    "inv"
   ]
  },
  {
   "cell_type": "markdown",
   "metadata": {},
   "source": [
    "You can check if the inversion worked by testing:\n",
    "\n",
    "$$X^{-1}X = I_4$$\n",
    "where $I_4$ is the 4 by 4 identity matrix."
   ]
  },
  {
   "cell_type": "code",
   "execution_count": 126,
   "metadata": {},
   "outputs": [
    {
     "data": {
      "text/plain": [
       "array([[1, 0, 0, 0],\n",
       "       [0, 1, 0, 0],\n",
       "       [0, 0, 1, 0],\n",
       "       [0, 0, 0, 1]])"
      ]
     },
     "execution_count": 126,
     "metadata": {},
     "output_type": "execute_result"
    }
   ],
   "source": [
    "# Define I4 using the right NumPy method\n",
    "I4 = np.eye(4, dtype=int)\n",
    "I4"
   ]
  },
  {
   "cell_type": "markdown",
   "metadata": {},
   "source": [
    "Now compute $X^{-1}X$:"
   ]
  },
  {
   "cell_type": "code",
   "execution_count": 127,
   "metadata": {},
   "outputs": [
    {
     "data": {
      "text/plain": [
       "array([[ 1.00000000e+00,  2.09166018e-13,  4.99600361e-16,\n",
       "         5.55111512e-17],\n",
       "       [-2.16840434e-19,  1.00000000e+00, -9.75781955e-19,\n",
       "        -5.42101086e-19],\n",
       "       [ 1.11022302e-16,  2.79776202e-13,  1.00000000e+00,\n",
       "         1.11022302e-16],\n",
       "       [-5.55111512e-17, -1.55875313e-13, -2.77555756e-16,\n",
       "         1.00000000e+00]])"
      ]
     },
     "execution_count": 127,
     "metadata": {},
     "output_type": "execute_result"
    }
   ],
   "source": [
    "# Your code\n",
    "result = np.dot(inv, X)\n",
    "result"
   ]
  },
  {
   "cell_type": "markdown",
   "metadata": {},
   "source": [
    "Does it look like $I_4$?\n",
    "\n",
    "⛔️ If it doesn't, you probably used the `*` operator to perform the multiplication between $X^{-1}$ and $X$. Here we want to perform the matrix product. You should find the right Numpy method to do so.\n",
    "\n",
    "✅ If it does, you might have noticed that you do not get exactly zeros and ones in the resulting product. To be sure, you can try the [`numpy.allclose()`](https://numpy.org/doc/stable/reference/generated/numpy.allclose.html?highlight=allclose#numpy.allclose) method to check your result:"
   ]
  },
  {
   "cell_type": "code",
   "execution_count": 128,
   "metadata": {},
   "outputs": [
    {
     "data": {
      "text/plain": [
       "True"
      ]
     },
     "execution_count": 128,
     "metadata": {},
     "output_type": "execute_result"
    }
   ],
   "source": [
    "# Your code\n",
    "np.allclose(I4, result)"
   ]
  },
  {
   "cell_type": "markdown",
   "metadata": {},
   "source": [
    "You are finally able to find $\\theta = X^{-1}Y$:"
   ]
  },
  {
   "cell_type": "code",
   "execution_count": 129,
   "metadata": {},
   "outputs": [
    {
     "data": {
      "text/plain": [
       "array([[ 74.12903226],\n",
       "       [  0.13655914],\n",
       "       [-10.72580645],\n",
       "       [ 95.93010753]])"
      ]
     },
     "execution_count": 129,
     "metadata": {},
     "output_type": "execute_result"
    }
   ],
   "source": [
    "# Compute theta\n",
    "theta = np.dot(inv, Y)\n",
    "theta"
   ]
  },
  {
   "cell_type": "markdown",
   "metadata": {},
   "source": [
    "### Check your code !"
   ]
  },
  {
   "cell_type": "code",
   "execution_count": 130,
   "metadata": {},
   "outputs": [
    {
     "name": "stdout",
     "output_type": "stream",
     "text": [
      "\u001b[1m============================= test session starts ==============================\u001b[0m\n",
      "platform linux -- Python 3.8.12, pytest-6.2.5, py-1.10.0, pluggy-1.0.0 -- /home/useradd/.pyenv/versions/lewagon/bin/python3\n",
      "cachedir: .pytest_cache\n",
      "rootdir: /home/useradd/code/LucaVanTichelen/data-challenges/03-Maths/01-Algebra-Calculus/01-real-estate-estimator\n",
      "plugins: dash-2.0.0, anyio-3.3.2\n",
      "\u001b[1mcollecting ... \u001b[0mcollected 2 items\n",
      "\n",
      "tests/test_solution.py::TestSolution::test_theta0_is_positive \u001b[32mPASSED\u001b[0m\u001b[32m     [ 50%]\u001b[0m\n",
      "tests/test_solution.py::TestSolution::test_theta_shape \u001b[32mPASSED\u001b[0m\u001b[32m            [100%]\u001b[0m\n",
      "\n",
      "\u001b[32m============================== \u001b[32m\u001b[1m2 passed\u001b[0m\u001b[32m in 0.21s\u001b[0m\u001b[32m ===============================\u001b[0m\n",
      "\n",
      "\n",
      "💯 You can commit your code:\n",
      "\n",
      "\u001b[1;32mgit\u001b[39m add tests/solution.pickle\n",
      "\n",
      "\u001b[32mgit\u001b[39m commit -m \u001b[33m'Completed solution step'\u001b[39m\n",
      "\n",
      "\u001b[32mgit\u001b[39m push origin master\n"
     ]
    }
   ],
   "source": [
    "from nbresult import ChallengeResult\n",
    "\n",
    "result = ChallengeResult('solution',\n",
    "    theta=theta\n",
    ")\n",
    "result.write()\n",
    "print(result.check())"
   ]
  },
  {
   "cell_type": "markdown",
   "metadata": {},
   "source": [
    "## 4. Estimation of a new flat price\n",
    "\n",
    "You finally solved the system finding $\\theta$ and are now able to estimate the `Price` (in thousands of $) of a 5th flat given these characteristics:\n",
    "\n",
    "- `Surface`: 3000 $ft^2$\n",
    "- `Bedrooms`: 5 \n",
    "- `Floors`: 1\n",
    "\n",
    "with the following formula:\n",
    "\n",
    "$$Y_{flat5} = X_{flat5}\\theta$$"
   ]
  },
  {
   "cell_type": "code",
   "execution_count": 145,
   "metadata": {},
   "outputs": [
    {
     "data": {
      "text/plain": [
       "array([[526.10752688]])"
      ]
     },
     "execution_count": 145,
     "metadata": {},
     "output_type": "execute_result"
    }
   ],
   "source": [
    "# Define X5\n",
    "X5 = np.array([[1, 3000, 5, 1]])\n",
    "# Compute Y5\n",
    "Y5 = np.dot(X5, theta)\n",
    "Y5\n",
    "# You should find a Price of 526,000 $"
   ]
  },
  {
   "cell_type": "markdown",
   "metadata": {},
   "source": [
    "## 5. Reality check"
   ]
  },
  {
   "cell_type": "markdown",
   "metadata": {},
   "source": [
    "In reality, flat price is never entirely determined by it's surface, bedroom and floor numbers.\n",
    "\n",
    "Let's imagine that we measure the real price $Y_{flat5}$ at $700,000$ instead of $526,000$ as predicted. Could we take this new information into account to improve our model?\n",
    "\n",
    "Update the linear system of equation $X\\theta = Y$ to reflect this new datapoint measured"
   ]
  },
  {
   "cell_type": "code",
   "execution_count": 156,
   "metadata": {},
   "outputs": [
    {
     "data": {
      "text/plain": [
       "array([[   1,  620,    1,    1],\n",
       "       [   1, 3280,    4,    2],\n",
       "       [   1, 1900,    2,    2],\n",
       "       [   1, 1320,    3,    3],\n",
       "       [   1, 3000,    5,    1]])"
      ]
     },
     "execution_count": 156,
     "metadata": {},
     "output_type": "execute_result"
    }
   ],
   "source": [
    "# Create the new matrix of a feature X of shape (5,4)\n",
    "X = np.vstack((X, [1, 3000, 5, 1]))\n",
    "X"
   ]
  },
  {
   "cell_type": "code",
   "execution_count": 154,
   "metadata": {},
   "outputs": [
    {
     "data": {
      "text/plain": [
       "array([[244],\n",
       "       [671],\n",
       "       [504],\n",
       "       [510],\n",
       "       [700]])"
      ]
     },
     "execution_count": 154,
     "metadata": {},
     "output_type": "execute_result"
    }
   ],
   "source": [
    "# Create a new Y of shape (5,1)\n",
    "Y = np.vstack((Y, 700))\n",
    "Y"
   ]
  },
  {
   "cell_type": "markdown",
   "metadata": {},
   "source": [
    "Let's try to predict the price of a 6th flat from our updated model.  \n",
    "To do so, try to solve $\\theta$ from $X\\theta = Y$ using [`numpy.linalg.solve`](https://docs.scipy.org/doc/numpy/reference/generated/numpy.linalg.solve.html).\n",
    "\n",
    "What is going on? What can you conclude?"
   ]
  },
  {
   "cell_type": "code",
   "execution_count": 157,
   "metadata": {
    "scrolled": false
   },
   "outputs": [
    {
     "data": {
      "text/plain": [
       "array([[ 74.12903226],\n",
       "       [  0.13655914],\n",
       "       [-10.72580645],\n",
       "       [ 95.93010753]])"
      ]
     },
     "execution_count": 157,
     "metadata": {},
     "output_type": "execute_result"
    }
   ],
   "source": [
    "# Your code\n",
    "theta"
   ]
  },
  {
   "cell_type": "markdown",
   "metadata": {},
   "source": [
    "<details>\n",
    "    <summary>👉 Explanations</summary>\n",
    "\n",
    "$X$ is not a square matrix, therefore it cannot be inversible: $X^-1$ does not exist, and $\\theta$ cannot be computed from $Y = X\\theta$ \n",
    "    \n",
    "Our initial approach, which consists of finding a closed mathematical formula to compute an exact flat price as linear combination of only 3 features **does not hold** true for our 5 observed flats. \n",
    "\n",
    "Instead, we will learn in the coming weeks to find ways to **approximate** a flat price based on these features.\n",
    "\n",
    "For instance, instead of solving $Y = X\\theta$ we could find $\\hat{\\theta}$ that minimizes the error $e = X\\hat{\\theta} - Y $: This approach is called a **linear regression model**\n",
    "\n",
    "This new estimator can then be used to give an **approximate** estimation of the price on any new flats with $Y_{flat_6} = X_{flat_6} \\hat{\\theta}$ \n",
    "\n",
    "</details>"
   ]
  },
  {
   "cell_type": "markdown",
   "metadata": {},
   "source": [
    "🏁 Congratulations! Don't forget to commit and push your notebook before moving on to the next challenge! "
   ]
  }
 ],
 "metadata": {
  "kernelspec": {
   "display_name": "Python 3 (ipykernel)",
   "language": "python",
   "name": "python3"
  },
  "language_info": {
   "codemirror_mode": {
    "name": "ipython",
    "version": 3
   },
   "file_extension": ".py",
   "mimetype": "text/x-python",
   "name": "python",
   "nbconvert_exporter": "python",
   "pygments_lexer": "ipython3",
   "version": "3.8.12"
  },
  "toc": {
   "base_numbering": 1,
   "nav_menu": {},
   "number_sections": false,
   "sideBar": true,
   "skip_h1_title": false,
   "title_cell": "Table of Contents",
   "title_sidebar": "Contents",
   "toc_cell": false,
   "toc_position": {
    "height": "calc(100% - 180px)",
    "left": "10px",
    "top": "150px",
    "width": "373.391px"
   },
   "toc_section_display": true,
   "toc_window_display": false
  },
  "varInspector": {
   "cols": {
    "lenName": 16,
    "lenType": 16,
    "lenVar": 40
   },
   "kernels_config": {
    "python": {
     "delete_cmd_postfix": "",
     "delete_cmd_prefix": "del ",
     "library": "var_list.py",
     "varRefreshCmd": "print(var_dic_list())"
    },
    "r": {
     "delete_cmd_postfix": ") ",
     "delete_cmd_prefix": "rm(",
     "library": "var_list.r",
     "varRefreshCmd": "cat(var_dic_list()) "
    }
   },
   "types_to_exclude": [
    "module",
    "function",
    "builtin_function_or_method",
    "instance",
    "_Feature"
   ],
   "window_display": false
  }
 },
 "nbformat": 4,
 "nbformat_minor": 2
}