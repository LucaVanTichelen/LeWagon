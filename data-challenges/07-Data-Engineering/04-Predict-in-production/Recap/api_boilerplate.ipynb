{
 "cells": [
  {
   "cell_type": "markdown",
   "metadata": {},
   "source": [
    "# Create an API"
   ]
  },
  {
   "cell_type": "markdown",
   "metadata": {},
   "source": [
    "## Create a root endpoint"
   ]
  },
  {
   "cell_type": "code",
   "execution_count": 0,
   "metadata": {},
   "outputs": [],
   "source": [
    "from fastapi import FastAPI\n",
    "\n",
    "app = FastAPI()\n",
    "\n",
    "\n",
    "@app.get(\"/\")\n",
    "def root():\n",
    "    return {\"greeting\": \"hello\"}\n"
   ]
  },
  {
   "cell_type": "markdown",
   "metadata": {},
   "source": [
    "## Add CORS"
   ]
  },
  {
   "cell_type": "code",
   "execution_count": 0,
   "metadata": {},
   "outputs": [],
   "source": [
    "from fastapi.middleware.cors import CORSMiddleware\n",
    "\n",
    "app.add_middleware(\n",
    "    CORSMiddleware,\n",
    "    allow_origins=[\"*\"],  # Allows all origins\n",
    "    allow_credentials=True,\n",
    "    allow_methods=[\"*\"],  # Allows all methods\n",
    "    allow_headers=[\"*\"],  # Allows all headers\n",
    ")"
   ]
  },
  {
   "cell_type": "markdown",
   "metadata": {},
   "source": [
    "## Add a predict endpoint"
   ]
  },
  {
   "cell_type": "code",
   "execution_count": 0,
   "metadata": {},
   "outputs": [],
   "source": [
    "@app.get(\"/predict\")\n",
    "def predict(pickup_datetime,  # 2013-07-06 17:18:00\n",
    "            lon1,             # -73.950655\n",
    "            lat1,             # 40.783282\n",
    "            lon2,             # -73.984365\n",
    "            lat2,             # 40.769802\n",
    "            passcount):       # 1\n",
    "    return {\"pred\": \"the prediction\"}\n"
   ]
  },
  {
   "cell_type": "markdown",
   "metadata": {},
   "source": [
    "## Build a DataFrame from the API parameters"
   ]
  },
  {
   "cell_type": "code",
   "execution_count": 0,
   "metadata": {},
   "outputs": [],
   "source": [
    "import pandas as pd\n",
    "\n",
    "# ⚠️ no timezone conversion here: the user is assumed to provide an UTC datetime\n",
    "\n",
    "X_pred = pd.DataFrame({\n",
    "    \"key\": [\"truc\"],\n",
    "    \"pickup_datetime\": [pickup_datetime + \" UTC\"],\n",
    "    \"pickup_longitude\": [float(lon1)],\n",
    "    \"pickup_latitude\": [float(lat1)],\n",
    "    \"dropoff_longitude\": [float(lon2)],\n",
    "    \"dropoff_latitude\": [float(lat2)],\n",
    "    \"passenger_count\": [int(passcount)]})\n"
   ]
  },
  {
   "cell_type": "markdown",
   "metadata": {},
   "source": [
    "## Load a trained model and make a prediction"
   ]
  },
  {
   "cell_type": "code",
   "execution_count": 0,
   "metadata": {},
   "outputs": [],
   "source": [
    "import joblib\n",
    "\n",
    "# load the trained model\n",
    "pipeline = joblib.load(\"model.joblib\")\n",
    "\n",
    "# make a prediction for the parameters passed to the API\n",
    "y_pred = pipeline.predict(X_pred)\n",
    "\n",
    "# return the prediction\n",
    "prediction = y_pred[0]\n"
   ]
  },
  {
   "cell_type": "markdown",
   "metadata": {},
   "source": [
    "# Put API in production"
   ]
  },
  {
   "cell_type": "markdown",
   "metadata": {},
   "source": [
    "## Create Dockerfile"
   ]
  },
  {
   "cell_type": "code",
   "execution_count": 0,
   "metadata": {},
   "outputs": [],
   "source": [
    "FROM python:3.8-buster\n",
    "\n",
    "COPY api api\n",
    "COPY taxifare taxifare\n",
    "COPY model.joblib model.joblib\n",
    "COPY requirements.txt requirements.txt\n",
    "\n",
    "RUN pip install --upgrade pip\n",
    "RUN pip install -r requirements.txt\n",
    "\n",
    "CMD uvicorn api.fast:app --host 0.0.0.0 --port $PORT\n"
   ]
  }
 ],
 "metadata": {
  "kernelspec": {
   "display_name": "Python 3",
   "language": "python",
   "name": "python3"
  }
 },
 "nbformat": 4,
 "nbformat_minor": 4
}
