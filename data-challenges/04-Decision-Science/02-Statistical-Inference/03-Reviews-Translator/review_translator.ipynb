{
 "cells": [
  {
   "cell_type": "markdown",
   "metadata": {},
   "source": [
    "# Olist reviews' - Translations...\n",
    "\n",
    "* Unless you speak 🇧🇷 Brazilian Portuguese, let's translate the `order_reviews` in 🇬🇧 English !\n",
    "\n",
    "* You will need to `pip install` the `google_translator` package."
   ]
  },
  {
   "cell_type": "markdown",
   "metadata": {},
   "source": [
    "## Review Translator"
   ]
  },
  {
   "cell_type": "markdown",
   "metadata": {},
   "source": [
    "👉 Load the `reviews` and select a sample of rewiews associated to a one-star rating"
   ]
  },
  {
   "cell_type": "code",
   "execution_count": 0,
   "metadata": {},
   "outputs": [],
   "source": [
    "# Load data \n",
    "from google_trans_new import google_translator\n",
    "from olist.data import Olist\n",
    "data = Olist().get_data()"
   ]
  },
  {
   "cell_type": "markdown",
   "metadata": {},
   "source": [
    "👀 Select a sample of 20 low scores reviews (randomly) and convert it into a list."
   ]
  },
  {
   "cell_type": "code",
   "execution_count": 0,
   "metadata": {
    "tags": [
     "challengify"
    ]
   },
   "outputs": [],
   "source": [
    "# YOUR CODE HERE"
   ]
  },
  {
   "cell_type": "markdown",
   "metadata": {},
   "source": [
    "🗣 Translate these reviews using the `google_translator` package you've previously installed before starting this challenge:"
   ]
  },
  {
   "cell_type": "code",
   "execution_count": 0,
   "metadata": {
    "tags": [
     "challengify"
    ]
   },
   "outputs": [],
   "source": [
    "# YOUR CODE HERE"
   ]
  },
  {
   "cell_type": "markdown",
   "metadata": {},
   "source": [
    "**Insights** 💡\n",
    "- Some bad reviews are linked to the delivery (`wait_time`, missed deadline,  etc...)\n",
    "- But some bad reviews are linked to the seller or the product...\n",
    "\n",
    "How can we differentiate between the two possible causes?\n",
    "\n",
    "That's something important Olist needs to know:\n",
    "- should we remove some products from the catalogue?\n",
    "- or remove some sellers from their marketplace?\n",
    "\n",
    "🗓 Agenda:\n",
    "\n",
    "* 👀 We still have 3 days to analyse Olist, and you can continue later after the bootcamp to practice your data analyst skills\n",
    "\n",
    "* 🗣 We will run some `Natural Language Processing` algorithms on the Day 10 of Machine Learning to extract some information about these reviews\n"
   ]
  },
  {
   "cell_type": "code",
   "execution_count": 0,
   "metadata": {},
   "outputs": [],
   "source": []
  }
 ],
 "metadata": {
  "kernelspec": {
   "display_name": "Python 3",
   "language": "python",
   "name": "python3"
  }
 },
 "nbformat": 4,
 "nbformat_minor": 4
}