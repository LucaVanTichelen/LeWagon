{
 "cells": [
  {
   "cell_type": "markdown",
   "metadata": {},
   "source": [
    "# Simple orders analysis"
   ]
  },
  {
   "cell_type": "markdown",
   "metadata": {},
   "source": [
    "🚀 We are finally ready to start analysing our `orders` dataset!\n",
    "\n",
    "Our objective is to get an initial understanding of:\n",
    "- `orders` properties\n",
    "- their associated `review_scores`"
   ]
  },
  {
   "cell_type": "code",
   "execution_count": 0,
   "metadata": {},
   "outputs": [],
   "source": [
    "# Import Modules \n",
    "\n",
    "import pandas as pd\n",
    "import numpy as np \n",
    "import seaborn as sns\n",
    "import matplotlib.pyplot as plt"
   ]
  },
  {
   "cell_type": "code",
   "execution_count": 0,
   "metadata": {},
   "outputs": [],
   "source": [
    "%load_ext autoreload\n",
    "%autoreload 2"
   ]
  },
  {
   "cell_type": "code",
   "execution_count": 0,
   "metadata": {},
   "outputs": [],
   "source": [
    "# Import your newly coded _order_ training set\n",
    "from olist.order import Order\n",
    "\n",
    "# Change `with_distance_seller_customer` to False..\n",
    "# ..if you have not completed the optional part of challenge 1 yet\n",
    "orders = Order().get_training_data(with_distance_seller_customer=True)"
   ]
  },
  {
   "cell_type": "markdown",
   "metadata": {
    "slideshow": {
     "slide_type": "slide"
    }
   },
   "source": [
    "## 1 - Inspect features"
   ]
  },
  {
   "cell_type": "markdown",
   "metadata": {},
   "source": [
    "👉 Print summary statistics of each column of the order dataset (then focus in particular on `wait_time`)"
   ]
  },
  {
   "cell_type": "code",
   "execution_count": 0,
   "metadata": {
    "tags": [
     "challengify"
    ]
   },
   "outputs": [],
   "source": [
    "# YOUR CODE HERE"
   ]
  },
  {
   "cell_type": "markdown",
   "metadata": {},
   "source": [
    "📈 Plot histograms to get a sense of the distribution of each numerical feature."
   ]
  },
  {
   "cell_type": "code",
   "execution_count": 0,
   "metadata": {
    "tags": [
     "challengify"
    ]
   },
   "outputs": [],
   "source": [
    "# YOUR CODE HERE"
   ]
  },
  {
   "cell_type": "markdown",
   "metadata": {},
   "source": [
    "👀 In particular, create a `sns.FacetGrid()` of histograms for each `review_score` vs. `wait_time`"
   ]
  },
  {
   "cell_type": "code",
   "execution_count": 0,
   "metadata": {
    "tags": [
     "challengify"
    ]
   },
   "outputs": [],
   "source": [
    "# YOUR CODE HERE"
   ]
  },
  {
   "cell_type": "markdown",
   "metadata": {},
   "source": [
    "❓ What do you notice for the variables `price` and `freight_value` ? \n",
    "\n",
    "❓ Have a look at the  `distance_seller_customer` feature if you have created it in `order.py`"
   ]
  },
  {
   "cell_type": "code",
   "execution_count": 0,
   "metadata": {
    "tags": [
     "challengify"
    ]
   },
   "outputs": [],
   "source": [
    "# YOUR CODE HERE"
   ]
  },
  {
   "cell_type": "markdown",
   "metadata": {},
   "source": [
    "❓Inspect the various correlations between features: which feature seems to the most correlated with `review_score`?\n",
    "\n",
    "<details>\n",
    "    <summary>- Hint - </summary>\n",
    "\n",
    "* Use `DataFrame.corr()` combined with `sns.heatmap()` and `cmap='coolwarm'`\n",
    "* Have a look at the absolute values of the correlation coefficients of `review_score` vs. each feature,\n",
    "    * the higher the coefficient, the more one given feature is correlated (positively or negatively) with the `review_score`\n",
    "\n",
    "</details>"
   ]
  },
  {
   "cell_type": "code",
   "execution_count": 0,
   "metadata": {
    "tags": [
     "challengify"
    ]
   },
   "outputs": [],
   "source": [
    "# YOUR CODE HERE"
   ]
  },
  {
   "cell_type": "markdown",
   "metadata": {},
   "source": [
    "* 😏 _Captain Obvious :_\n",
    "    * `review_score` is 100% correlated to itself \n",
    "    * and strongly correlated to `dim_is_one_star` and `dim_is_five_star`...\n",
    "* ⚠️ The two next highest correlation coefficients with respect to the `review_score` are :\n",
    "    * `wait_time` : - 34 %\n",
    "    * `delay_vs_expected` : 27 %"
   ]
  },
  {
   "cell_type": "markdown",
   "metadata": {},
   "source": [
    "## 2 - Simple regression of `review_score` against delivery duration"
   ]
  },
  {
   "cell_type": "markdown",
   "metadata": {},
   "source": [
    "👉 So, it seems that `review_score` is mostly correlated with `wait_time` (= - 34%) and `delay_vs_expected` (27%).\n",
    "\n",
    "🎨 Let's investigate these correlations  with `seaborn`"
   ]
  },
  {
   "cell_type": "markdown",
   "metadata": {},
   "source": [
    "### 2.1 Plots\n",
    "❓ In one figure, create 2 subplots, that regress `review_score` on `wait_time` and `delay_vs_expected` respectively.\n",
    "\n",
    "<u>Tips</u>:\n",
    "\n",
    "- Reduce your dataframe to a random sub-`sample of 10,000 rows` for speed purposes (a good practice in data exploration)\n",
    "- Use `DataFrame.sample()` with a fixed `random_state` to avoid changing the sample at each execution if needed\n",
    "- Use `sns.regplot()` to plot the `regression lines`\n",
    "- Add some `y_jitter` parameters to better visualize the scatterplot density\n",
    "- Limit `xlim` and `ylim` to hide outliers"
   ]
  },
  {
   "cell_type": "code",
   "execution_count": 0,
   "metadata": {
    "tags": [
     "challengify"
    ]
   },
   "outputs": [],
   "source": [
    "# YOUR CODE HERE"
   ]
  },
  {
   "cell_type": "code",
   "execution_count": 0,
   "metadata": {
    "tags": [
     "challengify"
    ]
   },
   "outputs": [],
   "source": [
    "# YOUR CODE HERE"
   ]
  },
  {
   "cell_type": "markdown",
   "metadata": {},
   "source": [
    "ℹ️ What did `regplot` do ? \n",
    "\n",
    "👉 It tried to perform a `Linear Regression` of the `review_score` vs. `wait_time` and `delay_vs_exp` <br/> *(Cf. Day 03 - Linear Regression)*\n",
    "\n",
    "🧐 It doesn't look so interpretable, does it ?\n",
    "\n",
    "👉 You are right: we have only 5  different review scores which can be interpreted as a categorical variable with five different possible values (for example: \"very bad\", \"bad\", \"average\", \"good\" and \"very good\") that we are trying to regress against two continuous values that are `review_scores` and `wait_time`.\n",
    "\n",
    "👀 However, based on the regression lines, we can see a very intuitive pattern: the longer the waiting time and/or the delay, the lower the review score - Well, not surprising. But how fast does the review score decrease ?\n"
   ]
  },
  {
   "cell_type": "markdown",
   "metadata": {},
   "source": [
    "### 2.2 Interpretation"
   ]
  },
  {
   "cell_type": "markdown",
   "metadata": {},
   "source": [
    "❓Try to visually \"compute\" the `slope` of each curve. \n",
    "\n",
    "✍️ Write down, in plain English, how you would interpret these coefficients if you were to explain it to a non-data-educated audience."
   ]
  },
  {
   "cell_type": "markdown",
   "metadata": {
    "tags": [
     "challengify"
    ]
   },
   "source": [
    "> YOUR ANSWER HERE"
   ]
  },
  {
   "cell_type": "markdown",
   "metadata": {},
   "source": [
    "<details>\n",
    "    <summary>Answer: click <u><i>here</i></u></summary>\n",
    "\n",
    "\n",
    "- `Slope wait_time ≈ -0.05` : \"For each additional day waiting for an order to be delivered, the review score on average is reduced by 0.05\"\n",
    "- `Slope delay ≈ -0.1` : \"For each additional day waiting for an order to be delivered _after the ETA_, the review score on average is reduced by 0.1\"\n",
    "\n",
    "❓ Are you surprised that the delay seems more impactful than the waiting time ? \n",
    "    \n",
    "👉If yes, think about it twice: you may be impatient to receive your order and would like a small wait time, but you would be even more disappointed to receive your package after the expected delivery date !"
   ]
  },
  {
   "cell_type": "markdown",
   "metadata": {},
   "source": [
    "### 2.3 Inferential analysis\n",
    "\n",
    "Even if we had used all 100,000 orders for these regplots, these orders represent 16 months of data after all...\n",
    "\n",
    "⚠️⚠️⚠️ **How certain** are we that these coefficients are **statistically significant**? ⚠️⚠️⚠️\n",
    "\n",
    "⚡️ <u> Questions about the statistical significance of these coefficients: </u>\n",
    "\n",
    "* Are these coefficients able to generalize well to future orders (all else being equal) ? (*Ideal answer: Yes*) \n",
    "* Are we sure that these coefficients do not simply capture random fluctuations due to the limited observation period ? (*Ideal answer: No*) \n",
    "\n",
    "🧐 We need to estimate the **`confidence interval`** around the mean value for these two slopes  :\n",
    "$$slope_{wait} = -0.05 ± \\ ?? \\ \\text{[95% interval]} $$\n",
    "$$slope_{delay} = -0.1 ± \\ ?? \\ \\text{[95% interval]} $$\n",
    "\n",
    "⭐️ Fortunately, `Seaborn` already computes this 95% confidence interval for us with a shaded blue cone around the regression line!\n",
    "\n",
    "❓Use `Seaborn` `regplot` to visualize the two confidence intervals:\n",
    "- Change the `size of your sample dataset`: \n",
    "    - Notice how the slope may change as the sample size becomes smaller. \n",
    "    - What about the confidence interval?\n",
    "- Change the `size of the confidence interval` by playing with the regplot parameter called `ci` (95% by default)"
   ]
  },
  {
   "cell_type": "code",
   "execution_count": 0,
   "metadata": {
    "tags": [
     "challengify"
    ]
   },
   "outputs": [],
   "source": [
    "# YOUR CODE HERE"
   ]
  },
  {
   "cell_type": "markdown",
   "metadata": {},
   "source": [
    "🔎 Interpretation:\n",
    "\n",
    "* **Null Hypothesis** $H_0$ : \"this variable does not influence the review score\", a.k.a its coefficient is equal to zero\n",
    "\n",
    "When plotting all our datapoints:\n",
    "- The 95% confidence interval for the slope does not contain the value 0.\n",
    "    - 👉 We are `95% confident that slower deliveries are associated with weaker reviews`.\n",
    "- The **`p-value`** associated with the null hypothesis \"the delivery time is almost zero\" is lower than 5%\n",
    "    - 👉 We can safely reject this null hypothesis and consider the **`alternative hypothesis`** = `\"the delivery time has an impact on the review score\"` \n",
    "\n",
    "🔥 Our findings are said to be **statistically significant**. \n",
    "\n",
    "⚠️ However, **correlation does NOT imply causality**. \n",
    "\n",
    "- It can be inherently slower to deliver certain products (e.g.heavy products)\n",
    "    - These categories of products will often have a low review_score, not matter how long their delivery time is. \n",
    "\n",
    "👉 Identifying **confounding factor** is crucial and cannot be done with a simple univariate regression. \n",
    "\n",
    "🗓 Cf. `Lecture 3 - Linear Regression` : we will talk about **`multivariate linear regression`**. \n",
    "</details>\n",
    "\n"
   ]
  },
  {
   "cell_type": "markdown",
   "metadata": {},
   "source": [
    "---\n",
    "🏁 Congratulations! \n",
    "\n",
    "🙏 Don't forget to `commit` and `push` your notebook"
   ]
  },
  {
   "cell_type": "code",
   "execution_count": 0,
   "metadata": {},
   "outputs": [],
   "source": []
  }
 ],
 "metadata": {
  "kernelspec": {
   "display_name": "Python 3",
   "language": "python",
   "name": "python3"
  }
 },
 "nbformat": 4,
 "nbformat_minor": 4
}