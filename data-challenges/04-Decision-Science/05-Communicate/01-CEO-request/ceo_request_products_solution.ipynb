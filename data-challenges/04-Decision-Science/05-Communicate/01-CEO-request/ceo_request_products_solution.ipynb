{
 "cells": [
  {
   "cell_type": "markdown",
   "metadata": {},
   "source": [
    "# CEO-REQUEST CHALLENGE"
   ]
  },
  {
   "cell_type": "markdown",
   "metadata": {},
   "source": [
    "> Should Olist remove underperforming products/categories from its marketplace?"
   ]
  },
  {
   "cell_type": "code",
   "execution_count": 6,
   "metadata": {},
   "outputs": [
    {
     "name": "stdout",
     "output_type": "stream",
     "text": [
      "The autoreload extension is already loaded. To reload it, use:\n",
      "  %reload_ext autoreload\n"
     ]
    }
   ],
   "source": [
    "%load_ext autoreload\n",
    "%autoreload 2"
   ]
  },
  {
   "cell_type": "code",
   "execution_count": 7,
   "metadata": {},
   "outputs": [],
   "source": [
    "import numpy as np\n",
    "import pandas as pd\n",
    "import matplotlib.pyplot as plt\n",
    "import seaborn as sns"
   ]
  },
  {
   "cell_type": "code",
   "execution_count": 8,
   "metadata": {},
   "outputs": [],
   "source": [
    "from olist.product_updated import Product\n",
    "product = Product()\n",
    "products = product.get_training_data()"
   ]
  },
  {
   "cell_type": "code",
   "execution_count": 9,
   "metadata": {},
   "outputs": [
    {
     "ename": "ModuleNotFoundError",
     "evalue": "No module named 'olist.seller_updated'",
     "output_type": "error",
     "traceback": [
      "\u001b[0;31m---------------------------------------------------------------------------\u001b[0m",
      "\u001b[0;31mModuleNotFoundError\u001b[0m                       Traceback (most recent call last)",
      "\u001b[0;32m/tmp/ipykernel_4237/27386537.py\u001b[0m in \u001b[0;36m<module>\u001b[0;34m\u001b[0m\n\u001b[0;32m----> 1\u001b[0;31m \u001b[0;32mfrom\u001b[0m \u001b[0molist\u001b[0m\u001b[0;34m.\u001b[0m\u001b[0mseller_updated\u001b[0m \u001b[0;32mimport\u001b[0m \u001b[0mSeller\u001b[0m\u001b[0;34m\u001b[0m\u001b[0;34m\u001b[0m\u001b[0m\n\u001b[0m\u001b[1;32m      2\u001b[0m \u001b[0mseller\u001b[0m \u001b[0;34m=\u001b[0m \u001b[0mSeller\u001b[0m\u001b[0;34m(\u001b[0m\u001b[0;34m)\u001b[0m\u001b[0;34m\u001b[0m\u001b[0;34m\u001b[0m\u001b[0m\n\u001b[1;32m      3\u001b[0m \u001b[0msellers\u001b[0m \u001b[0;34m=\u001b[0m \u001b[0mseller\u001b[0m\u001b[0;34m.\u001b[0m\u001b[0mget_training_data\u001b[0m\u001b[0;34m(\u001b[0m\u001b[0;34m)\u001b[0m\u001b[0;34m\u001b[0m\u001b[0;34m\u001b[0m\u001b[0m\n",
      "\u001b[0;31mModuleNotFoundError\u001b[0m: No module named 'olist.seller_updated'"
     ]
    }
   ],
   "source": [
    "from olist.seller_updated import Seller\n",
    "seller = Seller()\n",
    "sellers = seller.get_training_data()"
   ]
  },
  {
   "cell_type": "code",
   "execution_count": null,
   "metadata": {},
   "outputs": [],
   "source": [
    "olist_revenues_from_monthly_subscriptions = sellers.months_on_olist.sum()*80\n",
    "olist_revenues_from_monthly_subscriptions"
   ]
  },
  {
   "cell_type": "code",
   "execution_count": null,
   "metadata": {},
   "outputs": [],
   "source": [
    "olist_revenues = products.revenues.sum() + olist_revenues_from_monthly_subscriptions\n",
    "olist_gross_profits = olist_revenues - products.cost_of_reviews.sum()\n",
    "olist_gross_profits"
   ]
  },
  {
   "cell_type": "code",
   "execution_count": null,
   "metadata": {},
   "outputs": [],
   "source": [
    "sns.histplot(products.profits, kde=False)"
   ]
  },
  {
   "cell_type": "code",
   "execution_count": null,
   "metadata": {},
   "outputs": [],
   "source": [
    "sorted_products = products.sort_values(by='profits')[['profits', 'n_orders', 'revenues']].reset_index()\n",
    "sorted_products.head()"
   ]
  },
  {
   "cell_type": "code",
   "execution_count": null,
   "metadata": {},
   "outputs": [],
   "source": [
    "sorted_products.profits.plot()"
   ]
  },
  {
   "cell_type": "markdown",
   "metadata": {},
   "source": [
    "#### Compute Olist's net_profits for various seller cut-offs"
   ]
  },
  {
   "cell_type": "code",
   "execution_count": null,
   "metadata": {},
   "outputs": [],
   "source": [
    "# Let's create arrays \"xxx_per_seller_removed\" which list,\n",
    "# for each number of sellers removed (from 1 to len(seller)), \n",
    "# the impact on profit"
   ]
  },
  {
   "cell_type": "code",
   "execution_count": null,
   "metadata": {},
   "outputs": [],
   "source": [
    "# Analysis excluding IT costs\n",
    "revenues_per_product_removed = olist_revenues - np.cumsum(sorted_products.revenues)\n",
    "gross_profits_per_product_removed = olist_gross_profits - np.cumsum(sorted_products.profits)\n",
    "\n",
    "gross_profits_per_product_removed.plot()\n",
    "plt.title('Olist gross profit before IT costs ')\n",
    "plt.xlabel('number of products to remove')"
   ]
  },
  {
   "cell_type": "code",
   "execution_count": null,
   "metadata": {},
   "outputs": [],
   "source": [
    "# Add the IT costs of Olist's platform\n",
    "# IT costs =  A * (n_orders)**0.5\n",
    "\n",
    "# First, compute A\n",
    "olist_it_costs_all_orders = 500000\n",
    "A = olist_it_costs_all_orders / (sellers['n_orders'].sum()**0.5)\n",
    "A"
   ]
  },
  {
   "cell_type": "code",
   "execution_count": null,
   "metadata": {},
   "outputs": [],
   "source": [
    "# Then, compute n_order per scenario\n",
    "n_orders_per_product_removed = sorted_products.n_orders.sum() - np.cumsum(sorted_products.n_orders)\n",
    "plt.plot(n_orders_per_product_removed)\n",
    "plt.title('Total number of orders'); plt.xlabel('number of products to remove');"
   ]
  },
  {
   "cell_type": "code",
   "execution_count": null,
   "metadata": {},
   "outputs": [],
   "source": [
    "# Create array of it_costs per scenario\n",
    "it_costs_per_product_removed = A * n_orders_per_product_removed**0.5\n",
    "plt.plot(it_costs_per_product_removed)\n",
    "plt.title('IT costs'); plt.xlabel('number of product to remove');"
   ]
  },
  {
   "cell_type": "code",
   "execution_count": null,
   "metadata": {},
   "outputs": [],
   "source": [
    "# Compute final metrics (profits and margin, for each scenario)\n",
    "profits_per_product_removed = gross_profits_per_product_removed - it_costs_per_product_removed\n",
    "margin_per_product_removed = profits_per_product_removed / revenues_per_product_removed"
   ]
  },
  {
   "cell_type": "code",
   "execution_count": null,
   "metadata": {},
   "outputs": [],
   "source": [
    "fig, ax1 = plt.subplots(figsize=(10,5))\n",
    "x = np.arange(0, len(products), 1)\n",
    "\n",
    "plt.suptitle(\"Estimated impact of having excluding selected products from Olist, over the past 16 months\")\n",
    "\n",
    "ax1.set_xlabel('number of product to remove from olist - from worse to most profitable')\n",
    "ax1.set_ylabel('BRL')\n",
    "ax1.plot(x, profits_per_product_removed, color='black', label='Olist net profits')\n",
    "ax1.plot(x, revenues_per_product_removed, color='grey', label='Olist total revenues')\n",
    "ax1.tick_params(axis='y')\n",
    "ax1.legend(loc='center right')\n",
    "ax1.set(ylim=[0,3000000])\n",
    "\n",
    "\n",
    "ax3 = ax1.twinx()  # instantiate a second axes that shares the same x-axis\n",
    "\n",
    "color = 'tab:red'\n",
    "ax3.set_ylabel('%', color=color)  # we already handled the x-label with ax1\n",
    "ax3.plot(x, margin_per_product_removed, color='red', label='Olist profit margin')\n",
    "ax3.tick_params(axis='y', labelcolor=color)\n",
    "ax3.legend(loc='upper right')\n",
    "ax3.set(ylim=[0,1])\n",
    "\n",
    "fig.tight_layout()  # otherwise the right y-label is slightly clipped\n",
    "plt.show()"
   ]
  },
  {
   "cell_type": "markdown",
   "metadata": {},
   "source": [
    "☝️ This is only a partial analysis: by cutting too many products out of olist, we cannot plausibly expect sellers to pay their monthly fee! \n",
    "\n",
    "**A cross-analysis between sellers and products is required**"
   ]
  },
  {
   "cell_type": "code",
   "execution_count": null,
   "metadata": {},
   "outputs": [],
   "source": []
  }
 ],
 "metadata": {
  "kernelspec": {
   "display_name": "Python 3 (ipykernel)",
   "language": "python",
   "name": "python3"
  },
  "language_info": {
   "codemirror_mode": {
    "name": "ipython",
    "version": 3
   },
   "file_extension": ".py",
   "mimetype": "text/x-python",
   "name": "python",
   "nbconvert_exporter": "python",
   "pygments_lexer": "ipython3",
   "version": "3.8.12"
  },
  "toc": {
   "base_numbering": 1,
   "nav_menu": {},
   "number_sections": true,
   "sideBar": true,
   "skip_h1_title": true,
   "title_cell": "Table of Contents",
   "title_sidebar": "Contents",
   "toc_cell": false,
   "toc_position": {},
   "toc_section_display": true,
   "toc_window_display": true
  },
  "varInspector": {
   "cols": {
    "lenName": 16,
    "lenType": 16,
    "lenVar": 40
   },
   "kernels_config": {
    "python": {
     "delete_cmd_postfix": "",
     "delete_cmd_prefix": "del ",
     "library": "var_list.py",
     "varRefreshCmd": "print(var_dic_list())"
    },
    "r": {
     "delete_cmd_postfix": ") ",
     "delete_cmd_prefix": "rm(",
     "library": "var_list.r",
     "varRefreshCmd": "cat(var_dic_list()) "
    }
   },
   "types_to_exclude": [
    "module",
    "function",
    "builtin_function_or_method",
    "instance",
    "_Feature"
   ],
   "window_display": false
  }
 },
 "nbformat": 4,
 "nbformat_minor": 4
}
