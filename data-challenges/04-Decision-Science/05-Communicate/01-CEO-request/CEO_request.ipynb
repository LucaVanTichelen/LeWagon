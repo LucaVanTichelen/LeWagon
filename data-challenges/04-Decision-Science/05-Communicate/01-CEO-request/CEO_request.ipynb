{
 "cells": [
  {
   "cell_type": "markdown",
   "id": "f8ce8aeb",
   "metadata": {},
   "source": [
    "# CEO-REQUEST CHALLENGE"
   ]
  },
  {
   "cell_type": "markdown",
   "id": "d748454c",
   "metadata": {},
   "source": [
    "> Should Olist remove underperforming sellers from its marketplace?"
   ]
  },
  {
   "cell_type": "markdown",
   "id": "545c894b",
   "metadata": {},
   "source": [
    "## Problem statement"
   ]
  },
  {
   "cell_type": "markdown",
   "id": "8d07b41b",
   "metadata": {},
   "source": [
    "To analyse the impact of removing the worse sellers from the marketplace, we can start with a what-if analysis: what would have happened if Olist had never accepted these sellers in the past? For that:\n",
    "\n",
    "Step ① Compute, for each `seller_id`, cumulated since the beginning:\n",
    "- The `revenues` they bring\n",
    "- The `costs` associated with all their bad reviews\n",
    "- The resulting `profits` (revenues - costs)\n",
    "- The number of `orders` (it will impact the overall IT costs)\n",
    "\n",
    "\n",
    "Step ② We can then sort sellers by increasing profits for Olist, and for different numbers of sellers removed, compute the financial impact it would have made had they never been accepted on the platform. We may find an optimal number of sellers to remove that maximizes Olist's profit margin"
   ]
  },
  {
   "cell_type": "code",
   "execution_count": 0,
   "id": "e073f105",
   "metadata": {},
   "outputs": [],
   "source": [
    "# Write down a detailed strategy (step by step) to create the DataFrame you need for step (1)\n",
    "# Think about how to re-use logic you have already coded in your `olist` package"
   ]
  },
  {
   "cell_type": "markdown",
   "id": "34d7a0de",
   "metadata": {},
   "source": [
    "<details>\n",
    "    <summary>Hints</summary>\n",
    "\n",
    "\n",
    "Starting from your current `seller().get_training_data()` DataFrame:\n",
    "- Can you easily transform it to compute Olist's positive `revenue_per_seller`? \n",
    "- Can you easily transform it to compute Olist's `cost_of_bad_reviews`?\n",
    "\n",
    "❓Instead of starting again from scratch, investigate in your source code in `seller.py` how the mean `review_score` per seller was computed. Can you imagine a way to ammend your code so as to compute `cost_of_reviews` in the same process? \n",
    "</details>\n"
   ]
  },
  {
   "cell_type": "markdown",
   "id": "e1019d26",
   "metadata": {},
   "source": [
    "## Your turn!"
   ]
  },
  {
   "cell_type": "code",
   "execution_count": 0,
   "id": "b6d677bb",
   "metadata": {},
   "outputs": [],
   "source": [
    "# Keep this notebook tidy, you will present it to the Olist CEO on Friday afternoon!"
   ]
  },
  {
   "cell_type": "code",
   "execution_count": 0,
   "id": "1b67b317",
   "metadata": {},
   "outputs": [],
   "source": []
  }
 ],
 "metadata": {
  "kernelspec": {
   "display_name": "Python 3",
   "language": "python",
   "name": "python3"
  }
 },
 "nbformat": 4,
 "nbformat_minor": 5
}