{
 "cells": [
  {
   "cell_type": "markdown",
   "metadata": {},
   "source": [
    "# Understand embeddings with Word2Vec\n",
    "\n",
    "### Exercise objectives:\n",
    "- Convert words to vector representations thanks to embeddings\n",
    "- Discover the powerful Word2Vec algorithm\n",
    "\n",
    "<hr>\n",
    "<hr>\n",
    "\n",
    "_Embeddings_ are representation of words thanks to vectors. These embeddings can be learnt within a Neural Network. But it can take time to converge. Another option is to learn them as a first step. Then, use them directly to feed the word representation into an RNN. \n",
    "\n",
    "\n",
    "\n",
    "# The data\n",
    "\n",
    "Keras provides many datasets, among which the ÌMDB dataset: it corresponds to sentences that are movie reviews. Each of them is related to a score given by the review writer.\n",
    "\n",
    "❓ **Question** ❓ Let's first load the data. You don't have to understand what is going on in the function, it does not matter here.\n",
    "\n",
    "⚠️ **Warning** ⚠️ The `load_data` function has a `percentage_of_sentences` argument. Depending on your computer, there are chances that a too large number of sentences will make your compute slow down, or even freeze - your RAM can even overflow. For that reason, **you should start with 10% of the sentences** and see if your computer handles it. Otherwise, rerun with a lower number. \n",
    "\n",
    "⚠️ **DISCLAIMER** ⚠️ **No need to play _who has the biggest_ (RAM) !** The idea is to get to run your models quickly to prototype. Even in real life, it is recommended that you start with a subset of your data to loop and debug quickly. So increase the number only if you are into getting the best accuracy. "
   ]
  },
  {
   "cell_type": "code",
   "execution_count": 1,
   "metadata": {
    "ExecuteTime": {
     "end_time": "2021-11-12T10:52:50.625679Z",
     "start_time": "2021-11-12T10:52:28.290279Z"
    }
   },
   "outputs": [
    {
     "name": "stderr",
     "output_type": "stream",
     "text": [
      "2021-11-12 11:52:29.035639: W tensorflow/stream_executor/platform/default/dso_loader.cc:64] Could not load dynamic library 'libcudart.so.11.0'; dlerror: libcudart.so.11.0: cannot open shared object file: No such file or directory\n",
      "2021-11-12 11:52:29.035678: I tensorflow/stream_executor/cuda/cudart_stub.cc:29] Ignore above cudart dlerror if you do not have a GPU set up on your machine.\n",
      "2021-11-12 11:52:32.631555: W tensorflow/stream_executor/platform/default/dso_loader.cc:64] Could not load dynamic library 'libcuda.so.1'; dlerror: libcuda.so.1: cannot open shared object file: No such file or directory\n",
      "2021-11-12 11:52:32.631595: W tensorflow/stream_executor/cuda/cuda_driver.cc:326] failed call to cuInit: UNKNOWN ERROR (303)\n",
      "2021-11-12 11:52:32.631612: I tensorflow/stream_executor/cuda/cuda_diagnostics.cc:156] kernel driver does not appear to be running on this host (LAPTOP-JM9NF235): /proc/driver/nvidia/version does not exist\n",
      "2021-11-12 11:52:32.631823: I tensorflow/core/platform/cpu_feature_guard.cc:142] This TensorFlow binary is optimized with oneAPI Deep Neural Network Library (oneDNN) to use the following CPU instructions in performance-critical operations:  AVX2 FMA\n",
      "To enable them in other operations, rebuild TensorFlow with the appropriate compiler flags.\n",
      "2021-11-12 11:52:32.687383: I tensorflow/compiler/mlir/mlir_graph_optimization_pass.cc:176] None of the MLIR Optimization Passes are enabled (registered 2)\n",
      "2021-11-12 11:52:32.688110: I tensorflow/core/platform/profile_utils/cpu_utils.cc:114] CPU Frequency: 2400005000 Hz\n"
     ]
    }
   ],
   "source": [
    "###########################################\n",
    "### Just run this cell to load the data ###\n",
    "###########################################\n",
    "\n",
    "import tensorflow_datasets as tfds\n",
    "from tensorflow.keras.preprocessing.text import text_to_word_sequence\n",
    "\n",
    "def load_data(percentage_of_sentences=None):\n",
    "    train_data, test_data = tfds.load(name=\"imdb_reviews\", split=[\"train\", \"test\"], batch_size=-1, as_supervised=True)\n",
    "\n",
    "    train_sentences, y_train = tfds.as_numpy(train_data)\n",
    "    test_sentences, y_test = tfds.as_numpy(test_data)\n",
    "    \n",
    "    # Take only a given percentage of the entire data\n",
    "    if percentage_of_sentences is not None:\n",
    "        assert(percentage_of_sentences> 0 and percentage_of_sentences<=100)\n",
    "        \n",
    "        len_train = int(percentage_of_sentences/100*len(train_sentences))\n",
    "        train_sentences, y_train = train_sentences[:len_train], y_train[:len_train]\n",
    "  \n",
    "        len_test = int(percentage_of_sentences/100*len(test_sentences))\n",
    "        test_sentences, y_test = test_sentences[:len_test], y_test[:len_test]\n",
    "    \n",
    "    X_train = [text_to_word_sequence(_.decode(\"utf-8\")) for _ in train_sentences]\n",
    "    X_test = [text_to_word_sequence(_.decode(\"utf-8\")) for _ in test_sentences]\n",
    "    \n",
    "    return X_train, y_train, X_test, y_test\n",
    "\n",
    "X_train, y_train, X_test, y_test = load_data(percentage_of_sentences=10)"
   ]
  },
  {
   "cell_type": "markdown",
   "metadata": {},
   "source": [
    "In the previous exercise, we jointly learnt a representation for the words, and feed this representation to a RNN, as shown here : \n",
    "\n",
    "<img src=\"layers_embedding.png\" width=\"400px\" />\n",
    "\n",
    "However, this increases the number of parameters to learn, which can slow the convergence, and make it harder!\n",
    "\n",
    "For that reason, we will separate the steps of learning the word representation and feeding it to a RNN. As shown here : \n",
    "\n",
    "<img src=\"word2vec_representation.png\" width=\"400px\" />\n",
    "\n",
    "We will learn the embedding with the word2vec.\n",
    "\n",
    "The drawback is indeed that the learnt embedding is not _specifically_ designed for our task. However, learning it independently of the task at hand (sentiment analysis) has some advantages : \n",
    "- it is very fast to do in general (with word2vec)\n",
    "- the representation learnt by word2vec is still meaningful \n",
    "- the convergence of the RNN alone will be easier and faster\n",
    "\n",
    "So let's learn an embedding with word2vec and see how meaningful it is!\n",
    "\n",
    "\n",
    "# Embedding with Word2Vec\n",
    "\n",
    "Let's use Word2Vec to embed the words of our sentences. Word2Vec will be able to convert each word to a fixed-size vectorial representation.\n",
    "\n",
    "For instance, we will have:\n",
    "- 'dog' --> [0.1, -0.3, 0.8]\n",
    "- 'cat' --> [-1.1, 2.3, 0.7]\n",
    "- 'apple' --> [3.1, 0.9, -4.7]\n",
    "\n",
    "Here, your embedding space is of size 3.\n",
    "\n",
    "What you expect is to have representation such as words with close meanings are close in this embedding space. As on this example:\n",
    "\n",
    "![Embedding](word_embedding.png)\n",
    "\n",
    "❓ **Question** ❓ Let's run Word2Vec! The following code imports word2vec from [GENSIM](https://radimrehurek.com/gensim/), a great python package that makes the use of the word2vec algorithm easy, fast and accurate - which is not an easy task. The second line learns the embedding representation of the words thanks to the sentences in `X_train`."
   ]
  },
  {
   "cell_type": "code",
   "execution_count": 7,
   "metadata": {
    "ExecuteTime": {
     "end_time": "2021-11-12T11:30:40.070254Z",
     "start_time": "2021-11-12T11:30:38.783625Z"
    }
   },
   "outputs": [],
   "source": [
    "from gensim.models import Word2Vec\n",
    "\n",
    "word2vec = Word2Vec(sentences=X_train)"
   ]
  },
  {
   "cell_type": "markdown",
   "metadata": {},
   "source": [
    "Let's look at the embedded representation of some words.\n",
    "\n",
    "You can use `word2vec.wv` as a dictionary.\n",
    "For instance, `word2vec.wv['dog']` will return a representation of `dog` in the embedding space.\n",
    "\n",
    "❓ **Question** ❓ Try different words - especially, try non-existing words to see that they don't have any representation (which is perfectly normal as their representation were not learn). "
   ]
  },
  {
   "cell_type": "code",
   "execution_count": 8,
   "metadata": {
    "ExecuteTime": {
     "end_time": "2021-11-12T11:30:42.288778Z",
     "start_time": "2021-11-12T11:30:42.282442Z"
    },
    "tags": [
     "challengify"
    ]
   },
   "outputs": [
    {
     "data": {
      "text/plain": [
       "array([-1.62191957e-01,  1.70071065e-01, -2.45468333e-01,  2.65922934e-01,\n",
       "       -1.33577576e-02, -2.83126801e-01, -4.47767265e-02,  5.52905381e-01,\n",
       "       -1.50194809e-01, -1.64128020e-01, -4.99876100e-04, -2.44697362e-01,\n",
       "       -4.55154851e-02,  1.65142894e-01, -5.66059500e-02, -2.43938655e-01,\n",
       "        1.49172276e-01, -2.39497364e-01,  4.69887629e-02, -2.25618780e-01,\n",
       "        2.04116657e-01,  5.76135106e-02,  2.59595901e-01, -1.57306910e-01,\n",
       "        3.26646864e-02, -1.44632757e-02, -2.53127843e-01, -4.31377143e-02,\n",
       "       -1.74904794e-01,  3.47104147e-02,  1.35099351e-01,  3.26998113e-03,\n",
       "        1.94032267e-01, -3.60210270e-01, -1.63180426e-01,  1.78042918e-01,\n",
       "        1.57449409e-01, -1.72757998e-01, -2.53819764e-01, -3.05151284e-01,\n",
       "       -2.02001259e-01, -3.45584065e-01, -2.94575095e-01,  1.67715654e-01,\n",
       "        3.28958988e-01, -1.01210293e-03, -1.79165095e-01, -1.15894884e-01,\n",
       "        2.93276191e-01,  2.08377019e-01,  8.45299959e-02, -1.77120194e-01,\n",
       "       -2.89702207e-01, -1.09039536e-02, -1.93432480e-01,  2.30916172e-01,\n",
       "        2.24999294e-01, -6.56042621e-02, -2.12958112e-01,  9.52279102e-03,\n",
       "        1.39338091e-01,  6.60575135e-03, -4.03399318e-02,  4.25307751e-02,\n",
       "       -2.54742503e-01,  2.08943993e-01, -2.57780552e-02,  1.79866239e-01,\n",
       "       -3.33253026e-01,  3.38136137e-01, -2.35980466e-01,  1.99404851e-01,\n",
       "        3.07110131e-01, -2.57950842e-01,  2.88104892e-01,  1.56275064e-01,\n",
       "        2.03009695e-02,  1.46810651e-01, -2.10627854e-01, -1.32417172e-01,\n",
       "       -2.31133357e-01, -1.72086000e-01, -2.79501110e-01,  2.63314933e-01,\n",
       "       -1.30436912e-01, -2.35595092e-01, -1.29778087e-02,  3.24721336e-01,\n",
       "        3.70590597e-01,  1.45572871e-01,  1.94578752e-01,  2.77173311e-01,\n",
       "       -5.79753220e-02,  7.33608976e-02,  3.93361628e-01,  8.46358612e-02,\n",
       "        2.69271582e-01, -4.36031409e-02,  3.42521891e-02, -2.28634477e-02],\n",
       "      dtype=float32)"
      ]
     },
     "execution_count": 8,
     "metadata": {},
     "output_type": "execute_result"
    }
   ],
   "source": [
    "word2vec.wv['dog']"
   ]
  },
  {
   "cell_type": "markdown",
   "metadata": {},
   "source": [
    "❓ **Question** ❓ What is the size of each word representation, and therefore, what is the size of the embedding space?"
   ]
  },
  {
   "cell_type": "code",
   "execution_count": 9,
   "metadata": {
    "ExecuteTime": {
     "end_time": "2021-11-12T11:30:45.010223Z",
     "start_time": "2021-11-12T11:30:45.004473Z"
    },
    "tags": [
     "challengify"
    ]
   },
   "outputs": [
    {
     "data": {
      "text/plain": [
       "(100,)"
      ]
     },
     "execution_count": 9,
     "metadata": {},
     "output_type": "execute_result"
    }
   ],
   "source": [
    "word2vec.wv['dog'].shape"
   ]
  },
  {
   "cell_type": "markdown",
   "metadata": {},
   "source": [
    "How to know if this embedding make any sense? To do that, we will check that words with a close meaning have close representations. \n",
    "\n",
    "Let's use the `word2vec.most_similar(...)` method that, given an input word, display the \"closest\" words in the embedding space. If the embedding is well done, then words that have close meanings will have close representation in the embedding space.\n",
    "\n",
    "❓ **Question** ❓ Test the `most_similar` method on different words. \n",
    "\n",
    "❗ **Remark** ❗ Indeed, the quality of the closeness will depend on the quality of your embedding, and thus, depend on the number of sentences that you have loaded and from which you create your embedding."
   ]
  },
  {
   "cell_type": "code",
   "execution_count": 16,
   "metadata": {
    "ExecuteTime": {
     "end_time": "2021-11-12T11:35:07.063844Z",
     "start_time": "2021-11-12T11:35:07.011263Z"
    }
   },
   "outputs": [
    {
     "data": {
      "text/plain": [
       "[('down', 0.9416477680206299),\n",
       " ('run', 0.9384677410125732),\n",
       " ('face', 0.9274929761886597),\n",
       " ('nose', 0.9257439374923706),\n",
       " ('soon', 0.922251284122467),\n",
       " ('refused', 0.9203327298164368),\n",
       " ('room', 0.9178172945976257),\n",
       " ('away', 0.9149777889251709),\n",
       " ('hospital', 0.9138537645339966),\n",
       " ('throne', 0.911676287651062)]"
      ]
     },
     "execution_count": 16,
     "metadata": {},
     "output_type": "execute_result"
    }
   ],
   "source": [
    "word2vec.wv.most_similar('home')"
   ]
  },
  {
   "cell_type": "markdown",
   "metadata": {},
   "source": [
    "Similarly to `most_similar` used on words directly, we can use `similar_by_vector` on vectors to do the same thing :"
   ]
  },
  {
   "cell_type": "code",
   "execution_count": 19,
   "metadata": {
    "ExecuteTime": {
     "end_time": "2021-11-12T11:35:58.997736Z",
     "start_time": "2021-11-12T11:35:58.987577Z"
    },
    "tags": [
     "challengify"
    ]
   },
   "outputs": [
    {
     "data": {
      "text/plain": [
       "[('down', 0.9416477680206299),\n",
       " ('run', 0.9384677410125732),\n",
       " ('face', 0.9274929761886597),\n",
       " ('nose', 0.9257439374923706),\n",
       " ('soon', 0.922251284122467),\n",
       " ('refused', 0.9203327298164368),\n",
       " ('room', 0.9178172945976257),\n",
       " ('away', 0.9149777889251709),\n",
       " ('hospital', 0.9138537645339966),\n",
       " ('throne', 0.911676287651062)]"
      ]
     },
     "execution_count": 19,
     "metadata": {},
     "output_type": "execute_result"
    }
   ],
   "source": [
    "word2vec.wv.similar_by_vector('home')"
   ]
  },
  {
   "cell_type": "markdown",
   "metadata": {},
   "source": [
    "# Arithmetic on words\n",
    "\n",
    "Now, let's do mathematical operations on words - meaning on their vector representations!\n",
    "\n",
    "As any word is represented as a vector, you can do basic arithmetic as:\n",
    "\n",
    "$$W2V(good) - W2V(bad)$$\n",
    "\n",
    "❓ **Question** ❓ Do this mathematical operation and print the result"
   ]
  },
  {
   "cell_type": "code",
   "execution_count": 20,
   "metadata": {
    "ExecuteTime": {
     "end_time": "2021-11-12T11:36:05.856380Z",
     "start_time": "2021-11-12T11:36:05.849524Z"
    },
    "tags": [
     "challengify"
    ]
   },
   "outputs": [
    {
     "data": {
      "text/plain": [
       "array([ 8.34465027e-06, -1.97662726e-01,  2.78807938e-01,  1.66725636e-01,\n",
       "        7.67195523e-02, -3.51724088e-01, -4.91660118e-01, -1.66884810e-01,\n",
       "        2.20125914e-03, -2.74118423e-01,  2.12308019e-01,  1.46225095e-01,\n",
       "       -6.15184903e-02, -1.15925312e-01, -1.52898371e-01,  6.06570125e-01,\n",
       "       -4.86258805e-01,  3.05060267e-01, -1.54917210e-01,  1.48749828e-01,\n",
       "       -1.49787247e-01,  3.01142275e-01, -1.82030797e-01,  2.09932506e-01,\n",
       "       -2.22665370e-02, -5.22472933e-02, -1.73547566e-02,  5.79126120e-01,\n",
       "       -2.87116170e-01, -7.08387852e-01, -3.43976021e-01,  1.55548811e-01,\n",
       "        4.67461616e-01,  1.66291326e-01, -2.27677226e-01, -2.23675370e-01,\n",
       "        7.07549214e-01, -3.08950603e-01, -2.10191607e-01,  7.21844494e-01,\n",
       "       -1.38853192e-01,  2.51922011e-03, -6.46763384e-01, -1.44038677e-01,\n",
       "        4.74378645e-01, -2.19958022e-01,  5.46805143e-01, -9.43790674e-02,\n",
       "       -1.42029226e-01,  3.11153948e-01, -2.76882797e-01, -1.54639214e-01,\n",
       "       -7.15406299e-01,  9.45522785e-02,  5.19512594e-02,  3.63883108e-01,\n",
       "        6.63489401e-02, -2.78284792e-02,  1.97810888e-01,  4.91343677e-01,\n",
       "        2.05305845e-01,  3.95835280e-01, -1.98742688e-01, -3.55093718e-01,\n",
       "       -6.49124384e-03, -5.18056154e-02, -2.91677713e-01, -3.01655084e-01,\n",
       "        5.57486355e-01,  6.35760367e-01, -8.19461405e-01, -1.06661916e-01,\n",
       "        2.87977666e-01,  1.53319001e-01, -1.93396032e-01,  1.77761167e-02,\n",
       "       -1.86868697e-01, -2.34126955e-01,  2.76010871e-01, -1.39551282e-01,\n",
       "        3.37787390e-01, -2.59697646e-01, -4.83788311e-01,  3.75455558e-01,\n",
       "       -6.06906116e-01,  5.16196191e-01, -2.58863866e-01, -2.82251835e-03,\n",
       "        2.65848219e-01, -5.19355655e-01, -7.56978154e-01,  1.44180998e-01,\n",
       "        2.25093499e-01,  6.49392724e-01, -3.35242510e-01, -1.62495017e-01,\n",
       "        3.76471102e-01,  3.13788414e-01, -7.14161575e-01,  5.71347475e-02],\n",
       "      dtype=float32)"
      ]
     },
     "execution_count": 20,
     "metadata": {},
     "output_type": "execute_result"
    }
   ],
   "source": [
    "word2vec.wv['good'] - word2vec.wv['bad']"
   ]
  },
  {
   "cell_type": "markdown",
   "metadata": {},
   "source": [
    "Now, image for a second that, somehow, the following equality holds true - just for a second\n",
    "\n",
    "$$W2V(good) - W2V(bad) = W2V(nice) - W2V(stupid)$$\n",
    "\n",
    "which is equivalent to \n",
    "\n",
    "$$W2V(good) - W2V(bad) + W2V(stupid) = W2V(nice)$$\n",
    "\n",
    "❓ **Question** ❓ Let's, just for fun (as it would be foolish of us to think that this equality holds true ...), do the operation $W2V(good) - W2V(bad) + W2V(stupid)$ and store it in a `res` variable (which will be a vector of size 100 that you can print)."
   ]
  },
  {
   "cell_type": "code",
   "execution_count": 21,
   "metadata": {
    "ExecuteTime": {
     "end_time": "2021-11-12T11:36:13.391178Z",
     "start_time": "2021-11-12T11:36:13.381722Z"
    },
    "tags": [
     "challengify"
    ]
   },
   "outputs": [
    {
     "data": {
      "text/plain": [
       "array([ 0.03391702, -0.25522515,  0.42855763, -0.18170586,  0.04509486,\n",
       "       -0.8335034 , -0.7229304 ,  0.26147363, -0.460022  , -0.56117636,\n",
       "       -0.01492596, -0.32755658,  0.19867742,  0.2305347 ,  0.00655818,\n",
       "        0.25552237, -0.00843287, -0.2169056 , -0.28585216, -0.75041264,\n",
       "        0.366194  ,  0.23525602,  0.59981865,  0.04416057, -0.17912087,\n",
       "       -0.17103212, -0.31745657,  0.44983882, -0.3943409 , -0.6104598 ,\n",
       "        0.39620042,  0.24805114,  0.66000116, -0.251527  , -0.4510404 ,\n",
       "        0.31469542,  0.75967884, -0.18549615, -0.3969246 ,  0.01613975,\n",
       "       -0.05857175, -0.5046433 , -0.5855637 ,  0.24059358,  0.705734  ,\n",
       "       -0.28969383,  0.24969223, -0.40616143, -0.23292454,  0.5814529 ,\n",
       "       -0.02032095, -0.18540356, -0.7342709 ,  0.42709613, -0.06254427,\n",
       "        0.60365915,  0.18652192,  0.01776937, -0.41092736,  0.00667429,\n",
       "        0.10861525,  0.1086095 , -0.05263376,  0.10850826, -0.4169868 ,\n",
       "        0.40679464,  0.05880746, -0.14751288,  0.38543558,  0.7803169 ,\n",
       "       -0.7422533 ,  0.20850861,  0.28525808,  0.40570167,  0.5447366 ,\n",
       "        0.09858584, -0.09257644, -0.27075002,  0.08105135,  0.09777041,\n",
       "        0.3002398 , -0.5300214 , -0.88007283,  0.95351356, -0.85251   ,\n",
       "        0.46507505,  0.05444399,  0.15441664,  0.41995108,  0.0108676 ,\n",
       "        0.08695418,  0.3144247 ,  0.1691498 ,  0.5564446 ,  0.53526074,\n",
       "        0.5179642 ,  0.36296555, -0.17380598, -0.4230309 , -0.3723063 ],\n",
       "      dtype=float32)"
      ]
     },
     "execution_count": 21,
     "metadata": {},
     "output_type": "execute_result"
    }
   ],
   "source": [
    "res = word2vec.wv['good'] - word2vec.wv['bad'] + word2vec.wv['stupid']\n",
    "res"
   ]
  },
  {
   "cell_type": "markdown",
   "metadata": {},
   "source": [
    "We earlier said that, for any vector, it is possible to see the closest vectors in the embedding space.\n",
    "\n",
    "❓ **Question** ❓ Look at the closest vector (thanks to the `word2vec.wv.similar_by_vector` function) of `res`"
   ]
  },
  {
   "cell_type": "code",
   "execution_count": 22,
   "metadata": {
    "ExecuteTime": {
     "end_time": "2021-11-12T11:36:21.399391Z",
     "start_time": "2021-11-12T11:36:21.384811Z"
    },
    "tags": [
     "challengify"
    ]
   },
   "outputs": [
    {
     "data": {
      "text/plain": [
       "[('nice', 0.7686975002288818),\n",
       " ('good', 0.7466937303543091),\n",
       " ('cindy', 0.7152788043022156),\n",
       " ('such', 0.7034999132156372),\n",
       " ('spade', 0.7014268636703491),\n",
       " ('gory', 0.7013921141624451),\n",
       " ('criticized', 0.7002949714660645),\n",
       " ('tough', 0.6996453404426575),\n",
       " ('charley', 0.699077844619751),\n",
       " ('nerd', 0.6951631903648376)]"
      ]
     },
     "execution_count": 22,
     "metadata": {},
     "output_type": "execute_result"
    }
   ],
   "source": [
    "word2vec.wv.similar_by_vector(res)"
   ]
  },
  {
   "cell_type": "markdown",
   "metadata": {},
   "source": [
    "Incredible right! You can do arithmetic operations on words!\n",
    "\n",
    "❓ **Question** ❓ You can try on arithmetic such as \n",
    "\n",
    "$$W2V(Boy) - W2V(Girl) = W2V(Man) - W2V(Woman)$$\n",
    "\n",
    "or \n",
    "\n",
    "$$W2V(Queen) - W2V(King) = W2V(actress) - W2V(actor)$$\n",
    "\n",
    "❗ **Remark** ❗ You will probably see that the results are not perfect. But don't forget that you trained your model on a very small corpus."
   ]
  },
  {
   "cell_type": "code",
   "execution_count": 23,
   "metadata": {
    "ExecuteTime": {
     "end_time": "2021-11-12T11:36:30.395212Z",
     "start_time": "2021-11-12T11:36:30.382088Z"
    },
    "tags": [
     "challengify"
    ]
   },
   "outputs": [
    {
     "data": {
      "text/plain": [
       "[('boy', 0.9563097357749939),\n",
       " ('lady', 0.9463678002357483),\n",
       " ('child', 0.9400180578231812),\n",
       " ('career', 0.9376068711280823),\n",
       " ('sister', 0.9367451071739197),\n",
       " ('husband', 0.9356410503387451),\n",
       " ('married', 0.9355899095535278),\n",
       " ('woman', 0.934903085231781),\n",
       " ('friend', 0.9318338632583618),\n",
       " ('affair', 0.9314560890197754)]"
      ]
     },
     "execution_count": 23,
     "metadata": {},
     "output_type": "execute_result"
    }
   ],
   "source": [
    "test = word2vec.wv['boy'] - word2vec.wv['girl'] + word2vec.wv['woman']\n",
    "\n",
    "word2vec.wv.similar_by_vector(test)"
   ]
  },
  {
   "cell_type": "code",
   "execution_count": 24,
   "metadata": {
    "ExecuteTime": {
     "end_time": "2021-11-12T11:36:38.821307Z",
     "start_time": "2021-11-12T11:36:38.810611Z"
    }
   },
   "outputs": [
    {
     "data": {
      "text/plain": [
       "[('actor', 0.9791503548622131),\n",
       " ('role', 0.9024245738983154),\n",
       " ('performance', 0.8922767639160156),\n",
       " ('guy', 0.8782116770744324),\n",
       " ('actress', 0.8672247529029846),\n",
       " ('job', 0.8390931487083435),\n",
       " ('character', 0.8345009088516235),\n",
       " ('pet', 0.8065794706344604),\n",
       " ('man', 0.8038941621780396),\n",
       " ('loser', 0.8018441200256348)]"
      ]
     },
     "execution_count": 24,
     "metadata": {},
     "output_type": "execute_result"
    }
   ],
   "source": [
    "word2vec.wv.similar_by_vector(word2vec.wv['queen'] - word2vec.wv['king'] + word2vec.wv['actor'])"
   ]
  },
  {
   "cell_type": "markdown",
   "metadata": {},
   "source": [
    "You might wonder where does this magic comes from (at quite a low price, you just run a line of code on a very small corpus and it was trained within few minutes). The magic comes from the way Word2Vec is trained. The details are quite complex, but you can remember that Word2vec, in `word2vec = Word2Vec(sentences=X_train)` , actually trains a internal neural network (that you don't see).  \n",
    "\n",
    "In a nutshell, this internal NN predicts a word from the surroundings words in a sentences. So it chooses many splits in the different sentences, choose some words as inputs $X$  and a word as output $y$ which it tries to predict, in the embedding space.\n",
    "\n",
    "And as any neural network, Word2Vec has some hyperparameters. Let's check some. \n",
    "\n",
    "\n",
    "# Word2Vec hyperparameters\n",
    "\n",
    "\n",
    "❓ **Question** ❓ The first important hyperparameter is the `vector_size` argument. It corresponds to the size of the embedding space. Learn a new `word2vec_2` model, still trained on the `X_train`, but with a smaller or higher `vector_size`.\n",
    "\n",
    "Verify on some words that the corresponding embedding is of your selected size."
   ]
  },
  {
   "cell_type": "code",
   "execution_count": 26,
   "metadata": {
    "ExecuteTime": {
     "end_time": "2021-11-12T11:36:53.861110Z",
     "start_time": "2021-11-12T11:36:52.510781Z"
    },
    "tags": [
     "challengify"
    ]
   },
   "outputs": [],
   "source": [
    "word2vec_2 = Word2Vec(sentences=X_train, vector_size = 50)"
   ]
  },
  {
   "cell_type": "markdown",
   "metadata": {},
   "source": [
    "❓ **Question** ❓ Use the `word2vec.wv.key_to_index` attribute to display the size of the learnt vocabulary. On the other hand, compare it to the number of different words in `X_train`."
   ]
  },
  {
   "cell_type": "code",
   "execution_count": 37,
   "metadata": {
    "ExecuteTime": {
     "end_time": "2021-11-12T11:41:05.881344Z",
     "start_time": "2021-11-12T11:41:05.836611Z"
    }
   },
   "outputs": [
    {
     "data": {
      "text/plain": [
       "30419"
      ]
     },
     "execution_count": 37,
     "metadata": {},
     "output_type": "execute_result"
    }
   ],
   "source": [
    "result = {x for l in X_train for x in l}\n",
    "len(result)"
   ]
  },
  {
   "cell_type": "code",
   "execution_count": 31,
   "metadata": {
    "ExecuteTime": {
     "end_time": "2021-11-12T11:39:13.893910Z",
     "start_time": "2021-11-12T11:39:13.886440Z"
    },
    "tags": [
     "challengify"
    ]
   },
   "outputs": [
    {
     "data": {
      "text/plain": [
       "8006"
      ]
     },
     "execution_count": 31,
     "metadata": {},
     "output_type": "execute_result"
    }
   ],
   "source": [
    "len(word2vec.wv.key_to_index)"
   ]
  },
  {
   "cell_type": "markdown",
   "metadata": {},
   "source": [
    "There is an important difference between the number of words in the train sentences and in the Word2Vec vocabulary, even though it has been train on the train sentence set. The reasons comes from the second important hyperparameter of Word2Vec :  `min_count`. \n",
    "\n",
    "`min_count` is a integer that tells you how many occurences a given word should have to be learn in the embedding space. For instance, let's say that the word \"movie\" appears 1000 times in the corpus and \"simba\" only 2 times. If `min_count=3`, the word \"simba\" will be skipped during the training.\n",
    "\n",
    "The intention is to have only words that are sufficiently present in the corpus to have a robust embedded representation\n",
    "\n",
    "❓ **Question** ❓ Learn a new `word2vec_3` model with a `min_count` higher than 5 (which is the default value) and a `word2vec_4` with a `min_count` smaller than 5, and then, compare the size of the vocabulary for all the different word2vec that you have trained (you can choose any `vector_size` you want)."
   ]
  },
  {
   "cell_type": "code",
   "execution_count": 38,
   "metadata": {
    "ExecuteTime": {
     "end_time": "2021-11-12T11:44:16.061728Z",
     "start_time": "2021-11-12T11:44:14.957261Z"
    },
    "tags": [
     "challengify"
    ]
   },
   "outputs": [],
   "source": [
    "word2vec_3 = Word2Vec(sentences=X_train, min_count=10)"
   ]
  },
  {
   "cell_type": "code",
   "execution_count": 40,
   "metadata": {
    "ExecuteTime": {
     "end_time": "2021-11-12T11:44:54.057339Z",
     "start_time": "2021-11-12T11:44:54.050669Z"
    }
   },
   "outputs": [
    {
     "data": {
      "text/plain": [
       "4503"
      ]
     },
     "execution_count": 40,
     "metadata": {},
     "output_type": "execute_result"
    }
   ],
   "source": [
    "len(word2vec_3.wv.key_to_index)"
   ]
  },
  {
   "cell_type": "code",
   "execution_count": 39,
   "metadata": {
    "ExecuteTime": {
     "end_time": "2021-11-12T11:44:26.407447Z",
     "start_time": "2021-11-12T11:44:24.289251Z"
    }
   },
   "outputs": [],
   "source": [
    "word2vec_4 = Word2Vec(sentences=X_train, min_count=1)"
   ]
  },
  {
   "cell_type": "code",
   "execution_count": 41,
   "metadata": {
    "ExecuteTime": {
     "end_time": "2021-11-12T11:45:02.255086Z",
     "start_time": "2021-11-12T11:45:02.247100Z"
    }
   },
   "outputs": [
    {
     "data": {
      "text/plain": [
       "30419"
      ]
     },
     "execution_count": 41,
     "metadata": {},
     "output_type": "execute_result"
    }
   ],
   "source": [
    "len(word2vec_4.wv.key_to_index)"
   ]
  },
  {
   "cell_type": "markdown",
   "metadata": {},
   "source": [
    "Remember that we say that word2vec has an internal neural network that it optimizes based on some predictions? These predictions actually correspond to predicting a word based on surrounding words. The surroundings words are in a `window` which corresponds to the number of words taken into account. And you can train the word2vec with different `window` sizes.\n",
    "\n",
    "❓ **Question** ❓ Learn a new `word2vec_5` model with a `window` different than previously (default is 5)."
   ]
  },
  {
   "cell_type": "code",
   "execution_count": 42,
   "metadata": {
    "ExecuteTime": {
     "end_time": "2021-11-12T11:46:13.471515Z",
     "start_time": "2021-11-12T11:46:12.065646Z"
    },
    "tags": [
     "challengify"
    ]
   },
   "outputs": [],
   "source": [
    "word2vec_5 = Word2Vec(sentences=X_train, window=3)"
   ]
  },
  {
   "cell_type": "markdown",
   "metadata": {},
   "source": [
    "The arguments you have seen (`vector_size`, `min_count` and `window`) are usually the one that you should start changing to get a better performance for your model.\n",
    "\n",
    "But you can also look at other arguments in the [documentation](https://radimrehurek.com/gensim/models/word2vec.html#gensim.models.word2vec.Text8Corpus)\n",
    "\n",
    "\n",
    "\n",
    "# Convert our train and test set to RNN ready data\n",
    "\n",
    "Remember that word2vec is the first step to the overall process of feeding such a representation into a RNN, as shown here :\n",
    "\n",
    "<img src=\"word2vec_representation.png\" width=\"400px\" />\n",
    "\n",
    "\n",
    "\n",
    "Now, let's work on Step 2 by converting the training and test data into their vector representation to be ready to be feed in RNNs.\n",
    "\n",
    "❓ **Question** ❓ Now, write a function that, given a sentence, returns a matrix that corresponds to the embedding of the full sentence, which means that you have to embed each word one after the other and concatenate the result to output a 2D matrix (be sure that your output is a NumPy array)\n",
    "\n",
    "❗ **Remark** ❗ You will probably notice that some words you are trying to convert throw errors as they are said not to belong to the dictionary:\n",
    "\n",
    "- for the test set, this is understandable: some words were not in the train set and thus their embedded representation is unknown\n",
    "- for the train set, due to `min_count` hyperparameter, not all the words have a vector representation\n",
    "\n",
    "In any case, just skip the missing words here."
   ]
  },
  {
   "cell_type": "code",
   "execution_count": 48,
   "metadata": {
    "ExecuteTime": {
     "end_time": "2021-11-12T13:40:08.863063Z",
     "start_time": "2021-11-12T13:40:08.857078Z"
    }
   },
   "outputs": [],
   "source": [
    "import numpy as np\n",
    "\n",
    "example = ['this', 'movie', 'is', 'the', 'worst', 'action', 'movie', 'ever']\n",
    "example_missing_words = ['this', 'movie', 'is', 'laaaaaaaaaame']\n",
    "\n",
    "def embed_sentence(word2vec, sentence):\n",
    "  embedded_sentence= []\n",
    "  for w in sentence:\n",
    "    if w in word2vec.wv:\n",
    "        embedded_sentence.append(word2vec.wv[w])\n",
    "  return np.array(embedded_sentence)\n",
    "\n",
    "### Checks\n",
    "embedded_sentence = embed_sentence(word2vec, example)\n",
    "assert(type(embedded_sentence) == np.ndarray)\n",
    "assert(embedded_sentence.shape == (8, 100))\n",
    "\n",
    "embedded_sentence_missing_words = embed_sentence(word2vec, example_missing_words)  \n",
    "assert(type(embedded_sentence_missing_words) == np.ndarray)\n",
    "assert(embedded_sentence_missing_words.shape == (3, 100))"
   ]
  },
  {
   "cell_type": "markdown",
   "metadata": {},
   "source": [
    "❓ **Question** ❓ Write a function that, given a list of sentence (each sentence being a list of words/strings), returns a list of embedded sentences (each sentence is a matrix). Apply this function to the train and test sentences\n",
    "\n",
    "Hint: Use the previous function `embed_sentence`"
   ]
  },
  {
   "cell_type": "code",
   "execution_count": 49,
   "metadata": {
    "ExecuteTime": {
     "end_time": "2021-11-12T13:41:19.328517Z",
     "start_time": "2021-11-12T13:41:06.049285Z"
    }
   },
   "outputs": [
    {
     "name": "stderr",
     "output_type": "stream",
     "text": [
      "/tmp/ipykernel_9289/3316067058.py:5: VisibleDeprecationWarning: Creating an ndarray from ragged nested sequences (which is a list-or-tuple of lists-or-tuples-or ndarrays with different lengths or shapes) is deprecated. If you meant to do this, you must specify 'dtype=object' when creating the ndarray\n",
      "  return np.array(embedded_sentences)\n"
     ]
    }
   ],
   "source": [
    "def embedding(word2vec, sentences):\n",
    "  embedded_sentences=[]\n",
    "  for sentence in sentences:\n",
    "    embedded_sentences.append(embed_sentence(word2vec,sentence))\n",
    "  return np.array(embedded_sentences)\n",
    "\n",
    "X_train = embedding(word2vec, X_train)\n",
    "X_test = embedding(word2vec, X_test)"
   ]
  },
  {
   "cell_type": "markdown",
   "metadata": {},
   "source": [
    "❓ **Question** ❓ In order to have ready-to-use data, do not forget to pad them in order to have tensors that can be divided in batch sizes during the optimization. Store the padedd values in `X_train_pad` and `X_test_pad`. Do not forget the important arguments of the padding ;)"
   ]
  },
  {
   "cell_type": "code",
   "execution_count": 50,
   "metadata": {
    "ExecuteTime": {
     "end_time": "2021-11-12T13:43:39.965186Z",
     "start_time": "2021-11-12T13:43:39.953632Z"
    }
   },
   "outputs": [
    {
     "data": {
      "text/plain": [
       "array([array([[ 0.4571602 , -0.46067718,  0.59801185, ..., -0.29895493,\n",
       "        -0.365447  , -1.0750463 ],\n",
       "       [ 0.37037343, -0.43219125,  1.418476  , ..., -1.7636448 ,\n",
       "         1.309207  ,  0.74893147],\n",
       "       [-0.15522805,  0.23919411, -0.52672815, ..., -0.8291645 ,\n",
       "        -0.7884576 ,  0.3035907 ],\n",
       "       ...,\n",
       "       [-0.35189983, -0.04089173, -0.00567862, ..., -0.15471242,\n",
       "         0.01800461, -0.09503834],\n",
       "       [-0.10978764, -0.00903572, -0.5773599 , ..., -0.17841516,\n",
       "         0.4641166 ,  0.18105611],\n",
       "       [-0.00462967, -0.48991084,  0.32316735, ...,  0.08009145,\n",
       "        -0.18387878, -0.8241441 ]], dtype=float32),\n",
       "       array([[-0.5124969 ,  0.90683985,  2.1662226 , ...,  0.31848547,\n",
       "         0.49516174, -1.1917468 ],\n",
       "       [-1.1445713 , -0.57437426,  0.89105505, ..., -0.71645975,\n",
       "        -0.28727973, -1.081074  ],\n",
       "       [-0.48163697,  0.25392544,  1.1890442 , ..., -0.5022039 ,\n",
       "        -1.0536067 , -0.15302303],\n",
       "       ...,\n",
       "       [ 0.6205433 , -0.06830383,  0.26571333, ..., -0.48267603,\n",
       "         0.08671466, -0.0837428 ],\n",
       "       [ 0.6160427 , -0.805868  , -0.68217623, ..., -0.90194774,\n",
       "         0.26354113,  0.12938832],\n",
       "       [ 0.84241813,  0.03901181, -0.09361923, ..., -0.9749843 ,\n",
       "         1.170632  , -0.1250673 ]], dtype=float32),\n",
       "       array([[-0.08179037,  0.07440533, -0.11215084, ..., -0.02048439,\n",
       "         0.05418392,  0.04271823],\n",
       "       [-0.01560886,  0.02891536, -0.03670466, ..., -0.03620924,\n",
       "         0.03444398,  0.00930835],\n",
       "       [ 0.41162565, -0.10287834, -0.06173304, ..., -0.69984907,\n",
       "         0.45779   ,  0.0280062 ],\n",
       "       ...,\n",
       "       [-0.13613018,  0.3158527 , -0.5503859 , ...,  0.18500376,\n",
       "         0.26302472,  0.29822394],\n",
       "       [ 0.50661117,  0.5024005 ,  0.19726522, ..., -0.47197258,\n",
       "         0.20172209, -0.36472702],\n",
       "       [-0.07780866, -0.01366357, -0.04325103, ..., -0.08695661,\n",
       "         0.02605344, -0.02887666]], dtype=float32),\n",
       "       ...,\n",
       "       array([[ 0.11111773, -0.41041592,  0.2521692 , ...,  1.0095564 ,\n",
       "         0.37461647, -2.0520144 ],\n",
       "       [-0.1052905 , -0.2724541 ,  0.55302763, ..., -1.6661268 ,\n",
       "         0.8558548 ,  0.24612534],\n",
       "       [-0.5765587 , -0.67547446, -0.08091733, ..., -0.21307789,\n",
       "        -0.26998037, -0.77339864],\n",
       "       ...,\n",
       "       [-0.10897587,  0.25010002, -0.5111776 , ..., -0.03425329,\n",
       "         0.20385957,  0.10722504],\n",
       "       [-0.1052905 , -0.2724541 ,  0.55302763, ..., -1.6661268 ,\n",
       "         0.8558548 ,  0.24612534],\n",
       "       [-0.25720605, -0.1104474 ,  0.24184492, ..., -0.06352908,\n",
       "        -1.5883155 , -1.7555441 ]], dtype=float32),\n",
       "       array([[ 0.07662952, -0.4965379 , -0.66842383, ...,  1.1477739 ,\n",
       "        -0.12659642, -1.6633606 ],\n",
       "       [ 0.41162565, -0.10287834, -0.06173304, ..., -0.69984907,\n",
       "         0.45779   ,  0.0280062 ],\n",
       "       [-0.13837145,  0.00842842, -0.08623841, ..., -0.1299055 ,\n",
       "         0.13408571, -0.18615691],\n",
       "       ...,\n",
       "       [-0.8641553 ,  0.5760877 , -0.35550606, ..., -0.28199032,\n",
       "         0.41401517,  0.02222061],\n",
       "       [ 0.18507025, -0.04194034, -0.44644085, ..., -0.9599458 ,\n",
       "         0.56784457, -0.606359  ],\n",
       "       [ 0.3077347 ,  0.45852447, -0.01549989, ..., -1.3176194 ,\n",
       "         0.5524194 ,  0.39553082]], dtype=float32),\n",
       "       array([[ 0.4571602 , -0.46067718,  0.59801185, ..., -0.29895493,\n",
       "        -0.365447  , -1.0750463 ],\n",
       "       [ 0.5051583 ,  0.26752362,  0.56549346, ..., -0.7142005 ,\n",
       "         0.01426005, -0.35416463],\n",
       "       [-0.1052905 , -0.2724541 ,  0.55302763, ..., -1.6661268 ,\n",
       "         0.8558548 ,  0.24612534],\n",
       "       ...,\n",
       "       [-0.3321006 ,  0.04229331, -0.59938586, ...,  0.16296862,\n",
       "         0.15400745,  0.19874084],\n",
       "       [-0.1245852 ,  0.3636116 , -0.6064884 , ..., -0.21438815,\n",
       "         0.22259139,  0.02532862],\n",
       "       [-0.18399408,  0.30133626, -0.4366142 , ...,  0.46260053,\n",
       "         0.12123185,  0.15877032]], dtype=float32)], dtype=object)"
      ]
     },
     "execution_count": 50,
     "metadata": {},
     "output_type": "execute_result"
    }
   ],
   "source": [
    "X_train"
   ]
  },
  {
   "cell_type": "code",
   "execution_count": 51,
   "metadata": {
    "ExecuteTime": {
     "end_time": "2021-11-12T13:44:24.537269Z",
     "start_time": "2021-11-12T13:43:56.113943Z"
    }
   },
   "outputs": [],
   "source": [
    "from tensorflow.keras.preprocessing.sequence import pad_sequences\n",
    "\n",
    "X_train_pad = pad_sequences(X_train, dtype='float32', padding='post', maxlen=200)\n",
    "X_test_pad = pad_sequences(X_test, dtype='float32', padding='post', maxlen=200)\n",
    "\n",
    "assert(len(X_train_pad.shape) == 3)\n",
    "assert(len(X_test_pad.shape) == 3)\n",
    "assert(X_train_pad.shape[2] == 100)\n",
    "assert(X_test_pad.shape[2] == 100)"
   ]
  }
 ],
 "metadata": {
  "kernelspec": {
   "display_name": "Python 3 (ipykernel)",
   "language": "python",
   "name": "python3"
  },
  "language_info": {
   "codemirror_mode": {
    "name": "ipython",
    "version": 3
   },
   "file_extension": ".py",
   "mimetype": "text/x-python",
   "name": "python",
   "nbconvert_exporter": "python",
   "pygments_lexer": "ipython3",
   "version": "3.8.12"
  },
  "toc": {
   "base_numbering": 1,
   "nav_menu": {},
   "number_sections": true,
   "sideBar": true,
   "skip_h1_title": false,
   "title_cell": "Table of Contents",
   "title_sidebar": "Contents",
   "toc_cell": false,
   "toc_position": {},
   "toc_section_display": true,
   "toc_window_display": false
  }
 },
 "nbformat": 4,
 "nbformat_minor": 2
}
