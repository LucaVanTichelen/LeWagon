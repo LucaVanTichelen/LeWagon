{
 "cells": [
  {
   "cell_type": "markdown",
   "metadata": {},
   "source": [
    "# Intuition on Convolutions\n",
    "\n",
    "**Objectives**\n",
    "- Compute convolution operations\n",
    "- Visualize a convolution kernel\n",
    "- VIsualize the effect of a convolution on images\n",
    "\n",
    "<hr>\n",
    "<hr>\n",
    "\n",
    "**Convolutional Neural Networks** correspond the Neural Networks that are specially designed to work on images. \n",
    "\n",
    "This is made possible thanks to _convolutions_. This specific mathematical operations applies a _kernel_ to an input image and creates an output representation. The name of this output can change depending on the community. Here, let's talk about the output as it corresponds to the output of a layer, as in standard DL neurons. But it can also be \"convoluted representation/feature\", \"convolution\", or also \"activation\" as it corresponds to the activation of a given layer.\n",
    "\n",
    "<img src=\"convolution.png\" width=\"300\">\n",
    "\n",
    "⚠️ It is important to get that the same kernel, i.e. the same weights, are applied to different zones of the images. This is very different from standard DL operations where each weight of each neuron is related to only one input coordinate (which in this case would be each pixel). Here, the weight of a kernel is not applied to only one input, i.e. one pixel, but to different pixels, \"step by step\".\n",
    "\n",
    "You can think of each kernel (or each filter in case of color image) as a magnifying glass through which you see the image. Similarly to your eyes which have to do not capture everything at once, but that have to look at different parts before to capture the whole thing you are looking at.\n",
    "\n",
    "So let's see a bit deeper at convolutions in general, and their impact in Convolutional Neural Networks."
   ]
  },
  {
   "cell_type": "markdown",
   "metadata": {},
   "source": [
    "## Data\n",
    "\n",
    "❓ First use the following function to load the data. \n",
    "\n",
    "⚠️ Restrict any desire to change the shapes or types of the outputs, this can arm further questions."
   ]
  },
  {
   "cell_type": "code",
   "execution_count": 2,
   "metadata": {
    "ExecuteTime": {
     "end_time": "2021-11-10T10:59:13.832480Z",
     "start_time": "2021-11-10T10:59:13.739184Z"
    }
   },
   "outputs": [],
   "source": [
    "# import os\n",
    "import numpy as np\n",
    "\n",
    "from matplotlib.pyplot import imread\n",
    "\n",
    "import matplotlib.pyplot as plt\n",
    "%matplotlib inline\n",
    "\n",
    "def load_data(path):\n",
    "    nb_circles = 100\n",
    "    nb_triangles = 100\n",
    "    \n",
    "    X, y = [], []\n",
    "    \n",
    "    for i in range(nb_circles):\n",
    "        c_path = os.path.join(path, 'circles', f'circle_{i}.png')\n",
    "        X.append(imread(c_path)[:, :, :1])\n",
    "        y.append(0)\n",
    "    \n",
    "    for i in range(nb_triangles):\n",
    "        t_path = os.path.join(path, 'triangles', f'triangle_{i}.png')\n",
    "        X.append(imread(t_path)[:, :, :1])\n",
    "        y.append(1)\n",
    "        \n",
    "    c = list(zip(X, y))\n",
    "    np.random.shuffle(c)\n",
    "    X, y = zip(*c)\n",
    "        \n",
    "    return np.array(X), np.array(y)\n",
    "        \n",
    "X, y = load_data('data')\n",
    "# Replace data by \"https://wagon-public-datasets.s3.amazonaws.com/deep-learning-circles-triangles\" if you are on a server"
   ]
  },
  {
   "cell_type": "markdown",
   "metadata": {},
   "source": [
    "❓ Check the shape of your data. Especially, why an additional dimension of size 1 for `X`? \n",
    "\n",
    "<details>\n",
    "    <summary>Hints</summary>\n",
    "\n",
    "The last dimension corresponds to the grey (black & white) channel - contrary to RGB images that \n",
    "have 3 channels, one for each color\n",
    "</details>"
   ]
  },
  {
   "cell_type": "code",
   "execution_count": 5,
   "metadata": {
    "ExecuteTime": {
     "end_time": "2021-11-10T11:00:22.797551Z",
     "start_time": "2021-11-10T11:00:22.790413Z"
    },
    "tags": [
     "challengify"
    ]
   },
   "outputs": [
    {
     "name": "stdout",
     "output_type": "stream",
     "text": [
      "(200, 76, 78, 1)\n",
      "(200,)\n"
     ]
    }
   ],
   "source": [
    "print(X.shape)\n",
    "print(y.shape)"
   ]
  },
  {
   "cell_type": "markdown",
   "metadata": {},
   "source": [
    "❓ Do the input images need some normalization?"
   ]
  },
  {
   "cell_type": "markdown",
   "metadata": {
    "ExecuteTime": {
     "end_time": "2021-11-10T11:02:45.853686Z",
     "start_time": "2021-11-10T11:02:45.841939Z"
    },
    "tags": [
     "challengify"
    ]
   },
   "source": [
    "NO"
   ]
  },
  {
   "cell_type": "markdown",
   "metadata": {},
   "source": [
    "❓ Display some images with `plt.imshow` and their respective label (the images are black and white, therefore use `cmap=gray` in the dedicated matplotlib function - otherwise, you will get unrelevant and weird colors)."
   ]
  },
  {
   "cell_type": "code",
   "execution_count": 36,
   "metadata": {
    "ExecuteTime": {
     "end_time": "2021-11-10T11:13:28.470392Z",
     "start_time": "2021-11-10T11:13:28.300934Z"
    },
    "tags": [
     "challengify"
    ]
   },
   "outputs": [
    {
     "data": {
      "text/plain": [
       "<matplotlib.image.AxesImage at 0x7f5d7594af10>"
      ]
     },
     "execution_count": 36,
     "metadata": {},
     "output_type": "execute_result"
    },
    {
     "data": {
      "image/png": "[encoded data removed]",
      "text/plain": [
       "<Figure size 432x288 with 1 Axes>"
      ]
     },
     "metadata": {
      "needs_background": "light"
     },
     "output_type": "display_data"
    }
   ],
   "source": [
    "plt.imshow(X[0], cmap='gray')"
   ]
  },
  {
   "cell_type": "markdown",
   "metadata": {},
   "source": [
    "❓ How many classes to predict are there? It should already give you an information on the last layer of your CNN."
   ]
  },
  {
   "cell_type": "markdown",
   "metadata": {
    "tags": [
     "challengify"
    ]
   },
   "source": [
    "2"
   ]
  },
  {
   "cell_type": "markdown",
   "metadata": {},
   "source": [
    "# Part 1. Kernels\n",
    "\n",
    "The following function allows to apply a kernel to an image => a convolution. \n",
    "\n",
    "⚠️ Be careful though as _convolution_ operation are slighlty different in signal processing. For instance, the numpy.convolve function does not compute the convolution in the Deep Learning sense.\n",
    "\n",
    "⚠️ Keras convolutions are a bit more complex as they deal with padding and slide. This is a simplified example.\n",
    "\n",
    "⚠️ Be careful: convolution sometimes refers to _one_ operation. Sometimes to the operations repeated on the entire image.\n",
    "\n",
    "❓ Load the function and go through the lines to understand what it is doing."
   ]
  },
  {
   "cell_type": "code",
   "execution_count": 37,
   "metadata": {
    "ExecuteTime": {
     "end_time": "2021-11-10T11:14:57.024451Z",
     "start_time": "2021-11-10T11:14:57.016134Z"
    }
   },
   "outputs": [],
   "source": [
    "def compute_convolution(img, kernel):\n",
    "    # Parameters\n",
    "    kernel = np.array(kernel)\n",
    "    kernel_height, kernel_width = kernel.shape\n",
    "\n",
    "    img = np.squeeze(img) # Removes dimensions of size 1\n",
    "    img_height, img_width = img.shape\n",
    "    \n",
    "    array = []\n",
    "\n",
    "    for x in range(img_height-kernel_height):\n",
    "        arr = []\n",
    "        \n",
    "        for y in range(img_width - kernel_width):\n",
    "            \n",
    "            a = np.multiply(img[x:x+kernel_height, y:y+kernel_width], kernel)\n",
    "            arr.append(a.sum())\n",
    "            \n",
    "        array.append(arr)\n",
    "        \n",
    "    return array"
   ]
  },
  {
   "cell_type": "markdown",
   "metadata": {},
   "source": [
    "❓ Apply the convolution with the following kernel to any image from the input dataset. Display the input and output image to see the difference"
   ]
  },
  {
   "cell_type": "code",
   "execution_count": 38,
   "metadata": {
    "ExecuteTime": {
     "end_time": "2021-11-10T11:16:28.641847Z",
     "start_time": "2021-11-10T11:16:28.637877Z"
    }
   },
   "outputs": [],
   "source": [
    "identity_kernel = [\n",
    "    [0, 0, 0],\n",
    "    [0, 1, 0],\n",
    "    [0, 0, 0]\n",
    "]"
   ]
  },
  {
   "cell_type": "code",
   "execution_count": 51,
   "metadata": {
    "ExecuteTime": {
     "end_time": "2021-11-10T11:21:02.552325Z",
     "start_time": "2021-11-10T11:21:02.323390Z"
    },
    "scrolled": true,
    "tags": [
     "challengify"
    ]
   },
   "outputs": [
    {
     "data": {
      "image/png": "[encoded data removed]",
      "text/plain": [
       "<Figure size 432x288 with 1 Axes>"
      ]
     },
     "metadata": {
      "needs_background": "light"
     },
     "output_type": "display_data"
    }
   ],
   "source": [
    "plt.imshow(X[1], cmap='gray');"
   ]
  },
  {
   "cell_type": "code",
   "execution_count": 53,
   "metadata": {
    "ExecuteTime": {
     "end_time": "2021-11-10T11:21:24.425547Z",
     "start_time": "2021-11-10T11:21:24.388605Z"
    }
   },
   "outputs": [],
   "source": [
    "x1_identity = compute_convolution(X[1], identity_kernel)"
   ]
  },
  {
   "cell_type": "code",
   "execution_count": 54,
   "metadata": {
    "ExecuteTime": {
     "end_time": "2021-11-10T11:21:30.043550Z",
     "start_time": "2021-11-10T11:21:29.899091Z"
    }
   },
   "outputs": [
    {
     "data": {
      "image/png": "[encoded data removed]",
      "text/plain": [
       "<Figure size 432x288 with 1 Axes>"
      ]
     },
     "metadata": {
      "needs_background": "light"
     },
     "output_type": "display_data"
    }
   ],
   "source": [
    "plt.imshow(x1_identity, cmap='gray');"
   ]
  },
  {
   "cell_type": "markdown",
   "metadata": {},
   "source": [
    "The previous kernel corresponds to the _identity_ kernel, meaning that the output is equal to the output... It basically does nothing. You can easily figure this out by thinking about the operation it does on the image : only one pixel per convolution operation is kept as the other are multiplied by 0.\n",
    "\n",
    "❓ `plot_convolution` with the following `kernel_1`, once on an triangle and once on a circle."
   ]
  },
  {
   "cell_type": "code",
   "execution_count": 55,
   "metadata": {
    "ExecuteTime": {
     "end_time": "2021-11-10T11:24:17.256810Z",
     "start_time": "2021-11-10T11:24:17.245750Z"
    }
   },
   "outputs": [],
   "source": [
    "kernel_1 = [\n",
    "    [1, 1, 1],\n",
    "    [0, 0, 0],\n",
    "    [-1, -1, -1]\n",
    "]\n",
    "\n",
    "def plot_convolution(img, kernel, activation=False):\n",
    "    ''' The following printing function ease the visualization'''\n",
    "    \n",
    "    img = np.squeeze(img)\n",
    "    output_img = compute_convolution(img, kernel)\n",
    "    if activation:\n",
    "        output_img = np.maximum(output_img, 0)\n",
    "    \n",
    "    plt.figure(figsize=(10, 5))\n",
    "    \n",
    "    ax1 = plt.subplot2grid((3,3),(0,0), rowspan=3)\n",
    "    ax1.imshow(img, cmap='gray')\n",
    "    ax1.title.set_text('Input image')\n",
    "    \n",
    "    ax2 = plt.subplot2grid((3,3),(1, 1))\n",
    "    ax2.imshow(kernel, cmap='gray')\n",
    "    ax2.title.set_text('Kernel')    \n",
    "    \n",
    "    ax3 = plt.subplot2grid((3,3),(0, 2), rowspan=3)\n",
    "    ax3.imshow(output_img, cmap='gray')\n",
    "    ax3.title.set_text('Output image')    \n",
    "\n",
    "    for ax in [ax1, ax2, ax3]:\n",
    "        ax.axes.get_xaxis().set_visible(False)\n",
    "        ax.axes.get_yaxis().set_visible(False)"
   ]
  },
  {
   "cell_type": "code",
   "execution_count": 56,
   "metadata": {
    "ExecuteTime": {
     "end_time": "2021-11-10T11:24:33.918287Z",
     "start_time": "2021-11-10T11:24:33.710866Z"
    },
    "tags": [
     "challengify"
    ]
   },
   "outputs": [
    {
     "data": {
      "image/png": "[encoded data removed]",
      "text/plain": [
       "<Figure size 720x360 with 3 Axes>"
      ]
     },
     "metadata": {
      "needs_background": "light"
     },
     "output_type": "display_data"
    }
   ],
   "source": [
    "plot_convolution(X[0], kernel_1)"
   ]
  },
  {
   "cell_type": "code",
   "execution_count": 57,
   "metadata": {
    "ExecuteTime": {
     "end_time": "2021-11-10T11:24:43.905688Z",
     "start_time": "2021-11-10T11:24:43.725963Z"
    }
   },
   "outputs": [
    {
     "data": {
      "image/png": "[encoded data removed]",
      "text/plain": [
       "<Figure size 720x360 with 3 Axes>"
      ]
     },
     "metadata": {
      "needs_background": "light"
     },
     "output_type": "display_data"
    }
   ],
   "source": [
    "plot_convolution(X[1], kernel_1)"
   ]
  },
  {
   "cell_type": "markdown",
   "metadata": {},
   "source": [
    "❓ Let's try to understand why this is meaningful. First, white colors correspond to high values and black to low values. In a neural network, just after a regular neuron or a convolution, there is an activation function. When the activation function is a `relu`, it just correponds to setting the negative values to 0.\n",
    "\n",
    "Well, let's see what it means in the case of a CNN. Re-run the previous functions with `activation` set to `True` (in this case, the activation fuction _is_ the relu)."
   ]
  },
  {
   "cell_type": "code",
   "execution_count": 58,
   "metadata": {
    "ExecuteTime": {
     "end_time": "2021-11-10T11:25:33.383302Z",
     "start_time": "2021-11-10T11:25:33.188254Z"
    },
    "tags": [
     "challengify"
    ]
   },
   "outputs": [
    {
     "data": {
      "image/png": "[encoded data removed]",
      "text/plain": [
       "<Figure size 720x360 with 3 Axes>"
      ]
     },
     "metadata": {
      "needs_background": "light"
     },
     "output_type": "display_data"
    }
   ],
   "source": [
    "plot_convolution(X[0], kernel_1, activation=True)"
   ]
  },
  {
   "cell_type": "code",
   "execution_count": 59,
   "metadata": {
    "ExecuteTime": {
     "end_time": "2021-11-10T11:25:46.384027Z",
     "start_time": "2021-11-10T11:25:46.214557Z"
    }
   },
   "outputs": [
    {
     "data": {
      "image/png": "[encoded data removed]",
      "text/plain": [
       "<Figure size 720x360 with 3 Axes>"
      ]
     },
     "metadata": {
      "needs_background": "light"
     },
     "output_type": "display_data"
    }
   ],
   "source": [
    "plot_convolution(X[1], kernel_1, activation=True)"
   ]
  },
  {
   "cell_type": "markdown",
   "metadata": {},
   "source": [
    "❓ This kernel is actually highlithing the edges in a given direction. Try the next following kernels to check the different edges it can detect."
   ]
  },
  {
   "cell_type": "code",
   "execution_count": 60,
   "metadata": {
    "ExecuteTime": {
     "end_time": "2021-11-10T11:25:53.169201Z",
     "start_time": "2021-11-10T11:25:53.163301Z"
    }
   },
   "outputs": [],
   "source": [
    "kernel_2 = [\n",
    "    [-1, -1, -1],\n",
    "    [0, 0, 0],   \n",
    "    [1, 1, 1],\n",
    "]\n",
    "\n",
    "kernel_3 = [\n",
    "    [-1, 0, 1],\n",
    "    [-1, 0, 1],\n",
    "    [-1, 0, 1]\n",
    "]\n",
    "\n",
    "kernel_4 = [\n",
    "    [1, 0, -1],\n",
    "    [1, 0, -1],\n",
    "    [1, 0, -1]\n",
    "]\n",
    "\n",
    "# YOUR CODE HERE"
   ]
  },
  {
   "cell_type": "code",
   "execution_count": 62,
   "metadata": {
    "ExecuteTime": {
     "end_time": "2021-11-10T11:26:16.327286Z",
     "start_time": "2021-11-10T11:26:16.148958Z"
    },
    "tags": [
     "challengify"
    ]
   },
   "outputs": [
    {
     "data": {
      "image/png": "[encoded data removed]",
      "text/plain": [
       "<Figure size 720x360 with 3 Axes>"
      ]
     },
     "metadata": {
      "needs_background": "light"
     },
     "output_type": "display_data"
    }
   ],
   "source": [
    "plot_convolution(X[0], kernel_2)"
   ]
  },
  {
   "cell_type": "code",
   "execution_count": 63,
   "metadata": {
    "ExecuteTime": {
     "end_time": "2021-11-10T11:26:30.720801Z",
     "start_time": "2021-11-10T11:26:30.446463Z"
    }
   },
   "outputs": [
    {
     "data": {
      "image/png": "[encoded data removed]",
      "text/plain": [
       "<Figure size 720x360 with 3 Axes>"
      ]
     },
     "metadata": {
      "needs_background": "light"
     },
     "output_type": "display_data"
    }
   ],
   "source": [
    "plot_convolution(X[0], kernel_3)"
   ]
  },
  {
   "cell_type": "code",
   "execution_count": 64,
   "metadata": {
    "ExecuteTime": {
     "end_time": "2021-11-10T11:26:35.781586Z",
     "start_time": "2021-11-10T11:26:35.607460Z"
    }
   },
   "outputs": [
    {
     "data": {
      "image/png": "[encoded data removed]",
      "text/plain": [
       "<Figure size 720x360 with 3 Axes>"
      ]
     },
     "metadata": {
      "needs_background": "light"
     },
     "output_type": "display_data"
    }
   ],
   "source": [
    "plot_convolution(X[0], kernel_4)"
   ]
  },
  {
   "cell_type": "markdown",
   "metadata": {},
   "source": [
    "❓ What the effect of kernel size? Check it out with a larger kernel of shape (10,10) below"
   ]
  },
  {
   "cell_type": "code",
   "execution_count": 65,
   "metadata": {
    "ExecuteTime": {
     "end_time": "2021-11-10T11:28:54.235439Z",
     "start_time": "2021-11-10T11:28:54.061018Z"
    }
   },
   "outputs": [
    {
     "data": {
      "image/png": "[encoded data removed]",
      "text/plain": [
       "<Figure size 720x360 with 3 Axes>"
      ]
     },
     "metadata": {
      "needs_background": "light"
     },
     "output_type": "display_data"
    }
   ],
   "source": [
    "kernel_big = np.array([\n",
    "    np.ones((10,)),\n",
    "    np.ones((10,)),\n",
    "    np.ones((10,)),\n",
    "    np.zeros((10,)),\n",
    "    np.zeros((10,)),\n",
    "    np.zeros((10,)),\n",
    "    np.zeros((10,)),\n",
    "    np.ones((10,))*-1,\n",
    "    np.ones((10,))*-1,\n",
    "    np.ones((10,))*-1,\n",
    "])\n",
    "plot_convolution(X[0], kernel_big)"
   ]
  },
  {
   "cell_type": "markdown",
   "metadata": {},
   "source": [
    "❓ Feel free to try any other kernel"
   ]
  },
  {
   "cell_type": "code",
   "execution_count": 66,
   "metadata": {
    "ExecuteTime": {
     "end_time": "2021-11-10T11:29:07.853465Z",
     "start_time": "2021-11-10T11:29:07.670213Z"
    }
   },
   "outputs": [
    {
     "data": {
      "image/png": "[encoded data removed]",
      "text/plain": [
       "<Figure size 720x360 with 3 Axes>"
      ]
     },
     "metadata": {
      "needs_background": "light"
     },
     "output_type": "display_data"
    }
   ],
   "source": [
    "random_kernel = np.random.uniform(-10, 10, (5, 5))\n",
    "plot_convolution(X[0], random_kernel)"
   ]
  },
  {
   "cell_type": "markdown",
   "metadata": {},
   "source": [
    "Now that you got the idea of what the convolution is doing, let's see how it goes in a real Convolutional Neural Network."
   ]
  },
  {
   "cell_type": "markdown",
   "metadata": {},
   "source": [
    "# Part 2. Convolutional Neural Network\n",
    "\n",
    "\n",
    "❓ Write a convolutional network that has \n",
    "- a convolutional layer with 16 filters with (4, 4) kernels.\n",
    "- a convolutional layer with 32 filters with (3, 3) kernels.\n",
    "- a convolutional layer with 32 filters with (3, 3) kernels.\n",
    "- a convolutional layer with 32 filters with (2, 2) kernels.\n",
    "\n",
    "with:\n",
    "- A max-pooling layer (with (2, 2) pool sizes) after each convolution.\n",
    "- A Dense layer of the size of your choice - be reasonable - after the flattening and before the last layer\n",
    "\n",
    "\n",
    "Also, be sure to compile your model with the adequate parameters"
   ]
  },
  {
   "cell_type": "code",
   "execution_count": 67,
   "metadata": {
    "ExecuteTime": {
     "end_time": "2021-11-10T11:31:25.086597Z",
     "start_time": "2021-11-10T11:31:25.081199Z"
    }
   },
   "outputs": [
    {
     "data": {
      "text/plain": [
       "(200, 76, 78, 1)"
      ]
     },
     "execution_count": 67,
     "metadata": {},
     "output_type": "execute_result"
    }
   ],
   "source": [
    "X.shape"
   ]
  },
  {
   "cell_type": "code",
   "execution_count": 73,
   "metadata": {
    "ExecuteTime": {
     "end_time": "2021-11-10T11:52:52.008148Z",
     "start_time": "2021-11-10T11:52:51.998145Z"
    }
   },
   "outputs": [],
   "source": [
    "from tensorflow.keras import Sequential\n",
    "\n",
    "def initialize_model():\n",
    "    model = Sequential()\n",
    "    \n",
    "    model.add(layers.Conv2D(16, (4, 4), input_shape=(76, 78, 1), activation='relu', padding='same'))\n",
    "    model.add(layers.MaxPool2D(pool_size=(2,2)))\n",
    "    model.add(layers.Conv2D(32, (3, 3), activation=\"relu\"))\n",
    "    model.add(layers.MaxPool2D(pool_size=(2,2)))\n",
    "    model.add(layers.Conv2D(32, (3, 3), activation=\"relu\"))\n",
    "    model.add(layers.MaxPool2D(pool_size=(2,2)))\n",
    "    model.add(layers.Conv2D(32, (2, 2), activation=\"relu\"))\n",
    "    model.add(layers.Flatten())\n",
    "    model.add(layers.Dense(8, activation='relu'))\n",
    "    model.add(layers.Dense(1, activation='sigmoid'))\n",
    "    \n",
    "    model.compile(loss='binary_crossentropy',\n",
    "              optimizer='adam',\n",
    "              metrics=['accuracy'])\n",
    "    \n",
    "    return model"
   ]
  },
  {
   "cell_type": "markdown",
   "metadata": {},
   "source": [
    "❓ Fit the model. You should achieve a accuracy of at least 90. Here, the point is not to bother with overfitting, so do not worry much as you would have to if you have a high score. "
   ]
  },
  {
   "cell_type": "code",
   "execution_count": 78,
   "metadata": {
    "ExecuteTime": {
     "end_time": "2021-11-10T11:56:50.483540Z",
     "start_time": "2021-11-10T11:56:41.177557Z"
    },
    "tags": [
     "challengify"
    ]
   },
   "outputs": [
    {
     "name": "stdout",
     "output_type": "stream",
     "text": [
      "Epoch 1/50\n",
      "5/5 [==============================] - 1s 84ms/step - loss: 0.7093 - accuracy: 0.4786 - val_loss: 0.6886 - val_accuracy: 0.5167\n",
      "Epoch 2/50\n",
      "5/5 [==============================] - 0s 62ms/step - loss: 0.6900 - accuracy: 0.5214 - val_loss: 0.6853 - val_accuracy: 0.7500\n",
      "Epoch 3/50\n",
      "5/5 [==============================] - 0s 60ms/step - loss: 0.6843 - accuracy: 0.6357 - val_loss: 0.6783 - val_accuracy: 0.8000\n",
      "Epoch 4/50\n",
      "5/5 [==============================] - 0s 58ms/step - loss: 0.6740 - accuracy: 0.6571 - val_loss: 0.6728 - val_accuracy: 0.6333\n",
      "Epoch 5/50\n",
      "5/5 [==============================] - 0s 82ms/step - loss: 0.6590 - accuracy: 0.7786 - val_loss: 0.6446 - val_accuracy: 0.7167\n",
      "Epoch 6/50\n",
      "5/5 [==============================] - 0s 60ms/step - loss: 0.6228 - accuracy: 0.8000 - val_loss: 0.5910 - val_accuracy: 0.8333\n",
      "Epoch 7/50\n",
      "5/5 [==============================] - 0s 60ms/step - loss: 0.5460 - accuracy: 0.8571 - val_loss: 0.4885 - val_accuracy: 0.8333\n",
      "Epoch 8/50\n",
      "5/5 [==============================] - 0s 59ms/step - loss: 0.4599 - accuracy: 0.8286 - val_loss: 0.3878 - val_accuracy: 0.8667\n",
      "Epoch 9/50\n",
      "5/5 [==============================] - 0s 59ms/step - loss: 0.3594 - accuracy: 0.8643 - val_loss: 0.3129 - val_accuracy: 0.8833\n",
      "Epoch 10/50\n",
      "5/5 [==============================] - 0s 60ms/step - loss: 0.3023 - accuracy: 0.8857 - val_loss: 0.3168 - val_accuracy: 0.8667\n",
      "Epoch 11/50\n",
      "5/5 [==============================] - 0s 60ms/step - loss: 0.2236 - accuracy: 0.9214 - val_loss: 0.2322 - val_accuracy: 0.9000\n",
      "Epoch 12/50\n",
      "5/5 [==============================] - 0s 60ms/step - loss: 0.1764 - accuracy: 0.9286 - val_loss: 0.1890 - val_accuracy: 0.9000\n",
      "Epoch 13/50\n",
      "5/5 [==============================] - 0s 59ms/step - loss: 0.1245 - accuracy: 0.9714 - val_loss: 0.1672 - val_accuracy: 0.9000\n",
      "Epoch 14/50\n",
      "5/5 [==============================] - 0s 79ms/step - loss: 0.1102 - accuracy: 0.9500 - val_loss: 0.1284 - val_accuracy: 0.9333\n",
      "Epoch 15/50\n",
      "5/5 [==============================] - 0s 58ms/step - loss: 0.0887 - accuracy: 0.9786 - val_loss: 0.1814 - val_accuracy: 0.9000\n",
      "Epoch 16/50\n",
      "5/5 [==============================] - 0s 60ms/step - loss: 0.0712 - accuracy: 0.9714 - val_loss: 0.1303 - val_accuracy: 0.9167\n",
      "Epoch 17/50\n",
      "5/5 [==============================] - 0s 74ms/step - loss: 0.0315 - accuracy: 1.0000 - val_loss: 0.0693 - val_accuracy: 0.9667\n",
      "Epoch 18/50\n",
      "5/5 [==============================] - 0s 60ms/step - loss: 0.0250 - accuracy: 1.0000 - val_loss: 0.1157 - val_accuracy: 0.9167\n",
      "Epoch 19/50\n",
      "5/5 [==============================] - 0s 64ms/step - loss: 0.0171 - accuracy: 1.0000 - val_loss: 0.0761 - val_accuracy: 0.9667\n",
      "Epoch 20/50\n",
      "5/5 [==============================] - 0s 64ms/step - loss: 0.0113 - accuracy: 1.0000 - val_loss: 0.0656 - val_accuracy: 0.9667\n",
      "Epoch 21/50\n",
      "5/5 [==============================] - 0s 68ms/step - loss: 0.0084 - accuracy: 1.0000 - val_loss: 0.0850 - val_accuracy: 0.9667\n",
      "Epoch 22/50\n",
      "5/5 [==============================] - 0s 78ms/step - loss: 0.0059 - accuracy: 1.0000 - val_loss: 0.0711 - val_accuracy: 0.9667\n",
      "Epoch 23/50\n",
      "5/5 [==============================] - 0s 69ms/step - loss: 0.0046 - accuracy: 1.0000 - val_loss: 0.0646 - val_accuracy: 0.9667\n",
      "Epoch 24/50\n",
      "5/5 [==============================] - 0s 81ms/step - loss: 0.0044 - accuracy: 1.0000 - val_loss: 0.0400 - val_accuracy: 0.9833\n",
      "Epoch 25/50\n",
      "5/5 [==============================] - 0s 60ms/step - loss: 0.0033 - accuracy: 1.0000 - val_loss: 0.0682 - val_accuracy: 0.9667\n",
      "Epoch 26/50\n",
      "5/5 [==============================] - 0s 75ms/step - loss: 0.0028 - accuracy: 1.0000 - val_loss: 0.0913 - val_accuracy: 0.9667\n",
      "Epoch 27/50\n",
      "5/5 [==============================] - 0s 59ms/step - loss: 0.0024 - accuracy: 1.0000 - val_loss: 0.0565 - val_accuracy: 0.9667\n"
     ]
    },
    {
     "data": {
      "text/plain": [
       "<tensorflow.python.keras.callbacks.History at 0x7f5ce0abc850>"
      ]
     },
     "execution_count": 78,
     "metadata": {},
     "output_type": "execute_result"
    }
   ],
   "source": [
    "from tensorflow.keras.callbacks import EarlyStopping\n",
    "from tensorflow.keras import layers\n",
    "\n",
    "model = initialize_model()\n",
    "\n",
    "es = EarlyStopping(patience=3, restore_best_weights=True)\n",
    "\n",
    "model.fit(X, y,\n",
    "          epochs=50,  # Use early stop in practice\n",
    "          batch_size=32,\n",
    "          validation_split=0.3,\n",
    "          callbacks=[es],\n",
    "          verbose=1)"
   ]
  },
  {
   "cell_type": "markdown",
   "metadata": {},
   "source": [
    "## 2.1 Kernels"
   ]
  },
  {
   "cell_type": "markdown",
   "metadata": {},
   "source": [
    "It is possible to retrieve the values of the different kernels in the CNN. Look at the following method that will return the value of a kernel depending on:\n",
    "- the layer number, which can be only `0 `or `2`, as the convolution layers correspond to the first and third layer of the CNN\n",
    "- the filter number, where there is 32 filters in the first convolution, and 64 filters in the second convolution\n",
    "- the channel number, where there is 1 channel in the first convolution, and 32 channels in the second convolution\n",
    "\n",
    "\n",
    "❓  Using `plot_convolution(activation=True)`, display some kernels from the FIRST convolutional layer, along with the activation output, to see what the model has learnt"
   ]
  },
  {
   "cell_type": "code",
   "execution_count": 85,
   "metadata": {
    "ExecuteTime": {
     "end_time": "2021-11-10T13:23:20.333939Z",
     "start_time": "2021-11-10T13:23:20.139750Z"
    }
   },
   "outputs": [
    {
     "data": {
      "image/png": "[encoded data removed]",
      "text/plain": [
       "<Figure size 720x360 with 3 Axes>"
      ]
     },
     "metadata": {
      "needs_background": "light"
     },
     "output_type": "display_data"
    }
   ],
   "source": [
    "def get_kernel(layer_number, filter_number, channel_number):\n",
    "\n",
    "    weight_or_bias = 0\n",
    "    k = model.layers[layer_number].weights[0].numpy()[:,\n",
    "                                                      :,\n",
    "                                                      channel_number,\n",
    "                                                      filter_number]\n",
    "\n",
    "    return k\n",
    "\n",
    "\n",
    "plot_convolution(X[0], get_kernel(0, 1, 0))"
   ]
  },
  {
   "cell_type": "markdown",
   "metadata": {},
   "source": [
    "## 2.2 Activations"
   ]
  },
  {
   "cell_type": "markdown",
   "metadata": {},
   "source": [
    "So far, we have only looked at the activation (\"output image\") of the **first** layer.\n",
    "\n",
    "In order to visualize the activation of the CNN after the second convolution, we need to compute the activations after the first layer, then compute the MaxPooling, then second convolution activation, etc...\n",
    "\n",
    "We give you below a function below which does exactly that: It computes the different activation through the entire network, and store them in an list. Notice that it uses keras `Fonctional API`\n",
    "\n",
    "❓ Run the following cell. The function allows to directly print the activation after any layer"
   ]
  },
  {
   "cell_type": "code",
   "execution_count": 89,
   "metadata": {
    "ExecuteTime": {
     "end_time": "2021-11-10T13:30:28.202345Z",
     "start_time": "2021-11-10T13:30:27.851534Z"
    }
   },
   "outputs": [],
   "source": [
    "from tensorflow.keras import models\n",
    "\n",
    "# List all 9 layers\n",
    "layer_outputs = [layer.output for layer in model.layers]\n",
    "\n",
    "# Instanciate 9 sub-models: [layer1, layer1-->layer2, layer1-->layer2-->layer3, ...]\n",
    "# Reusing already trained weights and biases\n",
    "activation_model = models.Model(inputs=model.input, outputs=layer_outputs)\n",
    "\n",
    "# Compute the 9 output of each sub-models\n",
    "activations = activation_model.predict(X) \n",
    "\n",
    "def get_activation(activations, image_number, layer_number, filter_number):\n",
    "    '''return activation map for a given layer, image, and filter number'''\n",
    "    return activations[layer_number][image_number][:, :, filter_number]"
   ]
  },
  {
   "cell_type": "markdown",
   "metadata": {},
   "source": [
    "❓ Choose one image, and display the 3 activation \"images\" of each 3 convolution layers. Pick for instance the first filter of each layer. \n",
    "- Notice how the information of an image **flows** within the network.\n",
    "- You should see picture become more and more \"abstract\", of smaller and smaller \"dimensions\""
   ]
  },
  {
   "cell_type": "code",
   "execution_count": 122,
   "metadata": {
    "ExecuteTime": {
     "end_time": "2021-11-10T13:39:57.195236Z",
     "start_time": "2021-11-10T13:39:57.059200Z"
    },
    "tags": [
     "challengify"
    ]
   },
   "outputs": [
    {
     "data": {
      "text/plain": [
       "<matplotlib.image.AxesImage at 0x7f5cb9c3db50>"
      ]
     },
     "execution_count": 122,
     "metadata": {},
     "output_type": "execute_result"
    },
    {
     "data": {
      "image/png": "[encoded data removed]",
      "text/plain": [
       "<Figure size 432x288 with 1 Axes>"
      ]
     },
     "metadata": {
      "needs_background": "light"
     },
     "output_type": "display_data"
    }
   ],
   "source": [
    "plt.imshow(get_activation(activations, 7, 1, 15), cmap='gray')"
   ]
  },
  {
   "cell_type": "markdown",
   "metadata": {},
   "source": [
    "🏁 **Congratulation! Don't forget to commit and push your notebook** "
   ]
  },
  {
   "cell_type": "markdown",
   "metadata": {},
   "source": [
    "### Utils (appendix)\n",
    "\n",
    "The following simply presents the functions that created the dataset you are working with.\n",
    "\n",
    "They were left at the end of the notebook in case you want to further prototype and get better understanding of what is going on. But do not prototype yet => you can go to the next exercise as for now, and come back to it any time later."
   ]
  },
  {
   "cell_type": "code",
   "execution_count": 114,
   "metadata": {
    "ExecuteTime": {
     "end_time": "2021-11-10T13:38:33.076292Z",
     "start_time": "2021-11-10T13:38:33.062477Z"
    }
   },
   "outputs": [],
   "source": [
    "def draw_triangle():\n",
    "    dx = np.random.uniform(0.1, 0.3)\n",
    "    dy = np.random.uniform(0.1, 0.3)\n",
    "    noise_x = np.random.uniform(0.0, 0.1)\n",
    "    noise_y = np.random.uniform(0.0, 0.1)    \n",
    "    \n",
    "    x = np.random.uniform(0, 1-dx-noise_x)\n",
    "    y = np.random.uniform(0, 1-dy)\n",
    "    X = np.array([[x,y], [x+dx+noise_x,y], [x+dx/2, y+dy+noise_y]])\n",
    "\n",
    "    t1 = plt.Polygon(X, color='black')\n",
    "    plt.gca().add_patch(t1)\n",
    "    \n",
    "def draw_circle():\n",
    "    r = np.random.uniform(0.1, 0.25)\n",
    "    x = np.random.uniform(0+r, 1-r)\n",
    "    y = np.random.uniform(0+r, 1-r)\n",
    "\n",
    "    circle1 = plt.Circle((x, y), r, color='black')\n",
    "    plt.gcf().gca().add_artist(circle1)\n",
    "    \n",
    "def create_image(form, path):\n",
    "    plt.figure(figsize=(1, 1))\n",
    "    if form == 'circle':\n",
    "        draw_circle()\n",
    "    elif form == 'triangle':\n",
    "        draw_triangle()\n",
    "    plt.axis('off')\n",
    "    plt.savefig(path, dpi=80, bbox_inches='tight')\n",
    "    plt.close()\n",
    "\n",
    "    \n",
    "def create_images(path):\n",
    "    nb_circles = 100\n",
    "    nb_triangles = 100\n",
    "    \n",
    "    for i in range(nb_circles):\n",
    "        c_path = os.path.join(path, 'circles', f'circle_{i}.png')\n",
    "        create_image('circle', c_path)\n",
    "        \n",
    "    for i in range(nb_triangles):\n",
    "        t_path = os.path.join(path, 'triangles', f'triangle_{i}.png')\n",
    "        create_image('triangle', t_path)"
   ]
  }
 ],
 "metadata": {
  "kernelspec": {
   "display_name": "Python 3 (ipykernel)",
   "language": "python",
   "name": "python3"
  },
  "language_info": {
   "codemirror_mode": {
    "name": "ipython",
    "version": 3
   },
   "file_extension": ".py",
   "mimetype": "text/x-python",
   "name": "python",
   "nbconvert_exporter": "python",
   "pygments_lexer": "ipython3",
   "version": "3.8.12"
  },
  "toc": {
   "base_numbering": 1,
   "nav_menu": {},
   "number_sections": true,
   "sideBar": true,
   "skip_h1_title": false,
   "title_cell": "Table of Contents",
   "title_sidebar": "Contents",
   "toc_cell": false,
   "toc_position": {},
   "toc_section_display": true,
   "toc_window_display": false
  }
 },
 "nbformat": 4,
 "nbformat_minor": 4
}
