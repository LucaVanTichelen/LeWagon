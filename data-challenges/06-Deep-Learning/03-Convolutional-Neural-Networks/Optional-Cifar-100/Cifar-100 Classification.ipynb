{
 "cells": [
  {
   "cell_type": "markdown",
   "metadata": {},
   "source": [
    "# Deep Learning week - Day 3 - Cifar 100 classification\n",
    "\n",
    "### Exercise objective\n",
    "- Design a CNN architecture from scratch\n",
    "- Work as in real-life scenarios where there is not much guidelines\n",
    "\n",
    "<hr>\n",
    "<hr>\n",
    "\n",
    "If you've made it up this exercise, you are probably good enough to test your CNN ninja skills on a very well-known task, without much guidance.\n",
    "\n",
    "The dataset you will work on is the CIFAR-100 dataset. It is basically the same as CIFAR-10 but with 100 classes. The idea here is to get the best accuracy on this classification task. This is not an easy challenge and people are still working to improve the accuracy on this task with new models, as shown [here](https://paperswithcode.com/sota/image-classification-on-cifar-100). You can see that some models are still getting published on this model. This is therefore a benchmark dataset to prove the performance of one's CNN over another.\n",
    "\n",
    "So let's enter this worldwide competition by building your own network, and maybe outperform existing CNN.\n",
    "\n",
    "# Google Colab\n",
    "\n",
    "It is probably best for you to do this exercise on Colab if you want to test computationally heavy architectures (do not forget that you can train some architecture while working on the next exercises - do not waste time staring at your screen ;) )\n",
    "\n",
    "# The data\n",
    "\n",
    "You can directly load the data from the Keras utils [here](https://www.tensorflow.org/api_docs/python/tf/keras/datasets/cifar100).\n",
    "\n",
    "# The architecture\n",
    "\n",
    "This is the day where you start building your architecture on your own. Do not hesitate to collaborate with other students or compare your model to see what is working or not. The goal is not only to get the best architecture but also get a sense of what is working or not.\n",
    "\n",
    "# How to go further\n",
    "\n",
    "Once you have an architecture you are satisfied of, you can:\n",
    "- perform some data augmentation techniques\n",
    "- perform some transfer learning by using already trained network\n",
    "- look around to see the code and architectures of other people that have worked on this challenge.\n",
    "\n",
    "\n",
    "Good luck!"
   ]
  },
  {
   "cell_type": "code",
   "execution_count": 0,
   "metadata": {},
   "outputs": [],
   "source": [
    "# The beginning of your journey HERE"
   ]
  }
 ],
 "metadata": {
  "kernelspec": {
   "display_name": "Python 3",
   "language": "python",
   "name": "python3"
  }
 },
 "nbformat": 4,
 "nbformat_minor": 2
}