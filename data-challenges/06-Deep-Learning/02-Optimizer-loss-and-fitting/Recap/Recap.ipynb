{
 "cells": [
  {
   "cell_type": "markdown",
   "id": "3238a304",
   "metadata": {},
   "source": [
    "# Data Pipelines with TensorFlow"
   ]
  },
  {
   "cell_type": "markdown",
   "id": "5d96a56d",
   "metadata": {},
   "source": [
    "**Objectives**\n",
    "- How to make pipelines with Deep Learning\n",
    "- How to load heavy data batch per batch"
   ]
  },
  {
   "cell_type": "markdown",
   "id": "04e317a6",
   "metadata": {},
   "source": [
    "# Part I: How to make pipelines with Deep Learning"
   ]
  },
  {
   "cell_type": "code",
   "execution_count": 0,
   "id": "5794801b",
   "metadata": {},
   "outputs": [],
   "source": [
    "import numpy as np\n",
    "import pandas as pd\n",
    "import tensorflow as tf"
   ]
  },
  {
   "cell_type": "markdown",
   "id": "4b2174d4",
   "metadata": {},
   "source": [
    "## Load data"
   ]
  },
  {
   "cell_type": "markdown",
   "id": "60384602",
   "metadata": {},
   "source": [
    "Let's load the **PetFinder** dataset. Each row describes a pet, and each column describes an attribute.  \n",
    "You will use this information to **predict if the pet will be adopted**. "
   ]
  },
  {
   "cell_type": "markdown",
   "id": "86b999b2",
   "metadata": {},
   "source": [
    "<details>\n",
    "    <summary>Below is a description of this dataset.\n",
    "</summary>\n",
    "\n",
    "Column | Description| Feature Type | Data Type\n",
    "------------|--------------------|----------------------|-----------------\n",
    "Type | Type of animal (Dog, Cat) | Categorical | string\n",
    "Age |  Age of the pet | Numerical | integer\n",
    "Breed1 | Primary breed of the pet | Categorical | string\n",
    "Color1 | Color 1 of pet | Categorical | string\n",
    "Color2 | Color 2 of pet | Categorical | string\n",
    "MaturitySize | Size at maturity | Categorical | string\n",
    "FurLength | Fur length | Categorical | string\n",
    "Vaccinated | Pet has been vaccinated | Categorical | string\n",
    "Sterilized | Pet has been sterilized | Categorical | string\n",
    "Health | Health Condition | Categorical | string\n",
    "Fee | Adoption Fee | Numerical | integer\n",
    "Description | Profile write-up for this pet | Text | string\n",
    "PhotoAmt | Total uploaded photos for this pet | Numerical | integer\n",
    "AdoptionSpeed | Speed of adoption | Classification | integer\n",
    "</details>"
   ]
  },
  {
   "cell_type": "code",
   "execution_count": 0,
   "id": "f4c20078",
   "metadata": {},
   "outputs": [],
   "source": [
    "dataframe = pd.read_csv(\"https://wagon-public-datasets.s3.amazonaws.com/petfinder.csv\")\n",
    "dataframe"
   ]
  },
  {
   "cell_type": "code",
   "execution_count": 0,
   "id": "d596aaed",
   "metadata": {},
   "outputs": [],
   "source": [
    "from sklearn.model_selection import train_test_split\n",
    "\n",
    "train, test = train_test_split(dataframe, test_size=0.2)\n",
    "train, val = train_test_split(train, test_size=0.2)\n",
    "print(len(train), 'train examples')\n",
    "print(len(val), 'validation examples')\n",
    "print(len(test), 'test examples')"
   ]
  },
  {
   "cell_type": "code",
   "execution_count": 0,
   "id": "ddbb34df",
   "metadata": {},
   "outputs": [],
   "source": [
    "X_train = train.drop(columns='target')\n",
    "y_train = train['target']\n",
    "\n",
    "X_val = val.drop(columns='target')\n",
    "y_val = val['target']\n",
    "\n",
    "X_test = test.drop(columns='target')\n",
    "y_test = test['target']"
   ]
  },
  {
   "cell_type": "markdown",
   "id": "205ddb45",
   "metadata": {},
   "source": [
    "☝️ Our dataset comprises of both Numerical and Categorical values. We need to preprocess them before feeding into a Neural Network.\n",
    "\n",
    "You have three options:\n",
    "\n",
    "**A**. Use sklean to preprocess data before feeding a neural network (no pipelines)  \n",
    "**B**. Wrap your neural network into a sklearn estimator (pipelines)  \n",
    "**C**. Use full Tensorflow pipelines  "
   ]
  },
  {
   "cell_type": "markdown",
   "id": "b656baf9",
   "metadata": {},
   "source": [
    "## A. Use sklean to preprocess data before feeding a neural network (no pipelines)"
   ]
  },
  {
   "cell_type": "markdown",
   "id": "c0c3b7cd",
   "metadata": {},
   "source": [
    "#### Preprocessing\n",
    "❓ Create a `X_train_preproc`, `X_val_preproc`, `X_test_preproc` scaling numerical data and One Hot Encoding categorical one"
   ]
  },
  {
   "cell_type": "code",
   "execution_count": 0,
   "id": "2bb2508d",
   "metadata": {},
   "outputs": [],
   "source": [
    "from sklearn.preprocessing import StandardScaler, OneHotEncoder\n",
    "from sklearn.compose import make_column_transformer, make_column_selector"
   ]
  },
  {
   "cell_type": "code",
   "execution_count": 0,
   "id": "836117b2",
   "metadata": {
    "tags": [
     "challengify"
    ]
   },
   "outputs": [],
   "source": [
    "# YOUR CODE HERE"
   ]
  },
  {
   "cell_type": "markdown",
   "id": "c642e449",
   "metadata": {},
   "source": [
    "#### Neural Network\n",
    "\n",
    "❓ Fit a Neural Network and evaluate its performance on the test set "
   ]
  },
  {
   "cell_type": "code",
   "execution_count": 0,
   "id": "5c267d69",
   "metadata": {},
   "outputs": [],
   "source": [
    "from tensorflow.keras import Sequential, layers\n",
    "from tensorflow.keras.layers.experimental import preprocessing\n",
    "from tensorflow.keras.callbacks import EarlyStopping"
   ]
  },
  {
   "cell_type": "code",
   "execution_count": 0,
   "id": "1163ef86",
   "metadata": {
    "tags": [
     "challengify"
    ]
   },
   "outputs": [],
   "source": [
    "# YOUR CODE HERE"
   ]
  },
  {
   "cell_type": "markdown",
   "id": "8c95cd28",
   "metadata": {},
   "source": [
    "## B. Wrap your neural network into a sklearn estimator & pipelines"
   ]
  },
  {
   "cell_type": "markdown",
   "id": "eae33610",
   "metadata": {},
   "source": [
    "We can actually treat a Keras model as a scikit-learn estimator, using [Keras Wrappers](https://www.tensorflow.org/api_docs/python/tf/keras/wrappers/scikit_learn)  \n",
    "It allows us to place the estimator inside a sklearn pipeline and include preprocessing inside. We can even gridsearch hyper-params."
   ]
  },
  {
   "cell_type": "markdown",
   "id": "93548a9e",
   "metadata": {},
   "source": [
    "❓Run the cells below to undersand the syntax"
   ]
  },
  {
   "cell_type": "code",
   "execution_count": 0,
   "id": "02195a84",
   "metadata": {},
   "outputs": [],
   "source": [
    "def create_model():\n",
    "    \n",
    "    # Define architecture without input shape yet, as we don't know the shape post preprocessing\n",
    "    model = Sequential()\n",
    "    model.add(layers.Dense(32, activation='relu'))\n",
    "    model.add(layers.Dropout(0.2))\n",
    "    model.add(layers.Dense(15, activation='relu'))\n",
    "    model.add(layers.Dropout(0.3))\n",
    "    model.add(layers.Dense(1, activation='sigmoid'))\n",
    "    \n",
    "    # Compile model\n",
    "    model.compile(loss='binary_crossentropy', \n",
    "                  optimizer='adam', \n",
    "                  metrics=['accuracy'])\n",
    "    return model"
   ]
  },
  {
   "cell_type": "code",
   "execution_count": 0,
   "id": "559d83f6",
   "metadata": {},
   "outputs": [],
   "source": [
    "from tensorflow.keras.wrappers.scikit_learn import KerasClassifier\n",
    "\n",
    "model = KerasClassifier(build_fn=create_model, \n",
    "                        epochs=10, \n",
    "                        batch_size=32, \n",
    "                        verbose=0)"
   ]
  },
  {
   "cell_type": "markdown",
   "id": "d6230f74",
   "metadata": {},
   "source": [
    "❓ Evaluate - or rather cross-validate - your estimator on your training set already preprocessed"
   ]
  },
  {
   "cell_type": "code",
   "execution_count": 0,
   "id": "ab3ae6a9",
   "metadata": {},
   "outputs": [],
   "source": [
    "from sklearn.model_selection import cross_val_score"
   ]
  },
  {
   "cell_type": "code",
   "execution_count": 0,
   "id": "6366b5d5",
   "metadata": {
    "tags": [
     "challengify"
    ]
   },
   "outputs": [],
   "source": [
    "# YOUR CODE HERE"
   ]
  },
  {
   "cell_type": "markdown",
   "id": "59ebe016",
   "metadata": {},
   "source": [
    "❓ Wrap your model inside a pipeline including preprocessing and evaluate it directly on the raw data this time"
   ]
  },
  {
   "cell_type": "code",
   "execution_count": 0,
   "id": "9725a409",
   "metadata": {},
   "outputs": [],
   "source": [
    "from sklearn.pipeline import make_pipeline"
   ]
  },
  {
   "cell_type": "code",
   "execution_count": 0,
   "id": "f9c8cf31",
   "metadata": {
    "tags": [
     "challengify"
    ]
   },
   "outputs": [],
   "source": [
    "# YOUR CODE HERE"
   ]
  },
  {
   "cell_type": "markdown",
   "id": "adda2a26",
   "metadata": {},
   "source": [
    "#### GridSearch CV on the pipeline!"
   ]
  },
  {
   "cell_type": "markdown",
   "id": "b882e679",
   "metadata": {},
   "source": [
    "Now that our model is pipelined, we can even grid_searched its hyper-parameters\n",
    "\n",
    "❓ Run the cells below to understand how the syntax works"
   ]
  },
  {
   "cell_type": "code",
   "execution_count": 0,
   "id": "9096913c",
   "metadata": {},
   "outputs": [],
   "source": [
    "def create_model_grid(activation = 'relu', \n",
    "                      optimizer='rmsprop'):\n",
    "    # create model\n",
    "    model = Sequential()\n",
    "    model.add(layers.Dense(32, activation=activation))\n",
    "    model.add(layers.Dropout(0.5))\n",
    "    model.add(layers.Dense(15, activation=activation))\n",
    "    model.add(layers.Dropout(0.2))\n",
    "    model.add(layers.Dense(1, activation='sigmoid'))\n",
    "    \n",
    "    # Compile model\n",
    "    model.compile(loss='binary_crossentropy', \n",
    "                  optimizer=optimizer, \n",
    "                  metrics=['accuracy'])\n",
    "    return model"
   ]
  },
  {
   "cell_type": "code",
   "execution_count": 0,
   "id": "a8554f51",
   "metadata": {},
   "outputs": [],
   "source": [
    "model_grid = KerasClassifier(\n",
    "    build_fn=create_model_grid,\n",
    "    epochs=10,\n",
    "    batch_size=32,\n",
    "    verbose=0,\n",
    ")"
   ]
  },
  {
   "cell_type": "code",
   "execution_count": 0,
   "id": "2df36cf8",
   "metadata": {},
   "outputs": [],
   "source": [
    "pipe_grid = make_pipeline(preproc, model_grid)\n",
    "#pipe_grid.get_params()"
   ]
  },
  {
   "cell_type": "code",
   "execution_count": 0,
   "id": "cb29f068",
   "metadata": {},
   "outputs": [],
   "source": [
    "# Now, we can gridsearch the hyper-params of everything\n",
    "# From the preprocessing, the architecture, the compiler, and the fit!\n",
    "\n",
    "from sklearn.model_selection import GridSearchCV\n",
    "\n",
    "param_grid = dict(\n",
    "    columntransformer__standardscaler__with_mean=[True, False], # Preprocessing hyperparams\n",
    "    kerasclassifier__activation=['tanh', 'relu'], # Architecture hyperparams\n",
    "    kerasclassifier__optimizer=[\"adam\", \"rmsprop\"], # Compiler hyperparams\n",
    "    kerasclassifier__batch_size=[8, 64], # Fit hyperparams\n",
    ")\n",
    "\n",
    "grid = GridSearchCV(estimator=pipe_grid,\n",
    "                    param_grid=param_grid,\n",
    "                    cv=2,\n",
    "                    verbose=2,\n",
    "                    n_jobs=-1)"
   ]
  },
  {
   "cell_type": "code",
   "execution_count": 0,
   "id": "2b1d4935",
   "metadata": {},
   "outputs": [],
   "source": [
    "grid.fit(X_train, y_train);"
   ]
  },
  {
   "cell_type": "code",
   "execution_count": 0,
   "id": "213909f9",
   "metadata": {},
   "outputs": [],
   "source": [
    "grid.best_params_"
   ]
  },
  {
   "cell_type": "code",
   "execution_count": 0,
   "id": "7f17cfe7",
   "metadata": {},
   "outputs": [],
   "source": [
    "grid.best_score_"
   ]
  },
  {
   "cell_type": "code",
   "execution_count": 0,
   "id": "796bdf11",
   "metadata": {},
   "outputs": [],
   "source": [
    "cross_val_score(grid.best_estimator_, X_train, y_train)"
   ]
  },
  {
   "cell_type": "markdown",
   "id": "c08b00f6",
   "metadata": {},
   "source": [
    "## Option C: Full pipeline in Tensorflow"
   ]
  },
  {
   "cell_type": "markdown",
   "id": "032dded9",
   "metadata": {},
   "source": [
    "This option is recommended for real projects, especially when you need (i) performance or (ii) production-readiness\n",
    "\n",
    "\n",
    "<details>\n",
    "    <summary>Why?</summary>\n",
    "\n",
    "Indeed, having all preprocessing inside one single TensorFlow Keras model allows to generate one [`tf.Graph`](https://www.tensorflow.org/guide/intro_to_graphs) representation of your model, which is mandatory for distributed computation and serving on many devices (using Tensorflow Lite for back-end-free predictions for instance). \n",
    "</details>"
   ]
  },
  {
   "cell_type": "markdown",
   "id": "826c7c51",
   "metadata": {},
   "source": [
    "The idea is to use **Normalization** and **CategoryEncoding** layers within your model architecture."
   ]
  },
  {
   "cell_type": "markdown",
   "id": "89059562",
   "metadata": {},
   "source": [
    "### 😌 If the preproc pipeline is sequential, everything is easy"
   ]
  },
  {
   "attachments": {
    "image.png": {
     "image/png": "[encoded data removed]"
    }
   },
   "cell_type": "markdown",
   "id": "73083d9a",
   "metadata": {},
   "source": [
    "![image.png](attachment:image.png)"
   ]
  },
  {
   "cell_type": "markdown",
   "id": "3d2d3509",
   "metadata": {},
   "source": [
    "For instance, if there were only numerical data on our dataset:"
   ]
  },
  {
   "cell_type": "code",
   "execution_count": 0,
   "id": "443ed857",
   "metadata": {},
   "outputs": [],
   "source": [
    "# Imagine we only have numerical data to scale\n",
    "X_train_num = X_train.select_dtypes(exclude=['object']).values\n",
    "X_val_num = X_val.select_dtypes(exclude=['object']).values\n",
    "X_test_num = X_test.select_dtypes(exclude=['object']).values"
   ]
  },
  {
   "cell_type": "code",
   "execution_count": 0,
   "id": "948ec146",
   "metadata": {},
   "outputs": [],
   "source": [
    "from tensorflow.keras.layers.experimental.preprocessing import Normalization\n",
    "\n",
    "normalizer = Normalization() # Instantiate a \"normalizer\" layer\n",
    "normalizer.adapt(X_train_num) # \"Fit\" it on the train set\n",
    "\n",
    "model = Sequential()\n",
    "model.add(normalizer) # Use it as first sequential step\n",
    "model.add(layers.Dense(32, activation='relu'))\n",
    "model.add(layers.Dropout(0.2))\n",
    "model.add(layers.Dense(15, activation='relu'))\n",
    "model.add(layers.Dropout(0.3a))\n",
    "model.add(layers.Dense(1, activation='sigmoid'))\n",
    "\n",
    "# Compile model\n",
    "model.compile(loss='binary_crossentropy', \n",
    "              optimizer='adam', \n",
    "              metrics=['accuracy'])\n",
    "\n",
    "model.fit(X_train_num,\n",
    "          y_train,\n",
    "          validation_data=(X_val_num, y_val),\n",
    "          batch_size=64,\n",
    "          epochs=20, verbose=0)\n",
    "\n",
    "model.evaluate(X_test_num, y_test)"
   ]
  },
  {
   "cell_type": "markdown",
   "id": "2157bdb2",
   "metadata": {},
   "source": [
    "### 🤯 if the preproc pipeline requires parallel column transformers, TF Sequential API `model.add(...)` is not enough "
   ]
  },
  {
   "attachments": {
    "image.png": {
     "image/png": "[encoded data removed]"
    }
   },
   "cell_type": "markdown",
   "id": "7f158427",
   "metadata": {},
   "source": [
    "![image.png](attachment:image.png)"
   ]
  },
  {
   "cell_type": "markdown",
   "id": "2eb25cd0",
   "metadata": {},
   "source": [
    "☝️ You will need to use TF **Fonctional API** to produce a non-sequential Neural Network\n",
    "\n",
    "Don't worry: you **will** be able to learn how to build such models if you want.\n",
    "\n",
    "📚 [Google's Tutorial](https://www.tensorflow.org/tutorials/structured_data/preprocessing_layers) show you how to solve this exact PetFinder dataset with this method\n",
    "\n",
    "Non-sequential models look something like:"
   ]
  },
  {
   "cell_type": "markdown",
   "id": "e1babbb7",
   "metadata": {},
   "source": [
    "```python\n",
    "# Numerical preprocessing model = function(X_numerical)\n",
    "model_numerical = ...  \n",
    "\n",
    "# Categorical preprocessing model = function(X_categorical)\n",
    "model_categorical = ...\n",
    "\n",
    "# Combined model\n",
    "all_features = layers.concatenate([model_numerical, model_categorical])\n",
    "\n",
    "# Then create the Dense network on the preprocessed features\n",
    "x = tf.keras.layers.Dense(8, activation=\"relu\")(all_features)\n",
    "x = tf.keras.layers.Dense(2, activation=\"relu\")(x)\n",
    "output = tf.keras.layers.Dense(1, activation=\"sigmoid\")(x)\n",
    "\n",
    "model = tf.keras.Model(all_inputs, output)\n",
    "\n",
    "model.compile(...)\n",
    "```"
   ]
  },
  {
   "cell_type": "markdown",
   "id": "061cc8fd",
   "metadata": {},
   "source": [
    "<img src='https://github.com/lewagon/data-images/blob/master/DL/non_sequential_models.png?raw=true' width=400>"
   ]
  },
  {
   "cell_type": "markdown",
   "id": "056c70b8",
   "metadata": {},
   "source": [
    "---\n",
    "\n",
    "# Part II. How to deal with heavy datasets?"
   ]
  },
  {
   "cell_type": "markdown",
   "id": "01bd5426",
   "metadata": {},
   "source": [
    "⚠️ Most Deep Learning project uses data **too heavy to be loaded on RAM entirely**  \n",
    "  Fortunately, we only have to train our network **batch per batch**!\n",
    "\n",
    "✅ Tensorflow provides a powerful [`tf.data.Dataset`]() class that help to deal with it data loading and processing batch-per-batch\n",
    "\n",
    "✅ Keras provides cool [`tf.keras.preprocessing`](https://www.tensorflow.org/api_docs/python/tf/keras/preprocessing) wrappers around this to avoid getting your hand too dirty:\n",
    "- `image_dataset_from_directory`\n",
    "- `text_dataset_from_directory`\n",
    "- `timeseries_dataset_from_array`\n",
    "\n",
    "Let's illustrate this with a heavy images datasets"
   ]
  },
  {
   "cell_type": "markdown",
   "id": "90f37980",
   "metadata": {},
   "source": [
    "### 1. Save large files on a hard drive (local or cloud)"
   ]
  },
  {
   "cell_type": "markdown",
   "id": "d222fe43",
   "metadata": {},
   "source": [
    "❓ Run following cells (never mind the syntax)"
   ]
  },
  {
   "cell_type": "code",
   "execution_count": 0,
   "id": "ff7d29a3",
   "metadata": {},
   "outputs": [],
   "source": [
    "! pip install -U --quiet tensorflow_datasets Pillow"
   ]
  },
  {
   "cell_type": "code",
   "execution_count": 0,
   "id": "6129eb14",
   "metadata": {},
   "outputs": [],
   "source": [
    "import numpy as np\n",
    "import os\n",
    "import PIL\n",
    "import PIL.Image\n",
    "import tensorflow as tf\n",
    "import tensorflow_datasets as tfds\n",
    "import pathlib\n",
    "import matplotlib.pyplot as plt"
   ]
  },
  {
   "cell_type": "code",
   "execution_count": 0,
   "id": "a0ddfb04",
   "metadata": {},
   "outputs": [],
   "source": [
    "# We download 229Mo of images\n",
    "\n",
    "dataset_url = \"https://storage.googleapis.com/download.tensorflow.org/example_images/flower_photos.tgz\"\n",
    "data_dir = tf.keras.utils.get_file(origin=dataset_url, \n",
    "                                   fname='flower_photos', \n",
    "                                   untar=True)\n",
    "data_dir = pathlib.Path(data_dir)"
   ]
  },
  {
   "cell_type": "code",
   "execution_count": 0,
   "id": "5dddf1be",
   "metadata": {},
   "outputs": [],
   "source": [
    "# We just unzipped and saved all these file in the following folder \n",
    "data_dir"
   ]
  },
  {
   "cell_type": "code",
   "execution_count": 0,
   "id": "30d51093",
   "metadata": {},
   "outputs": [],
   "source": [
    "# Notice how each photo is saved in a different folder depending on its category\n",
    "! ls $data_dir"
   ]
  },
  {
   "cell_type": "code",
   "execution_count": 0,
   "id": "e3650731",
   "metadata": {},
   "outputs": [],
   "source": [
    "# In total we have 229Mo of files, compressed.\n",
    "# Imagine they were 50Go ? They couldn't fit in RAM\n",
    "! du -h $data_dir"
   ]
  },
  {
   "cell_type": "code",
   "execution_count": 0,
   "id": "1d58ab6b",
   "metadata": {},
   "outputs": [],
   "source": [
    "# We have 3670 jpg images in 5 classes\n",
    "len(list(data_dir.glob('*/*.jpg')))"
   ]
  },
  {
   "cell_type": "code",
   "execution_count": 0,
   "id": "ac7cdc9c",
   "metadata": {},
   "outputs": [],
   "source": [
    "# Just look at one image\n",
    "sunflowers = list(data_dir.glob('sunflowers/*'))\n",
    "PIL.Image.open(str(sunflowers[0]))"
   ]
  },
  {
   "cell_type": "markdown",
   "id": "bbcde112",
   "metadata": {},
   "source": [
    "### 2. Prepare to load images in RAM memory batch per batch "
   ]
  },
  {
   "cell_type": "markdown",
   "id": "fb667632",
   "metadata": {},
   "source": [
    "We will use `image_dataset_from_directory`"
   ]
  },
  {
   "cell_type": "code",
   "execution_count": 0,
   "id": "fb4cdfc4",
   "metadata": {},
   "outputs": [],
   "source": [
    "from tensorflow.keras.preprocessing import image_dataset_from_directory"
   ]
  },
  {
   "cell_type": "code",
   "execution_count": 0,
   "id": "e5220983",
   "metadata": {},
   "outputs": [],
   "source": [
    "ds = tf.keras.preprocessing.image_dataset_from_directory(\n",
    "  data_dir,\n",
    "  batch_size=32)"
   ]
  },
  {
   "cell_type": "markdown",
   "id": "dc16de8b",
   "metadata": {},
   "source": [
    "☝️ Notice how it automatically labels data into the 5 class!\n",
    "- By default, `labels='inferred'` from the folder structure\n",
    "- You can pass a list of labels manually with a list integer"
   ]
  },
  {
   "cell_type": "code",
   "execution_count": 0,
   "id": "a129f26a",
   "metadata": {},
   "outputs": [],
   "source": [
    "# `ds` is a `tf.data.Dataset` object of \"tuples\"\n",
    "ds"
   ]
  },
  {
   "cell_type": "code",
   "execution_count": 0,
   "id": "7732b046",
   "metadata": {},
   "outputs": [],
   "source": [
    "# Dataset contain no real data until they are iterated over \n",
    "import sys\n",
    "sys.getsizeof(ds)"
   ]
  },
  {
   "cell_type": "code",
   "execution_count": 0,
   "id": "80a097b9",
   "metadata": {},
   "outputs": [],
   "source": [
    "for (X_batch, y_batch)  in ds:\n",
    "    print(X_batch.shape)\n",
    "    print(y_batch.shape)\n",
    "    \n",
    "    break # just show the first element"
   ]
  },
  {
   "cell_type": "code",
   "execution_count": 0,
   "id": "704471d0",
   "metadata": {},
   "outputs": [],
   "source": [
    "# check first image\n",
    "plt.imshow(X_batch[0]/255);"
   ]
  },
  {
   "cell_type": "markdown",
   "id": "b593d09b",
   "metadata": {},
   "source": [
    "`tf.data.Dataset` are just an abstraction that represents a sequence of elements. They allow to\n",
    "\n",
    "- Load elements batch-per-batch in memory\n",
    "- From different formats, storage places, etc...\n",
    "- Apply preprocessing on the fly (ex: shuffle, resize, and many many more)\n",
    "\n",
    "📚 [TF Guide on data](https://www.tensorflow.org/guide/data)"
   ]
  },
  {
   "cell_type": "markdown",
   "id": "060c4f46",
   "metadata": {},
   "source": [
    "### Train a model directly on a `Dataset`"
   ]
  },
  {
   "cell_type": "markdown",
   "id": "5dee56a0",
   "metadata": {},
   "source": [
    "❓ Try to fit a very simple dense NN on `ds` \n",
    "\n",
    "- You can directly call `model.fit(ds, epochs=1)`\n",
    "- Your first layer should use `layers.Flatten` to flatten a (256,256,3) picture in into a (256 * 256 * 3,) vector so acceptable for Dense layers\n",
    "- You can use `loss='sparse_categorical_crossentropy'`: \"sparse_\" avoids one-hot-encoding the target with `to_categorical(y)`\n"
   ]
  },
  {
   "cell_type": "code",
   "execution_count": 0,
   "id": "a8bf4a86",
   "metadata": {
    "tags": [
     "challengify"
    ]
   },
   "outputs": [],
   "source": [
    "# YOUR CODE HERE"
   ]
  },
  {
   "cell_type": "markdown",
   "id": "bf57a984",
   "metadata": {},
   "source": [
    "💡 Accuracy is no better than random because such Dense model architecture is not fitted to the task\n",
    "\n",
    "In next session, we will use **convolutional neural networks (CNN)**"
   ]
  },
  {
   "cell_type": "markdown",
   "id": "f28e2c93",
   "metadata": {},
   "source": [
    "### (bonus) Proper solution to the flower problem using CNN & early stopping"
   ]
  },
  {
   "cell_type": "code",
   "execution_count": 0,
   "id": "ee7960b2",
   "metadata": {},
   "outputs": [],
   "source": [
    "train_ds = image_dataset_from_directory(\n",
    "    data_dir,\n",
    "    validation_split=0.2,\n",
    "    subset=\"training\",\n",
    "    seed=123,\n",
    "    image_size=(64, 64), # resize on the fly\n",
    "    batch_size=32)\n",
    "\n",
    "val_ds = image_dataset_from_directory(\n",
    "    data_dir,\n",
    "    validation_split=0.2,\n",
    "    subset=\"validation\",\n",
    "    seed=123,\n",
    "    image_size=(64, 64), # resize on the fly\n",
    "    batch_size=32)"
   ]
  },
  {
   "cell_type": "code",
   "execution_count": 0,
   "id": "2c38c40d",
   "metadata": {},
   "outputs": [],
   "source": [
    "model = tf.keras.Sequential()\n",
    "model.add(layers.experimental.preprocessing.Rescaling(1. / 255))\n",
    "model.add(layers.Conv2D(32, 3, activation='relu'))\n",
    "model.add(layers.MaxPooling2D())\n",
    "model.add(layers.Conv2D(32, 3, activation='relu'))\n",
    "model.add(layers.MaxPooling2D())\n",
    "model.add(layers.Conv2D(32, 3, activation='relu'))\n",
    "model.add(layers.MaxPooling2D())\n",
    "model.add(layers.Flatten())\n",
    "model.add(layers.Dense(64, activation='relu'))\n",
    "model.add(layers.Dense(5, activation='softmax'))\n",
    "\n",
    "model.compile(optimizer='adam',\n",
    "              loss='sparse_categorical_crossentropy',\n",
    "              metrics=['accuracy'])\n",
    "\n",
    "model.fit(\n",
    "    train_ds,\n",
    "    validation_data=val_ds,\n",
    "    epochs=5,\n",
    "    callbacks=[EarlyStopping(patience=0)]\n",
    ")"
   ]
  },
  {
   "cell_type": "markdown",
   "id": "6b8cd36e",
   "metadata": {},
   "source": [
    "🏁 **Congratulation** 🏁"
   ]
  }
 ],
 "metadata": {
  "kernelspec": {
   "display_name": "Python 3",
   "language": "python",
   "name": "python3"
  }
 },
 "nbformat": 4,
 "nbformat_minor": 5
}