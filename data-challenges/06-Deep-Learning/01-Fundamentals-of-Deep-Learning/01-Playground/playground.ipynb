{
 "cells": [
  {
   "cell_type": "markdown",
   "metadata": {},
   "source": [
    "# Deep Learning week - Day 1 - Playground\n",
    "\n",
    "### Objectives:\n",
    "\n",
    "- Get a visual representation of Neural Networks\n",
    "- Get a better intuition of what Neural Networks are doing\n",
    "\n",
    "<hr>\n",
    "\n",
    "This first exercise does not require much code"
   ]
  },
  {
   "cell_type": "markdown",
   "metadata": {},
   "source": [
    "# 1 - The data\n",
    "\n",
    "Let's go on the [Playground](https://playground.tensorflow.org/#activation=tanh&batchSize=10&dataset=spiral&regDataset=reg-plane&learningRate=0.03&regularizationRate=0&noise=0&networkShape=2&seed=0.23545&showTestData=false&discretize=false&percTrainData=70&x=true&y=true&xTimesY=false&xSquared=false&ySquared=false&cosX=false&sinX=false&cosY=false&sinY=false&collectStats=false&problem=classification&initZero=false&hideText=false&regularization_hide=true&showTestData_hide=false&stepButton_hide=false&activation_hide=false&problem_hide=false&batchSize_hide=true&dataset_hide=false&resetButton_hide=false&discretize_hide=false&playButton_hide=false&learningRate_hide=true&regularizationRate_hide=true&percTrainData_hide=false&numHiddenLayers_hide=false) and select the following type of data : \n",
    "\n",
    "- A classification problem \n",
    "- The circle dataset (blue dots inside a circle of oranges dots)\n",
    "- Ratio of training to test data : 70%\n",
    "- No noise (=0)\n",
    "- Do not show test data (right panel) and do not discretize the output\n",
    "- Activation function: `ReLU` (💡In general, try it by default. It appears to work better for many problems!)[Note: Playground only allows you to select **one** activation function used for **all** the **hidden** layers]\n"
   ]
  },
  {
   "cell_type": "markdown",
   "metadata": {},
   "source": [
    "# 2 - The features\n",
    "\n",
    "Here, select only the features $X_1$ and $X_2$ - unselect the other features if necessary.\n",
    "\n",
    "❓ Question ❓ In the case where you use the other variables, as $X_1^{2}$, $X_2^{2}$, $X_1 X_2$, $sin(X_1)$ and $sin(X_2)$, what type of classic Machine Learning operation does it corresponds to?\n",
    "\n",
    "<details>\n",
    "    <summary>Answer</summary>\n",
    "\n",
    "It corresponds to some type of feature engineering where you transform them (by multiplication or by applying a sinus).\n",
    "\n",
    "</details>\n",
    "\n",
    "Here, in this exercise but also tomorrow, we will only use the raw input features $X_1$ and $X_2$. "
   ]
  },
  {
   "cell_type": "markdown",
   "metadata": {},
   "source": [
    "# 3 - Fit"
   ]
  },
  {
   "cell_type": "markdown",
   "metadata": {},
   "source": [
    "Build a model that has : \n",
    "- three hidden layers\n",
    "- 5 neurons on the first hidden layer\n",
    "- 4 neurons on the second hidden layer\n",
    "- 3 neurons on the last hidden layer\n",
    "- In Playground, the output layer is not represented: Fot such binary classification task, it will automatically be a dense layer with 1 neuron activated by sigmoid\n",
    "\n",
    "Fit it and stop iterations when loss has stabilized.\n",
    "\n",
    "\n",
    "❓ Question ❓ \n",
    "\n",
    "- Look at the individual neurons and try to understand what each neuron specializes in (after the fit)?\n",
    "- What do you think about the overall shape your results? Try with different activation to compare. Can you make it work with \"Linear\"?"
   ]
  },
  {
   "cell_type": "markdown",
   "metadata": {
    "tags": [
     "challengify"
    ]
   },
   "source": [
    "> YOUR ANSWER HERE"
   ]
  },
  {
   "cell_type": "markdown",
   "metadata": {},
   "source": [
    "# 4 - Neural network in Keras\n",
    "\n",
    "Let's write the same model - at least the architecture - in Keras. It will corresponds to the following code."
   ]
  },
  {
   "cell_type": "code",
   "execution_count": 1,
   "metadata": {
    "ExecuteTime": {
     "end_time": "2021-11-08T09:52:28.709319Z",
     "start_time": "2021-11-08T09:52:25.008370Z"
    }
   },
   "outputs": [
    {
     "name": "stderr",
     "output_type": "stream",
     "text": [
      "2021-11-08 10:52:25.852140: W tensorflow/stream_executor/platform/default/dso_loader.cc:64] Could not load dynamic library 'libcudart.so.11.0'; dlerror: libcudart.so.11.0: cannot open shared object file: No such file or directory\n",
      "2021-11-08 10:52:25.852202: I tensorflow/stream_executor/cuda/cudart_stub.cc:29] Ignore above cudart dlerror if you do not have a GPU set up on your machine.\n",
      "2021-11-08 10:52:28.643267: W tensorflow/stream_executor/platform/default/dso_loader.cc:64] Could not load dynamic library 'libcuda.so.1'; dlerror: libcuda.so.1: cannot open shared object file: No such file or directory\n",
      "2021-11-08 10:52:28.643312: W tensorflow/stream_executor/cuda/cuda_driver.cc:326] failed call to cuInit: UNKNOWN ERROR (303)\n",
      "2021-11-08 10:52:28.643422: I tensorflow/stream_executor/cuda/cuda_diagnostics.cc:156] kernel driver does not appear to be running on this host (LAPTOP-JM9NF235): /proc/driver/nvidia/version does not exist\n",
      "2021-11-08 10:52:28.643739: I tensorflow/core/platform/cpu_feature_guard.cc:142] This TensorFlow binary is optimized with oneAPI Deep Neural Network Library (oneDNN) to use the following CPU instructions in performance-critical operations:  AVX2 FMA\n",
      "To enable them in other operations, rebuild TensorFlow with the appropriate compiler flags.\n"
     ]
    }
   ],
   "source": [
    "from tensorflow.keras import models\n",
    "from tensorflow.keras import layers\n",
    "\n",
    "model = models.Sequential()\n",
    "\n",
    "model.add(layers.Dense(5, activation='relu', input_dim=2)) # First hidden layer with 5 neurons\n",
    "model.add(layers.Dense(4, activation='relu')) # Second hidden layer with 4 neurons\n",
    "model.add(layers.Dense(3, activation='relu')) # Third hidden layer with 3 neurons\n",
    "\n",
    "# Output layer that outputs a probability which is\n",
    "# necessary in the case of a 2 class classification problem\n",
    "model.add(layers.Dense(1, activation='sigmoid')) \n",
    "\n",
    "# For now, let's skip the model.compile() and the model.fit()"
   ]
  },
  {
   "cell_type": "markdown",
   "metadata": {},
   "source": [
    "The `input_dim` of the first layer corresponds to the number of input features, which is 2 here, $X_1$ and $X_2$. It is mandatory for the first layer. The fact that you here define a `Sequential` model makes the following layer aware of the input size based on the output size of the previous layers"
   ]
  },
  {
   "cell_type": "markdown",
   "metadata": {},
   "source": [
    "# 5 - Change the dataset\n",
    "\n",
    "Change the dataset for the \"XOR - Exclusive Or\".\n",
    "\n",
    "❓ Question ❓ \n",
    "- Go back to Playground and try to design a model with two hidden layers (you are free to choose the number of neurons per layer yourself) that has a very small **test loss**. \n",
    "- Once you have your model on Playground, write it below with the Keras library"
   ]
  },
  {
   "cell_type": "code",
   "execution_count": 2,
   "metadata": {
    "ExecuteTime": {
     "end_time": "2021-11-08T09:57:49.087548Z",
     "start_time": "2021-11-08T09:57:49.055427Z"
    },
    "tags": [
     "challengify"
    ]
   },
   "outputs": [],
   "source": [
    "model.add(layers.Dense(4, activation='relu', input_dim=2)) # First hidden layer with 5 neurons\n",
    "model.add(layers.Dense(2, activation='relu')) # Second hidden layer with 4 neurons\n",
    "\n",
    "# Output layer that outputs a probability which is\n",
    "# necessary in the case of a 2 class classification problem\n",
    "model.add(layers.Dense(1, activation='sigmoid')) "
   ]
  },
  {
   "cell_type": "markdown",
   "metadata": {},
   "source": [
    "❓ Question ❓ Try to repeat the same process with the **Spiral**! "
   ]
  },
  {
   "cell_type": "code",
   "execution_count": 3,
   "metadata": {
    "ExecuteTime": {
     "end_time": "2021-11-08T10:01:17.107700Z",
     "start_time": "2021-11-08T10:01:17.069694Z"
    },
    "tags": [
     "challengify"
    ]
   },
   "outputs": [],
   "source": [
    "model.add(layers.Dense(8, activation='relu', input_dim=2)) # First hidden layer with 5 neurons\n",
    "model.add(layers.Dense(6, activation='relu')) # Second hidden layer with 4 neurons\n",
    "\n",
    "# Output layer that outputs a probability which is\n",
    "# necessary in the case of a 2 class classification problem\n",
    "model.add(layers.Dense(1, activation='sigmoid')) "
   ]
  },
  {
   "cell_type": "markdown",
   "metadata": {},
   "source": [
    "☝️ Much more weights are needed to fit this dataset, isn't it?\n",
    "\n",
    "With deep enough models, you can pretty much fit any pattern.  The problem is about avoiding **overfitting**. Add a good deal of noise and you _may_ see your model learning \"too much\" on this noise. We will see in the next day of the module how to manage overfitting.\n",
    "\n",
    "&nbsp;\n",
    "\n",
    "<details>\n",
    "    <summary>A picture of overfitting in Playground</summary>\n",
    "    \n",
    "<img src='https://github.com/lewagon/data-images/blob/master/DL/playground-overfitting.png?raw=true' width=700 style='margin:auto'>\n",
    "</details>"
   ]
  },
  {
   "cell_type": "markdown",
   "metadata": {},
   "source": [
    "# 6 - Regression\n",
    "\n",
    "Now, switch the problem type to a regression problem. \n",
    "\n",
    "This time, the last layer will no longer look like  \n",
    "`model.add(layers.Dense(1, activation='sigmoid'))`\n",
    "\n",
    "but instead  \n",
    "`model.add(layers.Dense(1, activation='linear'))`\n",
    "\n",
    "meaning that you output 1 final value which is between $ -\\infty$ and $+ \\infty$ \n",
    "\n",
    "❓ Question ❓ Find on Playground a neural network that fits well the second regression dataset and write its architecture in Keras : "
   ]
  },
  {
   "cell_type": "code",
   "execution_count": 4,
   "metadata": {
    "ExecuteTime": {
     "end_time": "2021-11-08T10:11:06.569490Z",
     "start_time": "2021-11-08T10:11:06.536018Z"
    },
    "tags": [
     "challengify"
    ]
   },
   "outputs": [],
   "source": [
    "model.add(layers.Dense(4, activation='relu', input_dim=2)) # First hidden layer with 5 neurons\n",
    "model.add(layers.Dense(2, activation='relu')) # Second hidden layer with 4 neurons\n",
    "\n",
    "# Output layer that outputs a probability which is\n",
    "# necessary in the case of a 2 class classification problem\n",
    "model.add(layers.Dense(1, activation='linear')) "
   ]
  },
  {
   "cell_type": "markdown",
   "metadata": {},
   "source": [
    "### 🏁 You are now ready to do the same things with Keras directly !\n",
    "Don't forget to commit and push your notebook"
   ]
  }
 ],
 "metadata": {
  "kernelspec": {
   "display_name": "Python 3 (ipykernel)",
   "language": "python",
   "name": "python3"
  },
  "language_info": {
   "codemirror_mode": {
    "name": "ipython",
    "version": 3
   },
   "file_extension": ".py",
   "mimetype": "text/x-python",
   "name": "python",
   "nbconvert_exporter": "python",
   "pygments_lexer": "ipython3",
   "version": "3.8.12"
  },
  "toc": {
   "base_numbering": 1,
   "nav_menu": {},
   "number_sections": true,
   "sideBar": true,
   "skip_h1_title": false,
   "title_cell": "Table of Contents",
   "title_sidebar": "Contents",
   "toc_cell": false,
   "toc_position": {},
   "toc_section_display": true,
   "toc_window_display": false
  }
 },
 "nbformat": 4,
 "nbformat_minor": 2
}
